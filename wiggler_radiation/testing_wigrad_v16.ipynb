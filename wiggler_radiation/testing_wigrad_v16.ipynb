{
 "cells": [
  {
   "cell_type": "code",
   "execution_count": 2,
   "metadata": {},
   "outputs": [],
   "source": [
    "import numpy as np\n",
    "import fur.path_assistant as path_assistant\n",
    "from config import get_from_config\n",
    "from transmission_data import transmission_function\n",
    "from wigrad import Wiggler, WigglerRadiationSimulator\n",
    "\n",
    "\n",
    "def get_rad_mesh_tuple(config_style_mesh=None, zobs_in=None):\n",
    "    if config_style_mesh is None:\n",
    "        rad_mesh = get_from_config(\"radiation_mesh\")\n",
    "    else:\n",
    "        rad_mesh = config_style_mesh\n",
    "    if zobs_in is None:\n",
    "        zobs = get_from_config(\"z_obs_m\")\n",
    "    else:\n",
    "        zobs = zobs_in\n",
    "    theta_xs = rad_mesh[0][0]/zobs\n",
    "    theta_xf = rad_mesh[0][1]/zobs\n",
    "    theta_ys = rad_mesh[1][0]/zobs\n",
    "    theta_yf = rad_mesh[1][1]/zobs\n",
    "    xbins = rad_mesh[0][2]\n",
    "    ybins = rad_mesh[1][2]\n",
    "    ls = rad_mesh[2][0]\n",
    "    lf = rad_mesh[2][1]\n",
    "    lbins = rad_mesh[2][2]\n",
    "    mesh = (np.linspace(theta_xs, theta_xf, xbins),\n",
    "            np.linspace(theta_ys, theta_yf, ybins),\n",
    "            np.linspace(ls, lf, lbins))\n",
    "    return mesh\n",
    "\n",
    "\n",
    "def generate_wr_sim_for_plotting(config_style_mesh=None):\n",
    "    wiggler = Wiggler(K_peak=get_from_config(\"K_peak\"))\n",
    "    mesh = get_rad_mesh_tuple(config_style_mesh)\n",
    "    spectral_transmission = transmission_function(mesh[2])\n",
    "    wr_sim = WigglerRadiationSimulator(\n",
    "        wiggler,\n",
    "        mesh,\n",
    "        gamma=get_from_config(\"gamma\"),\n",
    "        harmonics=[1, 2],\n",
    "        aperture=None,  # 'ellipse',\n",
    "        # if False, then both polarizations are calculated separately\n",
    "        only_calc_sum_of_both_polarizations=False,  # True,\n",
    "        spectral_transmission=None  # spectral_transmission\n",
    "    )\n",
    "    return wr_sim\n",
    "\n",
    "\n",
    "def generate_wr_sim_with_wigrad_results(config_style_mesh=None):\n",
    "    wiggler = Wiggler(K_peak=get_from_config(\"K_peak\"))\n",
    "    mesh0 = get_rad_mesh_tuple(config_style_mesh)\n",
    "    mesh = (mesh0[0][int(len(mesh0[0])/2):],\n",
    "            mesh0[1][int(len(mesh0[1])/2):],\n",
    "            mesh0[2])\n",
    "    spectral_transmission = transmission_function(mesh[2])\n",
    "    wr_sim = WigglerRadiationSimulator(\n",
    "        wiggler,\n",
    "        mesh,\n",
    "        gamma=get_from_config(\"gamma\"),\n",
    "        harmonics=[1, 2],\n",
    "        aperture='ellipse',\n",
    "        spectral_transmission=spectral_transmission\n",
    "    )\n",
    "    wr_sim.calc_amplitude_on_meshgrid()\n",
    "    wr_sim.extend_results_using_symmetries()\n",
    "    return wr_sim"
   ]
  },
  {
   "cell_type": "code",
   "execution_count": 3,
   "metadata": {},
   "outputs": [],
   "source": [
    "wr_sim = generate_wr_sim_with_wigrad_results()"
   ]
  },
  {
   "cell_type": "code",
   "execution_count": 5,
   "metadata": {},
   "outputs": [
    {
     "output_type": "execute_result",
     "data": {
      "text/plain": "-424615853.75926"
     },
     "metadata": {},
     "execution_count": 5
    }
   ],
   "source": [
    "wr_sim.get_amplittude_3D(polarization='x').sum()"
   ]
  },
  {
   "cell_type": "code",
   "execution_count": null,
   "metadata": {},
   "outputs": [],
   "source": []
  }
 ],
 "metadata": {
  "kernelspec": {
   "display_name": "fur",
   "language": "python",
   "name": "fur"
  },
  "language_info": {
   "codemirror_mode": {
    "name": "ipython",
    "version": 3
   },
   "file_extension": ".py",
   "mimetype": "text/x-python",
   "name": "python",
   "nbconvert_exporter": "python",
   "pygments_lexer": "ipython3",
   "version": "3.6.8"
  }
 },
 "nbformat": 4,
 "nbformat_minor": 4
}