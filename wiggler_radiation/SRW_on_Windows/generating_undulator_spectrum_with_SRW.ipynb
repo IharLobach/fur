{
 "cells": [
  {
   "cell_type": "code",
   "execution_count": 4,
   "metadata": {},
   "outputs": [],
   "source": [
    "import sys\n",
    "sys.path.append('C:/Users/ilobach/Documents/SRW/SRW-master/env/work/srw_python')\n",
    "sys.path.append('C:/Users/lobac_000/Documents/UHCICAGO/Thesis/SRW/SRW-master/env/work/srw_python')\n",
    "sys.path.append('G:/My Drive/UHCICAGO/Git/figure_arrange_scripts')\n",
    "import figure_arrange_scripts as ff\n",
    "sec_f = 24\n",
    "\n",
    "from srwlib import *\n",
    "from uti_plot import *\n",
    "from scipy.ndimage.interpolation import zoom\n",
    "import tables\n",
    "\n",
    "import os\n",
    "\n",
    "import numpy as np\n",
    "import pandas as pd\n",
    "from itertools import islice\n",
    "\n",
    "\n",
    "from scipy.interpolate import interp1d\n",
    "from scipy.interpolate import interp2d\n",
    "\n",
    "\n",
    "def align_yaxis(ax1, v1, ax2, v2):\n",
    "    \"\"\"adjust ax2 ylimit so that v2 in ax2 is aligned to v1 in ax1\"\"\"\n",
    "    _, y1 = ax1.transData.transform((0, v1))\n",
    "    _, y2 = ax2.transData.transform((0, v2))\n",
    "    inv = ax2.transData.inverted()\n",
    "    _, dy = inv.transform((0, 0)) - inv.transform((0, y1-y2))\n",
    "    miny, maxy = ax2.get_ylim()\n",
    "    ax2.set_ylim(miny+dy, maxy+dy)\n",
    "    \n",
    "    \n",
    "from scipy.misc import electrocardiogram\n",
    "from scipy.signal import find_peaks,peak_widths\n",
    "\n",
    "#import tables\n",
    "import os.path as path\n",
    "\n",
    "from scipy.interpolate import CubicSpline"
   ]
  },
  {
   "cell_type": "code",
   "execution_count": 5,
   "metadata": {},
   "outputs": [],
   "source": [
    "#fundamental constants\n",
    "qe = 1.6021766208e-19\n",
    "c = 299792458\n",
    "mu_0 = 4*np.pi*1e-7\n",
    "eps_0 = 1/(c**2*mu_0)\n",
    "me = 9.10938356e-31\n",
    "mp = 1.6726219e-27\n",
    "h = 6.62607e-34"
   ]
  },
  {
   "cell_type": "code",
   "execution_count": 6,
   "metadata": {},
   "outputs": [],
   "source": [
    "#**********************Undulator constants:\n",
    "numPer = 10 #6#Number of ID Periods (without counting for terminations; semi-integer => symmetric vs long. pos.; to allow harmonics to be symmetric or anti-symmetric?)\n",
    "undPer = 0.055 #0.1106 #Period Length [m]\n",
    "phBy = 0 #Initial Phase of the Vertical field component\n",
    "Kund = 1.0 #Kund = qe*By*undPer/(2*np.pi*me*c)\n",
    "Lund = numPer*undPer#1.7675\n",
    "By = Kund*(2*np.pi*me*c)/(qe*undPer)#0.1514815555529875\n",
    "\n",
    "\n",
    "part = SRWLParticle()\n",
    "part.x = 0.0 #Initial Transverse Coordinates (initial Longitudinal Coordinate will be defined later on) [m]\n",
    "part.y = 0.0\n",
    "#part.z = -0.5*(numPer + 4)*undPer #Initial Longitudinal Coordinate (set 2 periods before pickup)\n",
    "part.z = -0.5*(numPer + 4)*undPer #- 1.3981378\n",
    "part.xp = 0 #Initial Transverse Velocities\n",
    "part.yp = 0\n",
    "part.gamma = 0.100/0.51099890221e-03 #Relative Energy\n",
    "part.relE0 = 1 #Electron Rest Mass\n",
    "part.nq = -1 #Electron Charge\n",
    "\n",
    "\n",
    "npTraj = 20000 #Number of Points for Trajectory calculation\n",
    "dispBy = array('d', [0]*npTraj)\n",
    "partTraj = SRWLPrtTrj(_arBy=dispBy) #you can consider it as a part of allocation, values of B field are still zero here\n",
    "partTraj.partInitCond = part\n",
    "partTraj.allocate(npTraj, False)\n",
    "partTraj.ctStart = 0.0 #Start Time for the calculation\n",
    "#partTraj.ctEnd = fmult*undPer*(numPer+4) #End Time ~1.2166\n",
    "#partTraj.ctEnd = undPer*(numPer+4)/2+1.3981378+3*zdcent_f\n",
    "partTraj.ctEnd = undPer*(numPer+4) #+1.#+3*zdcent_f\n",
    "\n",
    "lmb_0 = undPer/(2*part.gamma**2)*(1 + Kund**2/2.0)"
   ]
  },
  {
   "cell_type": "code",
   "execution_count": 7,
   "metadata": {},
   "outputs": [],
   "source": [
    "#***********Magnetic Field\n",
    "sBy = 1 #Symmetry of the Vertical field component vs Longitudinal position\n",
    "xcID = 0 #Transverse Coordinates of Undulator Center [m]\n",
    "ycID = 0\n",
    "zcID = 0 #Longitudinal Coordinate of Undulator Center [m]\n",
    "und = SRWLMagFldU([SRWLMagFldH(1, 'v', By, phBy, sBy, 1)], undPer, numPer) #Planar Undulator\n",
    "magFldCnt = SRWLMagFldC([und], array('d', [xcID]), array('d', [ycID]), array('d', [zcID])) #Container of all Field Elements"
   ]
  },
  {
   "cell_type": "code",
   "execution_count": 8,
   "metadata": {},
   "outputs": [],
   "source": [
    "partTraj = srwl.CalcPartTraj(partTraj, magFldCnt, [1])# why was the last argument 0 and not [1] or something like this\n",
    "\n",
    "arX = np.asarray(partTraj.arX)\n",
    "arZ = np.asarray(partTraj.arZ)\n",
    "arXp = np.asarray(partTraj.arXp)\n",
    "arZp = np.asarray(partTraj.arZp)\n",
    "\n",
    "ct_list = np.linspace(partTraj.ctStart, partTraj.ctEnd, partTraj.np)"
   ]
  },
  {
   "cell_type": "code",
   "execution_count": 9,
   "metadata": {},
   "outputs": [
    {
     "data": {
      "text/plain": "1.2016324656000001e-12"
     },
     "execution_count": 9,
     "metadata": {},
     "output_type": "execute_result"
    }
   ],
   "source": [
    "#***********Electron Beam\n",
    "f_ring = 7.5e6\n",
    "Iavg_se = qe*f_ring\n",
    "\n",
    "elecBeam = SRWLPartBeam()\n",
    "elecBeam.Iavg = Iavg_se #Average Current [A]\n",
    "elecBeam.partStatMom1 = part\n",
    "\n",
    "Iavg_se"
   ]
  },
  {
   "cell_type": "code",
   "execution_count": 10,
   "metadata": {},
   "outputs": [],
   "source": [
    "n_l = 80\n",
    "l_min = 0.85\n",
    "l_max = 1.3\n",
    "l_list = np.linspace(l_min, l_max, n_l)  # um\n",
    "x_max = 0.0254  # m\n",
    "y_max = x_max/np.sqrt(2)  # m\n",
    "n_x = 512\n",
    "n_y = int(n_x/np.sqrt(2))"
   ]
  },
  {
   "cell_type": "code",
   "execution_count": 11,
   "metadata": {},
   "outputs": [],
   "source": [
    "#***********Precision Parameters for SR calculation\n",
    "meth = 1 #SR calculation method: 0- \"manual\", 1- \"auto-undulator\", 2- \"auto-wiggler\"\n",
    "relPrec = 0.01 #relative precision\n",
    "zStartInteg = 0 #longitudinal position to start integration (effective if < zEndInteg)\n",
    "zEndInteg = 0 #longitudinal position to finish integration (effective if > zStartInteg)\n",
    "useTermin = 1 #Use \"terminating terms\" (i.e. asymptotic expansions at zStartInteg and zEndInteg) or not (1 or 0 respectively)\n",
    "sampFactNxNyForProp = 0 #sampling factor for adjusting nx, ny (effective if > 0)\n",
    "arPrecPar = [meth, relPrec, zStartInteg, zEndInteg, npTraj, useTermin, sampFactNxNyForProp]\n",
    "xs = -x_max\n",
    "xf = x_max\n",
    "ys = -y_max\n",
    "yf = y_max\n",
    "zobs = 3.5\n",
    "xbins = 2*n_x\n",
    "ybins = 2*n_y\n",
    "Ex_3D = np.zeros(shape=(n_l, ybins, xbins), dtype=complex)\n",
    "Ey_3D = np.zeros(shape=(n_l, ybins, xbins), dtype=complex)"
   ]
  },
  {
   "cell_type": "code",
   "execution_count": 12,
   "metadata": {},
   "outputs": [],
   "source": [
    "def to_2D(values_1D):\n",
    "    np_E = np.asarray(values_1D)\n",
    "    np_E_Real = np_E[::2].reshape((ybins,xbins))\n",
    "    np_E_Imag = np_E[1::2].reshape((ybins,xbins))\n",
    "    return np_E_Real+1j*np_E_Imag"
   ]
  },
  {
   "cell_type": "code",
   "execution_count": 13,
   "metadata": {},
   "outputs": [
    {
     "name": "stdout",
     "output_type": "stream",
     "text": "Working on 1 out of 80  ... done 1024\nWorking on 2 out of 80  ... done 1024\nWorking on 3 out of 80  ...done 1024\nWorking on 4 out of 80  ... done 1024\nWorking on 5 out of 80  ...done 1024\nWorking on 6 out of 80  ...done 1024\nWorking on 7 out of 80  ...done 1024\nWorking on 8 out of 80  ...done 1024\nWorking on 9 out of 80  ...done 1024\nWorking on 10 out of 80  ... done 1024\nWorking on 11 out of 80  ...done 1024\nWorking on 12 out of 80  ...done 1024\nWorking on 13 out of 80  ...done 1024\nWorking on 14 out of 80  ...done 1024\nWorking on 15 out of 80  ...done 1024\nWorking on 16 out of 80  ...done 1024\nWorking on 17 out of 80  ... done 1024\nWorking on 18 out of 80  ...done 1024\nWorking on 19 out of 80  ...done 1024\nWorking on 20 out of 80  ...done 1024\nWorking on 21 out of 80  ... done 1024\nWorking on 22 out of 80  ... done 1024\nWorking on 23 out of 80  ...done 1024\nWorking on 24 out of 80  ... done 1024\nWorking on 25 out of 80  ...done 1024\nWorking on 26 out of 80  ...done 1024\nWorking on 27 out of 80  ... done 1024\nWorking on 28 out of 80  ... done 1024\nWorking on 29 out of 80  ...done 1024\nWorking on 30 out of 80  ... done 1024\nWorking on 31 out of 80  ... done 1024\nWorking on 32 out of 80  ...done 1024\nWorking on 33 out of 80  ...done 1024\nWorking on 34 out of 80  ...done 1024\nWorking on 35 out of 80  ... done 1024\nWorking on 36 out of 80  ...done 1024\nWorking on 37 out of 80  ...done 1024\nWorking on 38 out of 80  ...done 1024\nWorking on 39 out of 80  ... done 1024\nWorking on 40 out of 80  ... done 1024\nWorking on 41 out of 80  ... done 1024\nWorking on 42 out of 80  ...done 1024\nWorking on 43 out of 80  ...done 1024\nWorking on 44 out of 80  ...done 1024\nWorking on 45 out of 80  ...done 1024\nWorking on 46 out of 80  ... done 1024\nWorking on 47 out of 80  ...done 1024\nWorking on 48 out of 80  ... done 1024\nWorking on 49 out of 80  ...done 1024\nWorking on 50 out of 80  ...done 1024\nWorking on 51 out of 80  ...done 1024\nWorking on 52 out of 80  ...done 1024\nWorking on 53 out of 80  ...done 1024\nWorking on 54 out of 80  ...done 1024\nWorking on 55 out of 80  ...done 1024\nWorking on 56 out of 80  ... done 1024\nWorking on 57 out of 80  ...done 1024\nWorking on 58 out of 80  ...done 1024\nWorking on 59 out of 80  ...done 1024\nWorking on 60 out of 80  ...done 1024\nWorking on 61 out of 80  ... done 1024\nWorking on 62 out of 80  ... done 1024\nWorking on 63 out of 80  ... done 1024\nWorking on 64 out of 80  ... done 1024\nWorking on 65 out of 80  ...done 1024\nWorking on 66 out of 80  ... done 1024\nWorking on 67 out of 80  ...done 1024\nWorking on 68 out of 80  ...done 1024\nWorking on 69 out of 80  ...done 1024\nWorking on 70 out of 80  ... done 1024\nWorking on 71 out of 80  ... done 1024\nWorking on 72 out of 80  ...done 1024\nWorking on 73 out of 80  ...done 1024\nWorking on 74 out of 80  ...done 1024\nWorking on 75 out of 80  ...done 1024\nWorking on 76 out of 80  ...done 1024\nWorking on 77 out of 80  ... done 1024\nWorking on 78 out of 80  ... done 1024\nWorking on 79 out of 80  ...done 1024\nWorking on 80 out of 80  ...done 1024\n"
    }
   ],
   "source": [
    "for k, l in enumerate(l_list):\n",
    "    print('Working on {} out of {}'.format(k+1, len(l_list)),' ... ', end='')\n",
    "    wfr2 = SRWLWfr() #For intensity distribution at fixed photon energy\n",
    "    wfr2.allocate(1, xbins, ybins) #Numbers of points vs Photon Energy, Horizontal and Vertical Positions\n",
    "    wfr2.mesh.zStart = zobs #Longitudinal Position [m] at which SR has to be calculated\n",
    "    wfr2.mesh.xStart = xs #Initial Horizontal Position [m]\n",
    "    wfr2.mesh.xFin = xf #Final Horizontal Position [m]\n",
    "    wfr2.mesh.yStart = ys #Initial Vertical Position [m]\n",
    "    wfr2.mesh.yFin = yf #Final Vertical Position [m]\n",
    "    wfr2.partBeam = elecBeam\n",
    "    pe = 1.24/l\n",
    "    wfr2.mesh.eStart = pe #Initial Photon Energy [eV]\n",
    "    wfr2.mesh.eFin =  pe #Final Photon Energy [eV]\n",
    "    srwl.CalcElecFieldSR(wfr2, 0, magFldCnt, arPrecPar)\n",
    "    print('done', wfr2.mesh.nx)\n",
    "    Ex_3D[k,:,:] = to_2D(wfr2.arEx)\n",
    "    Ey_3D[k,:,:] = to_2D(wfr2.arEy)"
   ]
  },
  {
   "cell_type": "code",
   "execution_count": 14,
   "metadata": {},
   "outputs": [],
   "source": [
    "dx = (xf-xs)/(xbins-1)\n",
    "dy = (yf-ys)/(ybins-1)\n",
    "dl = (l_list[-1]-l_list[0])/(n_l-1)\n",
    "coef = zobs*np.sqrt(1e9*qe/Iavg_se/l_list)\n",
    "Ex_3D = coef[:, None, None]*Ex_3D\n",
    "Ey_3D = coef[:, None, None]*Ey_3D"
   ]
  },
  {
   "cell_type": "code",
   "execution_count": 20,
   "metadata": {},
   "outputs": [
    {
     "data": {
      "text/plain": "0.024174194399202566"
     },
     "execution_count": 20,
     "metadata": {},
     "output_type": "execute_result"
    }
   ],
   "source": [
    "dx/zobs*dy/zobs*dl*np.sum(np.absolute(Ex_3D)**2)"
   ]
  },
  {
   "cell_type": "code",
   "execution_count": 21,
   "metadata": {},
   "outputs": [
    {
     "data": {
      "text/plain": "0.0012995719645260953"
     },
     "execution_count": 21,
     "metadata": {},
     "output_type": "execute_result"
    }
   ],
   "source": [
    "dx/zobs*dy/zobs*dl*np.sum(np.absolute(Ey_3D)**2)"
   ]
  },
  {
   "cell_type": "code",
   "execution_count": 22,
   "metadata": {},
   "outputs": [
    {
     "data": {
      "text/plain": "0.025473766363728584"
     },
     "execution_count": 22,
     "metadata": {},
     "output_type": "execute_result"
    }
   ],
   "source": [
    "dx/zobs*dy/zobs*dl*np.sum(np.absolute(Ex_3D)**2+np.absolute(Ey_3D)**2)"
   ]
  },
  {
   "cell_type": "code",
   "execution_count": 18,
   "metadata": {},
   "outputs": [],
   "source": [
    "np.save('Ex_3D.npy', Ex_3D)"
   ]
  },
  {
   "cell_type": "code",
   "execution_count": 19,
   "metadata": {},
   "outputs": [],
   "source": [
    "np.save('Ey_3D.npy', Ey_3D)"
   ]
  }
 ],
 "metadata": {
  "kernelspec": {
   "display_name": "Python 3.6.5 64-bit ('base': conda)",
   "language": "python",
   "name": "python36564bitbasecondac8bbb905e36e48228f65285e0ac25c59"
  },
  "language_info": {
   "codemirror_mode": {
    "name": "ipython",
    "version": 3
   },
   "file_extension": ".py",
   "mimetype": "text/x-python",
   "name": "python",
   "nbconvert_exporter": "python",
   "pygments_lexer": "ipython3",
   "version": "3.8.1-final"
  },
  "pycharm": {
   "stem_cell": {
    "cell_type": "raw",
    "source": [],
    "metadata": {
     "collapsed": false
    }
   }
  }
 },
 "nbformat": 4,
 "nbformat_minor": 2
}