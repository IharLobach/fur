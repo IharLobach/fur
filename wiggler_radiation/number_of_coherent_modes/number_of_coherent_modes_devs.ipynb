{
 "nbformat": 4,
 "nbformat_minor": 2,
 "metadata": {
  "language_info": {
   "name": "python",
   "codemirror_mode": {
    "name": "ipython",
    "version": 3
   },
   "version": "3.6.5-final"
  },
  "orig_nbformat": 2,
  "file_extension": ".py",
  "mimetype": "text/x-python",
  "name": "python",
  "npconvert_exporter": "python",
  "pygments_lexer": "ipython3",
  "version": 3,
  "kernelspec": {
   "name": "python38064bitenvvenvd47ef1ed840247cba72062c7ed4bdf4d",
   "display_name": "Python 3.8.0 64-bit ('env': venv)"
  }
 },
 "cells": [
  {
   "cell_type": "code",
   "execution_count": 1,
   "metadata": {},
   "outputs": [],
   "source": [
    "import numpy as np\n",
    "from wiggler_radiation.wiggler_radiation import get_photon_flux_3D\n",
    "from wiggler_radiation.Wigrad.wigrad_generator import get_rad_mesh_tuple"
   ]
  },
  {
   "cell_type": "code",
   "execution_count": 2,
   "metadata": {},
   "outputs": [],
   "source": [
    "#input\n",
    "sigma_y = 100  # um\n",
    "x_1D, y_1D, l_1D = get_rad_mesh_tuple()\n",
    "i_3D = get_photon_flux_3D(source='wigrad')"
   ]
  },
  {
   "cell_type": "code",
   "execution_count": 3,
   "metadata": {},
   "outputs": [],
   "source": [
    "x_step = (x_1D[-1]-x_1D[0])/(len(x_1D)-1)\n",
    "y_step = (y_1D[-1]-y_1D[0])/(len(y_1D)-1)\n",
    "l_step = (l_1D[-1]-l_1D[0])/(len(l_1D)-1)\n",
    "tot = x_step*y_step*l_step*np.sum(i_3D)\n",
    "y1_2D, y2_2D = np.meshgrid(y_1D, y_1D)\n",
    "y1m2_3D = np.tile(y1_2D-y2_2D, (len(l_1D), 1, 1))\n",
    "k = 2*np.pi/l_1D"
   ]
  },
  {
   "cell_type": "code",
   "execution_count": 4,
   "metadata": {},
   "outputs": [],
   "source": [
    "exp = (l_1D**3)[:, None, None]*np.exp(-(sigma_y*k[:, None, None]*y1m2_3D)**2)"
   ]
  },
  {
   "cell_type": "code",
   "execution_count": 5,
   "metadata": {},
   "outputs": [],
   "source": [
    "aux = np.einsum('...ji,...mi->...jm', i_3D, i_3D)"
   ]
  },
  {
   "cell_type": "code",
   "execution_count": 6,
   "metadata": {},
   "outputs": [],
   "source": [
    "res = x_step*y_step**2*l_step*np.sum(aux*exp)"
   ]
  },
  {
   "cell_type": "code",
   "execution_count": 7,
   "metadata": {},
   "outputs": [
    {
     "output_type": "execute_result",
     "data": {
      "text/plain": "0.1501255904829788"
     },
     "metadata": {},
     "execution_count": 7
    }
   ],
   "source": [
    "res"
   ]
  },
  {
   "cell_type": "code",
   "execution_count": 8,
   "metadata": {},
   "outputs": [],
   "source": [
    "My = 4*np.pi*tot**2/res"
   ]
  },
  {
   "cell_type": "code",
   "execution_count": 9,
   "metadata": {},
   "outputs": [
    {
     "output_type": "execute_result",
     "data": {
      "text/plain": "0.01266826784066921"
     },
     "metadata": {},
     "execution_count": 9
    }
   ],
   "source": [
    "My"
   ]
  },
  {
   "cell_type": "code",
   "execution_count": 10,
   "metadata": {},
   "outputs": [
    {
     "output_type": "execute_result",
     "data": {
      "text/plain": "4671423.766246771"
     },
     "metadata": {},
     "execution_count": 10
    }
   ],
   "source": [
    "My*1250*29.5*1e4"
   ]
  },
  {
   "cell_type": "code",
   "execution_count": 3,
   "metadata": {},
   "outputs": [],
   "source": [
    "from wiggler_radiation.number_of_coherent_modes.coherent_modes \\\n",
    "    import get_My\n",
    "import numpy as np\n",
    "from wiggler_radiation.wiggler_radiation import get_photon_flux_3D\n",
    "from wiggler_radiation.Wigrad.wigrad_generator import get_rad_mesh_tuple"
   ]
  },
  {
   "cell_type": "code",
   "execution_count": 4,
   "metadata": {},
   "outputs": [],
   "source": [
    "#input\n",
    "sigma_y = 100  # um\n",
    "x_1D, y_1D, l_1D = get_rad_mesh_tuple()\n",
    "i_3D = get_photon_flux_3D(source='wigrad')"
   ]
  },
  {
   "cell_type": "code",
   "execution_count": 6,
   "metadata": {},
   "outputs": [
    {
     "output_type": "execute_result",
     "data": {
      "text/plain": "0.01266826784066921"
     },
     "metadata": {},
     "execution_count": 6
    }
   ],
   "source": [
    "My = get_My(sigma_y, get_rad_mesh_tuple(), i_3D)\n",
    "My"
   ]
  },
  {
   "cell_type": "code",
   "execution_count": 7,
   "metadata": {},
   "outputs": [
    {
     "output_type": "execute_result",
     "data": {
      "text/plain": "4671423.766246771"
     },
     "metadata": {},
     "execution_count": 7
    }
   ],
   "source": [
    "My*1250*29.5*1e4"
   ]
  },
  {
   "cell_type": "code",
   "execution_count": null,
   "metadata": {},
   "outputs": [],
   "source": []
  }
 ]
}