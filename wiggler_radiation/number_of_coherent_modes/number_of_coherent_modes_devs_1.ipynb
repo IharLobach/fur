{
 "nbformat": 4,
 "nbformat_minor": 2,
 "metadata": {
  "language_info": {
   "name": "python",
   "codemirror_mode": {
    "name": "ipython",
    "version": 3
   },
   "version": "3.6.5-final"
  },
  "orig_nbformat": 2,
  "file_extension": ".py",
  "mimetype": "text/x-python",
  "name": "python",
  "npconvert_exporter": "python",
  "pygments_lexer": "ipython3",
  "version": 3,
  "kernelspec": {
   "name": "python38064bitenvvenvd47ef1ed840247cba72062c7ed4bdf4d",
   "display_name": "Python 3.8.0 64-bit ('env': venv)"
  }
 },
 "cells": [
  {
   "cell_type": "markdown",
   "metadata": {},
   "source": [
    "## Trying a mesh with 2 times less points in X and Y directions"
   ]
  },
  {
   "cell_type": "code",
   "execution_count": 1,
   "metadata": {},
   "outputs": [],
   "source": [
    "from wiggler_radiation.number_of_coherent_modes.coherent_modes \\\n",
    "    import get_My\n",
    "import numpy as np\n",
    "from wiggler_radiation.wiggler_radiation import get_photon_flux_3D\n",
    "from wiggler_radiation.Wigrad.wigrad_generator import get_rad_mesh_tuple"
   ]
  },
  {
   "cell_type": "code",
   "execution_count": 2,
   "metadata": {},
   "outputs": [],
   "source": [
    "#input\n",
    "sigma_y = 100  # um"
   ]
  },
  {
   "cell_type": "code",
   "execution_count": 3,
   "metadata": {},
   "outputs": [],
   "source": [
    "config_style_mesh = [\n",
    "        [\n",
    "            -0.0254,\n",
    "            0.0254,\n",
    "            512\n",
    "        ],\n",
    "        [\n",
    "            -0.017960512242138304,\n",
    "            0.017960512242138304,\n",
    "            362\n",
    "        ],\n",
    "        [\n",
    "            0.85,\n",
    "            1.3,\n",
    "            300\n",
    "        ]\n",
    "]\n",
    ""
   ]
  },
  {
   "cell_type": "code",
   "execution_count": 4,
   "metadata": {},
   "outputs": [],
   "source": [
    "i_3D = get_photon_flux_3D(\n",
    "    source='wigrad', config_style_mesh=config_style_mesh)"
   ]
  },
  {
   "cell_type": "code",
   "execution_count": 5,
   "metadata": {},
   "outputs": [
    {
     "output_type": "execute_result",
     "data": {
      "text/plain": "0.012666433530875591"
     },
     "metadata": {},
     "execution_count": 5
    }
   ],
   "source": [
    "My = get_My(sigma_y, get_rad_mesh_tuple(config_style_mesh), i_3D)\n",
    "My"
   ]
  },
  {
   "cell_type": "code",
   "execution_count": 6,
   "metadata": {},
   "outputs": [
    {
     "output_type": "execute_result",
     "data": {
      "text/plain": "4670747.364510374"
     },
     "metadata": {},
     "execution_count": 6
    }
   ],
   "source": [
    "My*1250*29.5*1e4"
   ]
  },
  {
   "cell_type": "code",
   "execution_count": null,
   "metadata": {},
   "outputs": [],
   "source": []
  }
 ]
}