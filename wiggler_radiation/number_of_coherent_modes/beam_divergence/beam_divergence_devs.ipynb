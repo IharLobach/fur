{
 "cells": [
  {
   "cell_type": "code",
   "execution_count": 5,
   "metadata": {},
   "outputs": [],
   "source": [
    "import sys\n",
    "import numpy as np\n",
    "import os\n",
    "from wiggler_radiation.Wigrad.wigrad_generator import get_rad_mesh_tuple\n",
    "rad_mesh_tuple = get_rad_mesh_tuple() \n",
    "x1d, y1d, l1d = rad_mesh_tuple"
   ]
  },
  {
   "cell_type": "code",
   "execution_count": 6,
   "metadata": {},
   "outputs": [],
   "source": [
    "nx, ny, nl = [len(v) for v in rad_mesh_tuple]\n",
    "def get_step(arr):\n",
    "    return (arr[-1]-arr[0])/(len(arr)-1)\n",
    "dx, dy, dl = [get_step(v) for v in get_rad_mesh_tuple()]"
   ]
  },
  {
   "cell_type": "code",
   "execution_count": 7,
   "metadata": {},
   "outputs": [],
   "source": [
    "x1_2D, x2_2D = np.meshgrid(x1d, x1d)\n",
    "x1m2_2d = x1_2D-x2_2D\n",
    "y1_2D, y2_2D = np.meshgrid(y1d, y1d)\n",
    "y1m2_2d = y1_2D-y2_2D"
   ]
  },
  {
   "cell_type": "code",
   "execution_count": 9,
   "metadata": {},
   "outputs": [
    {
     "data": {
      "text/plain": [
       "0.007257142857142857"
      ]
     },
     "execution_count": 9,
     "metadata": {},
     "output_type": "execute_result"
    }
   ],
   "source": [
    "0.0254/3.5"
   ]
  },
  {
   "cell_type": "code",
   "execution_count": 10,
   "metadata": {},
   "outputs": [
    {
     "data": {
      "text/plain": [
       "0.00513157492632523"
      ]
     },
     "execution_count": 10,
     "metadata": {},
     "output_type": "execute_result"
    }
   ],
   "source": [
    "0.017960512242138304/3.5"
   ]
  },
  {
   "cell_type": "code",
   "execution_count": 2,
   "metadata": {},
   "outputs": [],
   "source": [
    "import numpy as np\n",
    "import fur.path_assistant as path_assistant\n",
    "from config import get_from_config\n",
    "from wiggler_radiation.transmission_data import transmission_function"
   ]
  },
  {
   "cell_type": "code",
   "execution_count": null,
   "metadata": {},
   "outputs": [],
   "source": [
    "Ex_3D = np.load(path_assistant.srw_Ex_3D_file_path)"
   ]
  }
 ],
 "metadata": {
  "kernelspec": {
   "display_name": "fur",
   "language": "python",
   "name": "fur"
  },
  "language_info": {
   "codemirror_mode": {
    "name": "ipython",
    "version": 3
   },
   "file_extension": ".py",
   "mimetype": "text/x-python",
   "name": "python",
   "nbconvert_exporter": "python",
   "pygments_lexer": "ipython3",
   "version": "3.6.8"
  }
 },
 "nbformat": 4,
 "nbformat_minor": 4
}
