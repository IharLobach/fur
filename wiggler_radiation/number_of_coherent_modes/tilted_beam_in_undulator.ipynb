{
 "cells": [
  {
   "cell_type": "code",
   "execution_count": 1,
   "metadata": {},
   "outputs": [],
   "source": [
    "from wiggler_radiation.wiggler_radiation import get_photon_flux_3D"
   ]
  },
  {
   "cell_type": "code",
   "execution_count": 2,
   "metadata": {},
   "outputs": [],
   "source": [
    "i3d0 = get_photon_flux_3D()"
   ]
  },
  {
   "cell_type": "code",
   "execution_count": 3,
   "metadata": {},
   "outputs": [],
   "source": [
    "from scipy.interpolate import RegularGridInterpolator"
   ]
  },
  {
   "cell_type": "code",
   "execution_count": 4,
   "metadata": {},
   "outputs": [
    {
     "data": {
      "text/plain": [
       "(300, 724, 1024)"
      ]
     },
     "execution_count": 4,
     "metadata": {},
     "output_type": "execute_result"
    }
   ],
   "source": [
    "i3d0.shape"
   ]
  },
  {
   "cell_type": "code",
   "execution_count": 5,
   "metadata": {},
   "outputs": [],
   "source": [
    "import sys\n",
    "import numpy as np\n",
    "import os\n",
    "from wiggler_radiation.Wigrad.wigrad_generator import get_rad_mesh_tuple\n",
    "en = 100\n",
    "rad_mesh_tuple = get_rad_mesh_tuple() \n",
    "x1d, y1d, l1d = rad_mesh_tuple\n",
    "nx, ny, nl = [len(v) for v in rad_mesh_tuple]\n",
    "def get_step(arr):\n",
    "    return (arr[-1]-arr[0])/(len(arr)-1)\n",
    "dx, dy, dl = [get_step(v) for v in get_rad_mesh_tuple()]\n",
    "tot = dx*dy*dl*np.sum(i3d0)\n",
    "x1_2D, x2_2D = np.meshgrid(x1d, x1d)\n",
    "x1m2_2d = x1_2D-x2_2D\n",
    "y1_2D, y2_2D = np.meshgrid(y1d, y1d)\n",
    "y1m2_2d = y1_2D-y2_2D"
   ]
  },
  {
   "cell_type": "code",
   "execution_count": 6,
   "metadata": {},
   "outputs": [],
   "source": [
    "x2d, y2d = np.meshgrid(x1d, y1d)"
   ]
  },
  {
   "cell_type": "code",
   "execution_count": 11,
   "metadata": {},
   "outputs": [],
   "source": [
    "def rotate_slice(slice2d, phi):\n",
    "    f = RegularGridInterpolator((y1d, x1d), slice2d, bounds_error=False, fill_value=0)\n",
    "    x2dphi = x2d*np.cos(phi)+y2d*np.sin(phi)\n",
    "    y2dphi = -x2d*np.sin(phi)+y2d*np.cos(phi)\n",
    "    x1dphi = x2dphi.ravel()\n",
    "    y1dphi = y2dphi.ravel()\n",
    "    pts = np.array([y1dphi, x1dphi]).T\n",
    "    return f(pts).reshape(ny, nx)"
   ]
  },
  {
   "cell_type": "code",
   "execution_count": 12,
   "metadata": {},
   "outputs": [],
   "source": [
    "def rotate_i3d(i3d0, phi):\n",
    "    i3d = np.zeros(shape=i3d0.shape)\n",
    "    for i in range(i3d0.shape[0]):\n",
    "        i3d[i] = rotate_slice(i3d0[i,:,:], phi)\n",
    "    return i3d"
   ]
  },
  {
   "cell_type": "code",
   "execution_count": 13,
   "metadata": {},
   "outputs": [],
   "source": [
    "i3dphi = rotate_i3d(i3d0, np.pi*5/180)"
   ]
  },
  {
   "cell_type": "code",
   "execution_count": 27,
   "metadata": {},
   "outputs": [],
   "source": [
    "def get_Mxy(i3d, sx, sy):\n",
    "    res = 0\n",
    "    for slice2d, lmda in zip(i3d, l1d):\n",
    "        Eexpx = np.tensordot(slice2d,\n",
    "            lmda*np.exp(-(sx*2*np.pi/lmda*x1m2_2d)**2),\n",
    "                             (1,0))\n",
    "        Eexpy = np.tensordot(slice2d,\n",
    "            lmda*np.exp(-(sy*2*np.pi/lmda*y1m2_2d)**2),\n",
    "                             (0,1))\n",
    "        res += np.tensordot(Eexpx, Eexpy.T)\n",
    "    return tot**2/(dx*dy*dx*dy*dl*1/(2*np.sqrt(np.pi)*1e4)*res)\n",
    "sx, sy = 1000, 80\n",
    "sz = 40"
   ]
  },
  {
   "cell_type": "code",
   "execution_count": 23,
   "metadata": {},
   "outputs": [],
   "source": [
    "Mxy0 = get_Mxy(i3d0, sx, sy)"
   ]
  },
  {
   "cell_type": "code",
   "execution_count": 28,
   "metadata": {},
   "outputs": [
    {
     "data": {
      "text/plain": [
       "4537179.565875301"
      ]
     },
     "execution_count": 28,
     "metadata": {},
     "output_type": "execute_result"
    }
   ],
   "source": [
    "sz*Mxy0"
   ]
  },
  {
   "cell_type": "code",
   "execution_count": 25,
   "metadata": {},
   "outputs": [],
   "source": [
    "Mxyphi = get_Mxy(i3dphi, sx, sy)"
   ]
  },
  {
   "cell_type": "code",
   "execution_count": 29,
   "metadata": {},
   "outputs": [
    {
     "data": {
      "text/plain": [
       "4536980.055318462"
      ]
     },
     "execution_count": 29,
     "metadata": {},
     "output_type": "execute_result"
    }
   ],
   "source": [
    "sz*Mxyphi"
   ]
  },
  {
   "cell_type": "code",
   "execution_count": null,
   "metadata": {},
   "outputs": [],
   "source": []
  }
 ],
 "metadata": {
  "kernelspec": {
   "display_name": "fur",
   "language": "python",
   "name": "fur"
  },
  "language_info": {
   "codemirror_mode": {
    "name": "ipython",
    "version": 3
   },
   "file_extension": ".py",
   "mimetype": "text/x-python",
   "name": "python",
   "nbconvert_exporter": "python",
   "pygments_lexer": "ipython3",
   "version": "3.6.5"
  }
 },
 "nbformat": 4,
 "nbformat_minor": 4
}
