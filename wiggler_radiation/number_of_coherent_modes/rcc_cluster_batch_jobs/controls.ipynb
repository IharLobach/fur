{
 "cells": [
  {
   "cell_type": "code",
   "execution_count": 3,
   "metadata": {},
   "outputs": [],
   "source": [
    "import numpy as np\n",
    "import pandas as pd\n",
    "import os\n",
    "from wiggler_radiation.Wigrad.wigrad_generator import generate_wr_sim_with_wigrad_results"
   ]
  },
  {
   "cell_type": "code",
   "execution_count": 4,
   "metadata": {},
   "outputs": [],
   "source": [
    "principal_energy = 100 # MeV"
   ]
  },
  {
   "cell_type": "code",
   "execution_count": 5,
   "metadata": {},
   "outputs": [],
   "source": [
    "energies = np.arange(95, 106, dtype=int)"
   ]
  },
  {
   "cell_type": "markdown",
   "metadata": {},
   "source": [
    "# Copy the principal folder for other energies"
   ]
  },
  {
   "cell_type": "code",
   "execution_count": 9,
   "metadata": {},
   "outputs": [],
   "source": [
    "for en in [e for e in energies if (e != principal_energy)]:\n",
    "    os.system(f'cp -r 100MeV {en}MeV')"
   ]
  },
  {
   "cell_type": "markdown",
   "metadata": {},
   "source": [
    "# Generate wigrad precalculated field files"
   ]
  },
  {
   "cell_type": "code",
   "execution_count": 8,
   "metadata": {},
   "outputs": [
    {
     "name": "stdout",
     "output_type": "stream",
     "text": [
      "working on  95 MeV...\n",
      "working on  96 MeV...\n",
      "working on  97 MeV...\n",
      "working on  98 MeV...\n",
      "working on  99 MeV...\n",
      "working on  100 MeV...\n",
      "working on  101 MeV...\n",
      "working on  102 MeV...\n",
      "working on  103 MeV...\n",
      "working on  104 MeV...\n",
      "working on  105 MeV...\n",
      "done\n"
     ]
    }
   ],
   "source": [
    "for en in energies:\n",
    "    print(\"working on \",en,\"MeV...\")\n",
    "    gamma = en/0.511\n",
    "    wr_sim = generate_wr_sim_with_wigrad_results(gamma_in=gamma)\n",
    "    field = wr_sim.get_photon_flux_3D()\n",
    "    np.save(f\"/scratch/midway2/ilobach/field_wigrad_{en}MeV.npy\", field)\n",
    "print(\"done\")"
   ]
  },
  {
   "cell_type": "markdown",
   "metadata": {},
   "source": [
    "# Delete log files"
   ]
  },
  {
   "cell_type": "code",
   "execution_count": 10,
   "metadata": {},
   "outputs": [],
   "source": [
    "for en in energies:\n",
    "    if os.path.exists(os.path.join(f'{en}MeV','runtask.log')):\n",
    "        os.system(f'rm -f {en}MeV/runtask.log')"
   ]
  },
  {
   "cell_type": "markdown",
   "metadata": {},
   "source": [
    "# Run the jobs"
   ]
  },
  {
   "cell_type": "code",
   "execution_count": 11,
   "metadata": {},
   "outputs": [],
   "source": [
    "for en in energies:\n",
    "    os.system(f'cd {en}MeV; sbatch parallel.sbatch &; cd ..;')"
   ]
  },
  {
   "cell_type": "markdown",
   "metadata": {},
   "source": [
    "# Compressing the results into DataFrames"
   ]
  },
  {
   "cell_type": "code",
   "execution_count": 7,
   "metadata": {},
   "outputs": [
    {
     "name": "stdout",
     "output_type": "stream",
     "text": [
      "working on  95 MeV...\n",
      "working on  96 MeV...\n",
      "working on  97 MeV...\n",
      "working on  98 MeV...\n",
      "working on  99 MeV...\n",
      "working on  100 MeV...\n",
      "working on  101 MeV...\n",
      "working on  102 MeV...\n",
      "working on  103 MeV...\n",
      "working on  104 MeV...\n",
      "working on  105 MeV...\n",
      "done\n"
     ]
    }
   ],
   "source": [
    "for en in energies:\n",
    "    print(\"working on \",en,\"MeV...\")\n",
    "    output_files = [f for f in os.listdir(f\"{en}MeV/results/\") if \".out\" in f]\n",
    "    sx_range = np.arange(350, 1300, 10)  # um\n",
    "    sy_range = np.arange(30, 370, 5)  # um\n",
    "    tot_len = len(sx_range)*len(sy_range)\n",
    "    res_df = pd.DataFrame(columns=sy_range, index=sx_range)\n",
    "    sx2d, sy2d = np.meshgrid(sx_range, sy_range)\n",
    "    sxsy_tuples = np.vstack((sx2d.ravel(), sy2d.ravel())).T\n",
    "    for f in output_files:\n",
    "        idx = int(f[:-4])\n",
    "        with open(os.path.join(f\"{en}MeV\",\"results\", f)) as f1:\n",
    "            sx, sy = sxsy_tuples[idx]\n",
    "            res_df.loc[sx, sy] = float(f1.read())\n",
    "    res_df.to_csv(f\"all_results/Mxy_Ver_SigmaX_Hor_SigmaY_{en}MeV.csv\")\n",
    "print(\"done\")"
   ]
  },
  {
   "cell_type": "code",
   "execution_count": null,
   "metadata": {},
   "outputs": [],
   "source": []
  }
 ],
 "metadata": {
  "kernelspec": {
   "display_name": "Python 3",
   "language": "python",
   "name": "python3"
  },
  "language_info": {
   "codemirror_mode": {
    "name": "ipython",
    "version": 3
   },
   "file_extension": ".py",
   "mimetype": "text/x-python",
   "name": "python",
   "nbconvert_exporter": "python",
   "pygments_lexer": "ipython3",
   "version": "3.8.0"
  }
 },
 "nbformat": 4,
 "nbformat_minor": 2
}
