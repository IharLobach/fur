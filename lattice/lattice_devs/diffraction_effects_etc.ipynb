{
 "nbformat": 4,
 "nbformat_minor": 2,
 "metadata": {
  "language_info": {
   "name": "python",
   "codemirror_mode": {
    "name": "ipython",
    "version": 3
   },
   "version": "3.6.5-final"
  },
  "orig_nbformat": 2,
  "file_extension": ".py",
  "mimetype": "text/x-python",
  "name": "python",
  "npconvert_exporter": "python",
  "pygments_lexer": "ipython3",
  "version": 3,
  "kernelspec": {
   "name": "python38064bitenvvenva5464bd3ced74aee9ed0b7181cb33237",
   "display_name": "Python 3.8.0 64-bit ('env': venv)"
  }
 },
 "cells": [
  {
   "cell_type": "code",
   "execution_count": 13,
   "metadata": {},
   "outputs": [],
   "source": [
    "R_bending = 1  # m\n",
    "l_source_to_iris = 1  # m\n",
    "r_iris = 0.005  # m\n",
    "f_lens = 0.5  # m\n",
    "lmda = 600e-9  # m"
   ]
  },
  {
   "cell_type": "code",
   "execution_count": 14,
   "metadata": {},
   "outputs": [
    {
     "output_type": "stream",
     "name": "stdout",
     "text": "Increase in x size due to curved trajectory is 12.500 um\n"
    }
   ],
   "source": [
    "x_addition_due_to_curved_trajectory = R_bending/2*(r_iris/l_source_to_iris)**2\n",
    "print(\"Increase in x size due to curved trajectory is {:.3f} um\".format(x_addition_due_to_curved_trajectory*1e6))"
   ]
  },
  {
   "cell_type": "code",
   "execution_count": 15,
   "metadata": {},
   "outputs": [
    {
     "output_type": "stream",
     "name": "stdout",
     "text": "Diffraction limit = 36.600 um\n"
    }
   ],
   "source": [
    "diffraction_limit = 1.22*lmda*f_lens/2/r_iris\n",
    "print(\"Diffraction limit = {:.3f} um\".format(diffraction_limit*1e6))"
   ]
  },
  {
   "cell_type": "code",
   "execution_count": null,
   "metadata": {},
   "outputs": [],
   "source": []
  }
 ]
}