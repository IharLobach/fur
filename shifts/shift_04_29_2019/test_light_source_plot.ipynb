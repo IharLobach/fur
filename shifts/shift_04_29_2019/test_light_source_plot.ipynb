{
 "cells": [
  {
   "cell_type": "code",
   "execution_count": 1,
   "metadata": {},
   "outputs": [],
   "source": [
    "import numpy as np\n",
    "import scipy.signal\n",
    "from scipy.optimize import minimize\n",
    "import pandas as pd\n",
    "pd.set_option('max_columns', None)\n",
    "from sklearn import linear_model\n",
    "import matplotlib.pyplot as plt\n",
    "from datetime import datetime\n",
    "plt.rcParams['figure.figsize'] = [15, 7.5]\n",
    "plt.rcParams.update({'font.size': 16,'legend.fontsize':16})\n",
    "import seaborn as sns\n",
    "import sys\n",
    "import os\n",
    "import fur.path_assistant as path_assistant\n",
    "from fur.waveform_reader import read_waveform\n",
    "from fur.finding_period import get_period\n",
    "from fur.fluctuations import get_fluctiation_and_noise_var\n",
    "from fur.one_data_set_analyzer import analyze_one_dataset\n",
    "from fur.extending_with_acnet_data import get_fluctuations_df_with_acnet_data, get_acnet_df_with_bunch_sizes\n",
    "shift = path_assistant.PathAssistant('shift_04_29_2019')\n",
    "#shift_03_09_2020.show_waveform_file_names()\n",
    "waveforms_dir = shift.get_waveforms_dir()\n",
    "results_dir = shift.get_results_dir()\n",
    "from config import get_from_config, save_to_config\n",
    "from wiggler_radiation.number_of_coherent_modes.coherent_modes import get_M_interpolator_at_fixed_energy\n",
    "import lattice.lattice as lattice"
   ]
  },
  {
   "cell_type": "code",
   "execution_count": 2,
   "metadata": {},
   "outputs": [],
   "source": [
    "fluctuations_df = shift.get_fluctuations_df('res_df_test_light_source_04_29_2019.csv')\n",
    "def var_theor(x, M):\n",
    "    return x+1/M*x**2\n",
    "def as_si(x, ndp):\n",
    "    \"\"\"Returns number in scientific format for latex. For PyPlot when latex output is needed. \n",
    "    Latex distibtuion must be installed on the machine. Also set  plt.rcParams[\"text.usetex\"] =True\n",
    "    Parameters\n",
    "    ----------\n",
    "    x\n",
    "        the input number\n",
    "    ndp : int\n",
    "        desired number of decimals\n",
    "    \"\"\"\n",
    "    s = '{x:0.{ndp:d}e}'.format(x=x, ndp=ndp)\n",
    "    m, e = s.split('e')\n",
    "    return r'${m:s}\\times 10^{{{e:d}}}$'.format(m=m, e=int(e))"
   ]
  },
  {
   "cell_type": "code",
   "execution_count": 90,
   "metadata": {},
   "outputs": [],
   "source": [
    "cur_to_sum_channel = get_from_config(\"Beam_current_to_Sum_channel_ampl_V/mA\")\n",
    "sum_channel_to_photoelectrons = get_from_config('sum_channel_to_photoelectrons')\n",
    "N_to_I = 1/sum_channel_to_photoelectrons/cur_to_sum_channel\n",
    "i_to_photoel = 1/N_to_I\n",
    "N = sum_channel_to_photoelectrons*fluctuations_df[\"ch2_amplitude\"].values\n",
    "coef = 2*sum_channel_to_photoelectrons**2\n",
    "varN = coef*fluctuations_df[\"var_of_ch1_amplitude\"].values\n",
    "signal_to_noise_level = coef*1e-7 \n",
    "fluctuations_df['N'] = N\n",
    "fluctuations_df['varN'] = varN\n",
    "fluctuations_df = fluctuations_df.sort_values('N').reset_index(drop=True)\n",
    "#fitting\n",
    "y = varN-N\n",
    "x = N**2\n",
    "Mfit = np.mean(x**2)/np.mean(x*y)\n",
    "save_to_config(\"test_light_source_theta\", 1/Mfit)\n",
    "def my_plot(ax, order=[2,0,1], error_bar=0):\n",
    "#     from matplotlib import rc\n",
    "#     rc(\"text\", usetex=True)\n",
    "#     plt.rcParams.update({'font.size': 28,'legend.fontsize':22})\n",
    "#     fig, ax = plt.subplots(figsize=(15, 7.5))\n",
    "    ax.errorbar(fluctuations_df['N'],fluctuations_df['varN'],marker='.',linestyle='None',yerr=error_bar,color='b',\n",
    "               label='Measurement with the test light source', markersize=10)\n",
    "    x_aux = np.linspace(0, ax.get_xlim()[1],100)\n",
    "    ax.plot(x_aux, x_aux,color='blue',linestyle='--',\n",
    "            label = r\"var$\\left(\\mathcal{N}\\right)=\\langle\\mathcal{N}\\rangle$\")\n",
    "    ax.plot(x_aux, var_theor(x_aux, Mfit), color='tab:red', linestyle='-',\n",
    "            label = r\"var$\\left(\\mathcal{N}\\right)=\\langle\\mathcal{N}\\rangle+\\theta\\langle\\mathcal{N}\\rangle^2$\")\n",
    "    ax.plot([0, x_aux[-1]],[signal_to_noise_level, signal_to_noise_level],\n",
    "            color='black',label='Signal/Noise = 1')\n",
    "    handles, labels = ax.get_legend_handles_labels()\n",
    "    ax.legend([handles[idx] for idx in order],[labels[idx] for idx in order])\n",
    "    ax.text(0.1,0.48,r\"$\\theta$\"+r\" = \\SI{\"+f\"{1/Mfit:.2e}\"+r\"}{}\",transform=ax.transAxes)\n",
    "    ax.set_ylabel(r\"Photoelectron count\"+\"\\n\"+r\" variance var$\\left(\\mathcal{N}\\right)$\")\n",
    "    ax.set_xlabel(r\"Photoelectron count mean $\\langle\\mathcal{N}\\rangle$\")\n",
    "#     return fig, ax"
   ]
  },
  {
   "cell_type": "code",
   "execution_count": 91,
   "metadata": {},
   "outputs": [
    {
     "data": {
      "text/plain": [
       "230152866.59139344"
      ]
     },
     "execution_count": 91,
     "metadata": {},
     "output_type": "execute_result"
    }
   ],
   "source": [
    "signal_to_noise_level"
   ]
  },
  {
   "cell_type": "code",
   "execution_count": 92,
   "metadata": {},
   "outputs": [],
   "source": [
    "zoom_x = 0.7e7\n",
    "zoom_y = 1.7e8"
   ]
  },
  {
   "cell_type": "code",
   "execution_count": 93,
   "metadata": {},
   "outputs": [
    {
     "data": {
      "text/plain": [
       "2688549.487873511"
      ]
     },
     "execution_count": 93,
     "metadata": {},
     "output_type": "execute_result"
    }
   ],
   "source": [
    "small_fl_df = fluctuations_df[fluctuations_df['N'] < zoom_x]\n",
    "varN_error_fit = np.sqrt(((small_fl_df['varN']-var_theor(small_fl_df['N'], Mfit))**2).mean())\n",
    "varN_error_fit"
   ]
  },
  {
   "cell_type": "code",
   "execution_count": null,
   "metadata": {},
   "outputs": [],
   "source": []
  },
  {
   "cell_type": "code",
   "execution_count": 94,
   "metadata": {},
   "outputs": [
    {
     "name": "stderr",
     "output_type": "stream",
     "text": [
      "/var/folders/gy/wdr0lhkn46n55mh2jbgygp500000gn/T/ipykernel_57386/3507813588.py:49: UserWarning: Matplotlib is currently using pgf, which is a non-GUI backend, so cannot show the figure.\n",
      "  plt.show()\n"
     ]
    }
   ],
   "source": [
    "from fur.path_assistant import get_plot_style_sheet\n",
    "import matplotlib as mpl\n",
    "mpl.use(\"pgf\")\n",
    "plt.style.use(get_plot_style_sheet(\"prab\"))\n",
    "plt.rc('pgf', preamble=\\\n",
    "       r'\\usepackage{amsmath}'\n",
    "       +r'\\usepackage{unicode-math}'\n",
    "       +r'\\usepackage{amsthm}'\n",
    "       +r'\\setmainfont{Times}'\n",
    "       +r'\\DeclareMathAlphabet{\\mathcal}{OMS}{cmsy}{m}{n}'\n",
    "       +r'\\let\\mathbb\\relax'\n",
    "       +r'\\DeclareMathAlphabet{\\mathbb}{U}{msb}{m}{n}'\n",
    "       +r'\\usepackage{siunitx}')\n",
    "plt.rc('lines', markersize=8)\n",
    "fig, (ax1, ax2) = plt.subplots(2, 1, figsize=(15,12))\n",
    "my_plot(ax1)\n",
    "# Create a Rectangle patch\n",
    "import matplotlib.patches as patches\n",
    "rect = patches.Rectangle((0,0), zoom_x, zoom_y,linewidth=3,edgecolor='r',facecolor='none', zorder=100)\n",
    "# Add the patch to the Axes\n",
    "ax1.add_patch(rect)\n",
    "N1, N2, N3 = (fluctuations_df['N'][41], fluctuations_df['N'][42], fluctuations_df['N'].iloc[-1])\n",
    "ax1.axvspan(0, N1, facecolor='green', alpha=0.2)\n",
    "ax1.axvspan(N2, N3 , facecolor='yellow', alpha=0.2)\n",
    "ax1.annotate('Subtraction of noise\\n is required',((0+N1)/2, 0.7e9),ha='center')#,fontsize=sec_f)\n",
    "ax1.annotate(r'Signal/Noise$\\gg 1$',((N2+N3)/2,3.4e9),ha='center')#,fontsize=sec_f)\n",
    "ax1.annotate('Noise level',(0.55*(N2+N3),0.3e9),ha='center')#,fontsize=20)\n",
    "# ax1.set_title('Test light source. Different ND filters.', fontsize=24)\n",
    "ax1.set_xlim(0,3.5e7)\n",
    "ax1.set_ylim(0,ax1.get_ylim()[1]*0.95)\n",
    "\n",
    "\n",
    "my_plot(ax2, order=[0,1], error_bar=varN_error_fit)\n",
    "ax2.set_ylim(0, zoom_y)\n",
    "ax2.set_xlim(0, zoom_x)\n",
    "ax2.text(0.8, 0.15, r'Inferred statistical' +'\\n'+' error = \\SI{'+f\"{varN_error_fit:.1e}\"+r\"}{}\",\n",
    "        transform=ax2.transAxes,\n",
    "          ha='center', va='center')#, fontsize=sec_f)\n",
    "ax1.text(-0.15, 1.1, '(a)', transform=ax1.transAxes, fontsize=36, va='top', ha='left')\n",
    "ax2.text(-0.15, 1.1, '(b)', transform=ax2.transAxes, fontsize=36, va='top', ha='left')\n",
    "fig.subplots_adjust(hspace=0.3)\n",
    "\n",
    "\n",
    "ft = ax1.yaxis.get_major_formatter()\n",
    "ft.format_ticks = lambda x: [f\"{y:.1e}\".split('e')[0] for y in x]\n",
    "\n",
    "output_path = path_assistant.get_PRL_images_dir().fi(\"test_light_source.png\")\n",
    "plt.savefig(output_path, dpi=300, bbox_inches='tight')\n",
    "plt.show()"
   ]
  },
  {
   "cell_type": "code",
   "execution_count": 69,
   "metadata": {},
   "outputs": [
    {
     "data": {
      "text/plain": [
       "2688549.487873511"
      ]
     },
     "execution_count": 69,
     "metadata": {},
     "output_type": "execute_result"
    }
   ],
   "source": [
    "varN_error_fit"
   ]
  },
  {
   "cell_type": "code",
   "execution_count": 47,
   "metadata": {},
   "outputs": [],
   "source": [
    "# fig, ax = my_plot()\n",
    "# # Create a Rectangle patch\n",
    "# import matplotlib.patches as patches\n",
    "# rect = patches.Rectangle((0,0), zoom_x, zoom_y,linewidth=3,edgecolor='r',facecolor='none', zorder=100)\n",
    "# # Add the patch to the Axes\n",
    "# ax.add_patch(rect)\n",
    "# N1, N2, N3 = (fluctuations_df['N'][41], fluctuations_df['N'][42], fluctuations_df['N'].iloc[-1])\n",
    "# ax.axvspan(0, N1, facecolor='green', alpha=0.2)\n",
    "# ax.axvspan(N2, N3 , facecolor='yellow', alpha=0.2)\n",
    "# sec_f = 24\n",
    "# ax.annotate('Subtraction of noise\\n is required',((0+N1)/2, 1.1e9),ha='center',fontsize=sec_f)\n",
    "# ax.annotate(r'Signal/Noise$\\gg 1$',((N2+N3)/2,3.2e9),ha='center',fontsize=sec_f)\n",
    "# ax.annotate('noise level',(0.6*(N2+N3),0.3e9),ha='center',fontsize=20)\n",
    "# # ax.set_title('Test light source. Different ND filters.', fontsize=24)\n",
    "# ax.set_xlim(0,3.5e7)\n",
    "# ax.set_ylim(0,ax.get_ylim()[1]*0.95)\n",
    "# plt.savefig(shift.get_results_dir().fi(\"test_light_source_large_scale.png\"),\n",
    "#             dpi=300, bbox_inches='tight')\n",
    "# plt.show()"
   ]
  },
  {
   "cell_type": "code",
   "execution_count": 48,
   "metadata": {},
   "outputs": [],
   "source": [
    "save_to_config(\"varN_error_fit\", varN_error_fit)"
   ]
  },
  {
   "cell_type": "code",
   "execution_count": 49,
   "metadata": {},
   "outputs": [],
   "source": [
    "# fig, ax = my_plot(order=[0,1], error_bar=varN_error_fit)\n",
    "# ax.set_ylim(0, zoom_y)\n",
    "# ax.set_xlim(0,zoom_x)\n",
    "# ax.text(0.56,0.1,'Inferred statistical error = {:s}'.format(as_si(varN_error_fit, 1)),\n",
    "#          transform=ax.transAxes,fontsize = sec_f)\n",
    "# # ax.set_title('Test light source. Dirrefent ND filters. Zoomed in.', fontsize=24)\n",
    "# plt.savefig(shift.get_results_dir().fi(\"test_light_source_small_scale.png\"),\n",
    "#             dpi=300, bbox_inches='tight')\n",
    "# plt.show()"
   ]
  },
  {
   "cell_type": "code",
   "execution_count": null,
   "metadata": {},
   "outputs": [],
   "source": [
    "\n"
   ]
  },
  {
   "cell_type": "code",
   "execution_count": 50,
   "metadata": {},
   "outputs": [],
   "source": [
    "# import figure_arrange_scripts as ff\n",
    "# hor_separ = 0.05\n",
    "# v_space = 150\n",
    "# fontsize = 175\n",
    "# im_paths = [shift.get_results_dir().fi(\"test_light_source_large_scale.png\"),\n",
    "#             shift.get_results_dir().fi(\"test_light_source_small_scale.png\")]\n",
    "# output_path = path_assistant.get_PRL_images_dir().fi(\"test_light_source.png\")"
   ]
  },
  {
   "cell_type": "code",
   "execution_count": 51,
   "metadata": {},
   "outputs": [],
   "source": [
    "# ff.RowOfFigures(im_paths,output_path,\n",
    "#                 hor_separ,v_space,fontsize,display_inline=1)"
   ]
  },
  {
   "cell_type": "markdown",
   "metadata": {},
   "source": [
    "# Noise subtraction illustration"
   ]
  },
  {
   "cell_type": "code",
   "execution_count": 13,
   "metadata": {},
   "outputs": [],
   "source": [
    "wfs = [\n",
    "    \"RefCurve_2019-04-30_6_132011.Wfm.csv\",#\"RefCurve_2019-04-29_10_174911.Wfm.csv\",\n",
    "    \"RefCurve_2019-04-30_19_140624.Wfm.csv\",#\"RefCurve_2019-04-30_10_133304.Wfm.csv\",#\"RefCurve_2019-04-29_13_175756.Wfm.csv\",\n",
    "    \"RefCurve_2019-04-30_14_134943.Wfm.csv\"#\"RefCurve_2019-04-29_19_181226.Wfm.csv\"\n",
    "]"
   ]
  },
  {
   "cell_type": "code",
   "execution_count": 14,
   "metadata": {},
   "outputs": [],
   "source": [
    "import numpy as np\n",
    "import pandas as pd\n",
    "from fur.waveform_reader import read_waveform\n",
    "from fur.finding_period import get_period\n",
    "from fur.fluctuations import get_fluctiation_and_noise_var"
   ]
  },
  {
   "cell_type": "code",
   "execution_count": 15,
   "metadata": {},
   "outputs": [],
   "source": [
    "res = []\n",
    "for i, wfi in enumerate(wfs):\n",
    "    wf = shift.get_waveform_path(wfi)\n",
    "    nbins=2660\n",
    "    filter_window_length=51\n",
    "    filter_polyorder=3\n",
    "    resampling_factor=10\n",
    "    cut_start=125000\n",
    "    cut_end=5000000\n",
    "    ch1, ch2 = read_waveform(wf, csv=True)\n",
    "    ch1 = ch1[cut_start:-cut_end]\n",
    "    ch2 = ch2[cut_start:-cut_end]\n",
    "    period = get_period(ch2,\n",
    "                        filter_window_length=filter_window_length,\n",
    "                        filter_polyorder=filter_polyorder,\n",
    "                        resampling_factor=resampling_factor,\n",
    "                        testing=False)\n",
    "    output = {}\n",
    "#     if i==2:\n",
    "#         period = 2659.9813549980827\n",
    "    get_fluctiation_and_noise_var(ch1, ch2, period, n_bins=nbins,\n",
    "                                  show_plots=False, fit_method='lstsq',\n",
    "                                  output_dic=output)\n",
    "    res.append(output['var_ch1_df'])"
   ]
  },
  {
   "cell_type": "code",
   "execution_count": 16,
   "metadata": {},
   "outputs": [],
   "source": [
    "for varch1_df in res:\n",
    "    varch1_df['var_ch1'] = np.roll(varch1_df['var_ch1'].values, -400)"
   ]
  },
  {
   "cell_type": "code",
   "execution_count": 17,
   "metadata": {},
   "outputs": [],
   "source": [
    "shift16 = path_assistant.PathAssistant('shift_03_16_2020')\n",
    "meas_ROUND = pd.read_csv(shift16.get_results_dir().fi('meas_ROUND_03_16_2020.csv'), index_col=0)\n",
    "meas_ROUND = meas_ROUND.sort_values(by='N',ignore_index=True)\n",
    "def f(x, alpha):\n",
    "    return x+alpha*x**2\n",
    "import scipy.optimize\n",
    "alpha = scipy.optimize.curve_fit(f, meas_ROUND['N'], meas_ROUND['varN'])[0][0]\n",
    "def NfromVarN(vn):\n",
    "    return (-1+np.sqrt(1+4*alpha*vn))/2/alpha"
   ]
  },
  {
   "cell_type": "code",
   "execution_count": null,
   "metadata": {},
   "outputs": [],
   "source": []
  },
  {
   "cell_type": "code",
   "execution_count": 18,
   "metadata": {},
   "outputs": [
    {
     "data": {
      "image/png": "[encoded data removed]",
      "text/plain": [
       "<Figure size 1080x540 with 1 Axes>"
      ]
     },
     "metadata": {
      "needs_background": "light"
     },
     "output_type": "display_data"
    }
   ],
   "source": [
    "plt.rcParams[\"text.usetex\"] =True\n",
    "plt.rc('text.latex', preamble=r'\\usepackage{siunitx}')\n",
    "plt.rcParams.update({'font.size': 36,'legend.fontsize':22})\n",
    "\n",
    "fig, ax = plt.subplots(figsize=[15, 7.5])\n",
    "for varch1_df, wf in zip(res,wfs):\n",
    "    row = fluctuations_df[fluctuations_df['waveform_file']==wf]\n",
    "#     valav = row['N'].values[0]\n",
    "    valvar = row['varN'].values[0]\n",
    "    valav = NfromVarN(valvar)\n",
    "    \n",
    "    ax.plot(0.04*varch1_df['t'],\n",
    "            varch1_df['var_ch1'],\n",
    "           label=\n",
    "#             r'$I_\\mathrm{beam} = \\SI{'+f\"{valav*N_to_I:.1f}\"+'}{mA}$, '\n",
    "#             +r'$\\left<\\mathcal{N}\\right>=\\SI{'\n",
    "#             +f\"{valav:.1e}\"\n",
    "#             +r'}{}$'\n",
    "#             +r', '\n",
    "            r'$\\mathrm{var}(\\mathcal{N})=\\SI{'\n",
    "            +f\"{valvar:.1e}\"\n",
    "            +r'}{}$'\n",
    "            )\n",
    "ax.set_ylim(0, 1.8e-7)\n",
    "ax.set_ylabel(r'$\\mathrm{var}(\\Delta(t))\\;(\\SI{}{V^2})$')\n",
    "ax.set_xlabel(r'Time within one IOTA revolution $t$ $(\\SI{}{ns})$')\n",
    "varch1_df = res[0]\n",
    "tmax = varch1_df['t'][np.argmax(varch1_df['var_ch1'])]*0.04\n",
    "ma = np.max(varch1_df['var_ch1'])-0.02e-7\n",
    "mi = np.min(varch1_df['var_ch1'])+0.03e-7\n",
    "av = (mi+ma)/2\n",
    "\n",
    "ax.arrow(tmax, av, 0, 0.85*(ma-av), head_width=2,\n",
    "         head_length=0.1*(ma-av), fc='k', ec='k', width=0.5,\n",
    "         zorder=100)\n",
    "ax.arrow(tmax, av, 0, 0.85*(mi-av), head_width=2,\n",
    "         head_length=0.1*(ma-av), fc='k', ec='k', width=0.5,\n",
    "         zorder=100)\n",
    "ax.annotate(\"$\\propto \\mathrm{var}(\\mathcal{N})$\", (tmax+1, av*0.97), fontsize=46)\n",
    "leg = ax.legend(loc='lower left')\n",
    "for legobj in leg.legendHandles:\n",
    "    legobj.set_linewidth(4.0)\n",
    "# plt.savefig(path_assistant.get_PRL_images_dir().fi(\"noise_filtering.png\"),\n",
    "#             dpi=300, bbox_inches='tight')\n",
    "plt.show()"
   ]
  },
  {
   "cell_type": "code",
   "execution_count": 19,
   "metadata": {},
   "outputs": [],
   "source": [
    "# noise_level_V2 = res[2][-500:].mean()['var_ch1']\n",
    "# noise_level = noise_level_V2*coef\n",
    "\n",
    "# save_to_config(\"noise_level_V2\", noise_level_V2)\n",
    "# save_to_config(\"noise_level\", noise_level)"
   ]
  },
  {
   "cell_type": "code",
   "execution_count": null,
   "metadata": {},
   "outputs": [],
   "source": []
  },
  {
   "cell_type": "code",
   "execution_count": null,
   "metadata": {},
   "outputs": [],
   "source": []
  },
  {
   "cell_type": "code",
   "execution_count": null,
   "metadata": {},
   "outputs": [],
   "source": []
  }
 ],
 "metadata": {
  "kernelspec": {
   "display_name": "Python 3 (ipykernel)",
   "language": "python",
   "name": "python3"
  },
  "language_info": {
   "codemirror_mode": {
    "name": "ipython",
    "version": 3
   },
   "file_extension": ".py",
   "mimetype": "text/x-python",
   "name": "python",
   "nbconvert_exporter": "python",
   "pygments_lexer": "ipython3",
   "version": "3.9.6"
  }
 },
 "nbformat": 4,
 "nbformat_minor": 4
}
