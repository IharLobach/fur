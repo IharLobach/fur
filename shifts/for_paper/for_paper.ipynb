{
 "cells": [
  {
   "cell_type": "markdown",
   "metadata": {},
   "source": [
    "# Appendix. Estimation of M"
   ]
  },
  {
   "cell_type": "code",
   "execution_count": 2,
   "metadata": {},
   "outputs": [],
   "source": [
    "import numpy as np"
   ]
  },
  {
   "cell_type": "markdown",
   "metadata": {},
   "source": [
    "# BNL experiment"
   ]
  },
  {
   "cell_type": "code",
   "execution_count": 10,
   "metadata": {},
   "outputs": [
    {
     "output_type": "stream",
     "name": "stdout",
     "text": "1/(2k) = 4.2e-08 m\nsz = 6.115e-02 m\nez = 2.718e-03 m\n"
    },
    {
     "output_type": "execute_result",
     "data": {
      "text/plain": "151786.43443789333"
     },
     "metadata": {},
     "execution_count": 10
    }
   ],
   "source": [
    "lmda1 = 532e-9  # m\n",
    "k = 2*np.pi/lmda1\n",
    "print(\"1/(2k) = {:.1e} m\".format(1/2/k))\n",
    "ex, ey = 8e-8, 2e-8\n",
    "c = 3e8  # m/s\n",
    "sz = c*0.48e-9/2.355\n",
    "print(f\"sz = {sz:.3e} m\")\n",
    "Nw = 22.5\n",
    "ez = sz/Nw\n",
    "print(f\"ez = {ez:.3e} m\")\n",
    "OmegaR = 1/(2*k)**3\n",
    "Omega = np.sqrt(\n",
    "    (1/(2*k)**2+ex**2)\n",
    "    *(1/(2*k)**2+ey**2)\n",
    "    *(1/(2*k)**2+ez**2))\n",
    "Mest = Omega/OmegaR\n",
    "Mest"
   ]
  },
  {
   "cell_type": "markdown",
   "metadata": {},
   "source": [
    "# IOTA"
   ]
  },
  {
   "cell_type": "code",
   "execution_count": 11,
   "metadata": {},
   "outputs": [
    {
     "output_type": "stream",
     "name": "stdout",
     "text": "1/(2k) = 8.6e-08 m\nsz = 3.800e-01 m\nez = 3.800e-02 m\n"
    },
    {
     "output_type": "execute_result",
     "data": {
      "text/plain": "1822484.6036884375"
     },
     "metadata": {},
     "execution_count": 11
    }
   ],
   "source": [
    "lmda1 = 1077e-9  # m\n",
    "k = 2*np.pi/lmda1\n",
    "print(\"1/(2k) = {:.1e} m\".format(1/2/k))\n",
    "ex, ey = 0.32e-6, 31e-9\n",
    "c = 3e8  # m/s\n",
    "sz = 0.38  # m\n",
    "print(f\"sz = {sz:.3e} m\")\n",
    "Nw = 10\n",
    "ez = sz/Nw\n",
    "print(f\"ez = {ez:.3e} m\")\n",
    "OmegaR = 1/(2*k)**3\n",
    "Omega = np.sqrt(\n",
    "    (1/(2*k)**2+ex**2)\n",
    "    *(1/(2*k)**2+ey**2)\n",
    "    *(1/(2*k)**2+ez**2))\n",
    "Mest = Omega/OmegaR\n",
    "Mest"
   ]
  },
  {
   "cell_type": "code",
   "execution_count": null,
   "metadata": {},
   "outputs": [],
   "source": []
  }
 ],
 "metadata": {
  "language_info": {
   "codemirror_mode": {
    "name": "ipython",
    "version": 3
   },
   "file_extension": ".py",
   "mimetype": "text/x-python",
   "name": "python",
   "nbconvert_exporter": "python",
   "pygments_lexer": "ipython3",
   "version": "3.6.5-final"
  },
  "orig_nbformat": 2,
  "kernelspec": {
   "name": "python36564bitenvvenv8808d7b94e124c33aa2e1a14e28a0d40",
   "display_name": "Python 3.6.5 64-bit ('env': venv)"
  }
 },
 "nbformat": 4,
 "nbformat_minor": 2
}