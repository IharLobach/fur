{
 "nbformat": 4,
 "nbformat_minor": 2,
 "metadata": {
  "language_info": {
   "name": "python",
   "codemirror_mode": {
    "name": "ipython",
    "version": 3
   },
   "version": "3.8.1-final"
  },
  "orig_nbformat": 2,
  "file_extension": ".py",
  "mimetype": "text/x-python",
  "name": "python",
  "npconvert_exporter": "python",
  "pygments_lexer": "ipython3",
  "version": 3,
  "kernelspec": {
   "name": "python38064bite3c19ae9db6c4906a3656ff47d72fb77",
   "display_name": "Python 3.8.0 64-bit"
  }
 },
 "cells": [
  {
   "cell_type": "code",
   "execution_count": 1,
   "metadata": {},
   "outputs": [],
   "source": [
    "from datetime import datetime\n",
    "import time\n",
    "import requests\n",
    "import numpy as np\n",
    "import scipy\n",
    "import pandas as pd\n",
    "import matplotlib.pyplot as plt\n",
    "import seaborn as sns\n",
    "import sys\n",
    "import os\n",
    "sys.path.append(os.path.join(os.getcwd(),'..','..'))\n",
    "from acnet_reader.acnet_reader import fetch_data\n",
    "t1 = datetime(2020, 3, 10, 11, 32)\n",
    "t2 = datetime(2020, 3, 10, 12, 58)"
   ]
  },
  {
   "cell_type": "code",
   "execution_count": 2,
   "metadata": {},
   "outputs": [
    {
     "data": {
      "text/html": "<div>\n<style scoped>\n    .dataframe tbody tr th:only-of-type {\n        vertical-align: middle;\n    }\n\n    .dataframe tbody tr th {\n        vertical-align: top;\n    }\n\n    .dataframe thead th {\n        text-align: right;\n    }\n</style>\n<table border=\"1\" class=\"dataframe\">\n  <thead>\n    <tr style=\"text-align: right;\">\n      <th></th>\n      <th>N:ITC1RSV</th>\n      <th>N:ITC1RSH</th>\n      <th>N:ITC2RSV</th>\n      <th>N:ITC2RSH</th>\n      <th>N:ITC3RSV</th>\n      <th>N:ITC3RSH</th>\n      <th>N:ITC4RSV</th>\n      <th>N:ITC4RSH</th>\n      <th>N:ITC4LSV</th>\n      <th>N:ITC4LSH</th>\n      <th>N:ITC3LSV</th>\n      <th>N:ITC3LSH</th>\n      <th>N:ITC2LSV</th>\n      <th>N:ITC2LSH</th>\n      <th>N:ITC1LSV</th>\n      <th>N:ITC1LSH</th>\n    </tr>\n  </thead>\n  <tbody>\n    <tr>\n      <th>2020-03-10 11:32:00.500</th>\n      <td>115.17191</td>\n      <td>495.66730</td>\n      <td>81.449501</td>\n      <td>1494.949</td>\n      <td>96.158798</td>\n      <td>1724.4139</td>\n      <td>105.9989</td>\n      <td>732.771</td>\n      <td>161.64549</td>\n      <td>1133.0229</td>\n      <td>72.934097</td>\n      <td>1730.4449</td>\n      <td>71.543602</td>\n      <td>1634.6920</td>\n      <td>133.62120</td>\n      <td>527.89502</td>\n    </tr>\n    <tr>\n      <th>2020-03-10 11:32:01.500</th>\n      <td>115.17191</td>\n      <td>495.66730</td>\n      <td>81.449501</td>\n      <td>1494.949</td>\n      <td>96.158798</td>\n      <td>1724.4139</td>\n      <td>105.9989</td>\n      <td>732.771</td>\n      <td>161.64549</td>\n      <td>1133.0229</td>\n      <td>72.934097</td>\n      <td>1730.4449</td>\n      <td>71.543602</td>\n      <td>1634.6920</td>\n      <td>133.62120</td>\n      <td>527.89502</td>\n    </tr>\n    <tr>\n      <th>2020-03-10 11:32:02.500</th>\n      <td>115.26750</td>\n      <td>494.60400</td>\n      <td>81.462105</td>\n      <td>1492.937</td>\n      <td>96.205299</td>\n      <td>1721.3270</td>\n      <td>105.9989</td>\n      <td>732.771</td>\n      <td>161.76300</td>\n      <td>1130.7990</td>\n      <td>73.060501</td>\n      <td>1726.4160</td>\n      <td>71.581100</td>\n      <td>1632.4711</td>\n      <td>133.63249</td>\n      <td>526.61804</td>\n    </tr>\n    <tr>\n      <th>2020-03-10 11:32:03.500</th>\n      <td>115.26750</td>\n      <td>494.60400</td>\n      <td>81.462105</td>\n      <td>1492.937</td>\n      <td>96.205299</td>\n      <td>1721.3270</td>\n      <td>105.9989</td>\n      <td>732.771</td>\n      <td>161.76300</td>\n      <td>1130.7990</td>\n      <td>73.060501</td>\n      <td>1726.4160</td>\n      <td>71.581100</td>\n      <td>1632.4711</td>\n      <td>133.63249</td>\n      <td>526.61804</td>\n    </tr>\n    <tr>\n      <th>2020-03-10 11:32:04.500</th>\n      <td>114.97920</td>\n      <td>495.46011</td>\n      <td>81.409409</td>\n      <td>1493.854</td>\n      <td>96.112206</td>\n      <td>1722.6100</td>\n      <td>105.9989</td>\n      <td>732.771</td>\n      <td>161.38420</td>\n      <td>1132.2230</td>\n      <td>72.861397</td>\n      <td>1729.0339</td>\n      <td>71.508102</td>\n      <td>1633.3879</td>\n      <td>133.35629</td>\n      <td>527.53400</td>\n    </tr>\n  </tbody>\n</table>\n</div>",
      "text/plain": "                         N:ITC1RSV  N:ITC1RSH  N:ITC2RSV  N:ITC2RSH  \\\n2020-03-10 11:32:00.500  115.17191  495.66730  81.449501   1494.949   \n2020-03-10 11:32:01.500  115.17191  495.66730  81.449501   1494.949   \n2020-03-10 11:32:02.500  115.26750  494.60400  81.462105   1492.937   \n2020-03-10 11:32:03.500  115.26750  494.60400  81.462105   1492.937   \n2020-03-10 11:32:04.500  114.97920  495.46011  81.409409   1493.854   \n\n                         N:ITC3RSV  N:ITC3RSH  N:ITC4RSV  N:ITC4RSH  \\\n2020-03-10 11:32:00.500  96.158798  1724.4139   105.9989    732.771   \n2020-03-10 11:32:01.500  96.158798  1724.4139   105.9989    732.771   \n2020-03-10 11:32:02.500  96.205299  1721.3270   105.9989    732.771   \n2020-03-10 11:32:03.500  96.205299  1721.3270   105.9989    732.771   \n2020-03-10 11:32:04.500  96.112206  1722.6100   105.9989    732.771   \n\n                         N:ITC4LSV  N:ITC4LSH  N:ITC3LSV  N:ITC3LSH  \\\n2020-03-10 11:32:00.500  161.64549  1133.0229  72.934097  1730.4449   \n2020-03-10 11:32:01.500  161.64549  1133.0229  72.934097  1730.4449   \n2020-03-10 11:32:02.500  161.76300  1130.7990  73.060501  1726.4160   \n2020-03-10 11:32:03.500  161.76300  1130.7990  73.060501  1726.4160   \n2020-03-10 11:32:04.500  161.38420  1132.2230  72.861397  1729.0339   \n\n                         N:ITC2LSV  N:ITC2LSH  N:ITC1LSV  N:ITC1LSH  \n2020-03-10 11:32:00.500  71.543602  1634.6920  133.62120  527.89502  \n2020-03-10 11:32:01.500  71.543602  1634.6920  133.62120  527.89502  \n2020-03-10 11:32:02.500  71.581100  1632.4711  133.63249  526.61804  \n2020-03-10 11:32:03.500  71.581100  1632.4711  133.63249  526.61804  \n2020-03-10 11:32:04.500  71.508102  1633.3879  133.35629  527.53400  "
     },
     "execution_count": 2,
     "metadata": {},
     "output_type": "execute_result"
    }
   ],
   "source": [
    "cameras = [\"N:ITC1RSV\", \"N:ITC1RSH\",\n",
    "           \"N:ITC2RSV\", \"N:ITC2RSH\",\n",
    "           \"N:ITC3RSV\", \"N:ITC3RSH\",\n",
    "           \"N:ITC4RSV\", \"N:ITC4RSH\",\n",
    "           \"N:ITC4LSV\", \"N:ITC4LSH\",\n",
    "           \"N:ITC3LSV\", \"N:ITC3LSH\",\n",
    "           \"N:ITC2LSV\", \"N:ITC2LSH\",\n",
    "           \"N:ITC1LSV\", \"N:ITC1LSH\"]\n",
    "synclight_data = fetch_data(t1, t2, cameras)\n",
    "synclight_data.head()"
   ]
  },
  {
   "cell_type": "code",
   "execution_count": 3,
   "metadata": {},
   "outputs": [],
   "source": [
    "wcm_data = fetch_data(t1, t2, [\"N:IWCMIG\", \"N:IWCMBE\"])"
   ]
  },
  {
   "cell_type": "code",
   "execution_count": 7,
   "metadata": {},
   "outputs": [],
   "source": [
    "ibeam_data = fetch_data(t1, t2, \"N:IBEAMA\")"
   ]
  },
  {
   "cell_type": "code",
   "execution_count": 12,
   "metadata": {},
   "outputs": [],
   "source": [
    "date_range = pd.date_range(t1, t2, freq='S')"
   ]
  },
  {
   "cell_type": "code",
   "execution_count": 15,
   "metadata": {},
   "outputs": [],
   "source": [
    "date_range_numpy = date_range.to_numpy()"
   ]
  },
  {
   "cell_type": "code",
   "execution_count": 46,
   "metadata": {},
   "outputs": [
    {
     "data": {
      "text/plain": "array([-2.86    , -2.860955, -2.85336 , ..., -2.637515, -2.63506 ,\n       -2.633   ])"
     },
     "execution_count": 46,
     "metadata": {},
     "output_type": "execute_result"
    }
   ],
   "source": [
    "np.interp(date_range_numpy.astype('uint64'), ibeam_data.index.to_numpy().astype('uint64'), ibeam_data.values)"
   ]
  },
  {
   "cell_type": "code",
   "execution_count": 43,
   "metadata": {},
   "outputs": [
    {
     "data": {
      "text/plain": "array([1583839920000000000, 1583839921000000000, 1583839922000000000, ...,\n       1583845078000000000, 1583845079000000000, 1583845080000000000],\n      dtype=int64)"
     },
     "execution_count": 43,
     "metadata": {},
     "output_type": "execute_result"
    }
   ],
   "source": [
    "date_range_numpy.astype('int64')"
   ]
  },
  {
   "cell_type": "code",
   "execution_count": 30,
   "metadata": {},
   "outputs": [
    {
     "data": {
      "text/plain": "array(['2020-03-10T11:32:00.045000000', '2020-03-10T11:32:01.045000000',\n       '2020-03-10T11:32:02.045000000', ...,\n       '2020-03-10T12:57:57.515000000', '2020-03-10T12:57:58.515000000',\n       '2020-03-10T12:57:59.515000000'], dtype='datetime64[ns]')"
     },
     "execution_count": 30,
     "metadata": {},
     "output_type": "execute_result"
    }
   ],
   "source": [
    "ibeam_data.index.to_numpy()"
   ]
  },
  {
   "cell_type": "code",
   "execution_count": 32,
   "metadata": {},
   "outputs": [
    {
     "data": {
      "text/plain": "array(['2020-03-10T11:32:00.000000000', '2020-03-10T11:32:01.000000000',\n       '2020-03-10T11:32:02.000000000', ...,\n       '2020-03-10T12:57:58.000000000', '2020-03-10T12:57:59.000000000',\n       '2020-03-10T12:58:00.000000000'], dtype='datetime64[ns]')"
     },
     "execution_count": 32,
     "metadata": {},
     "output_type": "execute_result"
    }
   ],
   "source": [
    "date_range_numpy"
   ]
  },
  {
   "cell_type": "code",
   "execution_count": 31,
   "metadata": {},
   "outputs": [
    {
     "data": {
      "text/plain": "array([-2.86 , -2.861, -2.853, ..., -2.638, -2.637, -2.633])"
     },
     "execution_count": 31,
     "metadata": {},
     "output_type": "execute_result"
    }
   ],
   "source": [
    "ibeam_data.values"
   ]
  },
  {
   "cell_type": "code",
   "execution_count": 23,
   "metadata": {},
   "outputs": [],
   "source": [
    "import calendar"
   ]
  },
  {
   "cell_type": "code",
   "execution_count": 25,
   "metadata": {},
   "outputs": [
    {
     "ename": "AttributeError",
     "evalue": "'DatetimeIndex' object has no attribute 'timetuple'",
     "output_type": "error",
     "traceback": [
      "\u001b[1;31m---------------------------------------------------------------------------\u001b[0m",
      "\u001b[1;31mAttributeError\u001b[0m                            Traceback (most recent call last)",
      "\u001b[1;32m<ipython-input-25-f0cc8cb0a7bc>\u001b[0m in \u001b[0;36m<module>\u001b[1;34m\u001b[0m\n\u001b[1;32m----> 1\u001b[1;33m \u001b[0mcalendar\u001b[0m\u001b[1;33m.\u001b[0m\u001b[0mtimegm\u001b[0m\u001b[1;33m(\u001b[0m\u001b[0mdate_range\u001b[0m\u001b[1;33m.\u001b[0m\u001b[0mtimetuple\u001b[0m\u001b[1;33m(\u001b[0m\u001b[1;33m)\u001b[0m\u001b[1;33m)\u001b[0m\u001b[1;33m\u001b[0m\u001b[1;33m\u001b[0m\u001b[0m\n\u001b[0m",
      "\u001b[1;31mAttributeError\u001b[0m: 'DatetimeIndex' object has no attribute 'timetuple'"
     ]
    }
   ],
   "source": [
    "calendar.timegm(date_range"
   ]
  },
  {
   "cell_type": "code",
   "execution_count": 33,
   "metadata": {},
   "outputs": [],
   "source": [
    "import scipy"
   ]
  },
  {
   "cell_type": "code",
   "execution_count": null,
   "metadata": {},
   "outputs": [],
   "source": []
  }
 ]
}