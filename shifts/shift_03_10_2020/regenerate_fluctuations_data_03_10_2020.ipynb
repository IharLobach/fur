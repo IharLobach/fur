{
 "nbformat": 4,
 "nbformat_minor": 2,
 "metadata": {
  "language_info": {
   "name": "python",
   "codemirror_mode": {
    "name": "ipython",
    "version": 3
   }
  },
  "orig_nbformat": 2,
  "file_extension": ".py",
  "mimetype": "text/x-python",
  "name": "python",
  "npconvert_exporter": "python",
  "pygments_lexer": "ipython3",
  "version": 3
 },
 "cells": [
  {
   "cell_type": "code",
   "execution_count": null,
   "metadata": {},
   "outputs": [],
   "source": [
    "from datetime import datetime\n",
    "from fur.one_data_set_analyzer import analyze_one_dataset\n",
    "import fur.path_assistant as path_assistant\n",
    "shift = path_assistant.PathAssistant(\n",
    "    'shift_03_10_2020',\n",
    "    ignore_files=[\"RefCurve_2020-03-10_0_111937_test.Wfm.bin\"])\n",
    "t1 = datetime(2020, 3, 10, 11, 32, 0)\n",
    "t2 = datetime(2020, 3, 10, 12, 58, 0)"
   ]
  },
  {
   "cell_type": "code",
   "execution_count": null,
   "metadata": {},
   "outputs": [],
   "source": [
    "fluctuations_df = analyze_one_dataset(\n",
    "    shift,\n",
    "    \"res_df_nd_filters_data_03_10_2020.csv\",\n",
    "    t1,\n",
    "    t2)"
   ]
  }
 ]
}