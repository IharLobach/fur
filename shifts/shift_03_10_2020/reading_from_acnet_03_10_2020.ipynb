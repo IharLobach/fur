{
 "nbformat": 4,
 "nbformat_minor": 2,
 "metadata": {
  "language_info": {
   "name": "python",
   "codemirror_mode": {
    "name": "ipython",
    "version": 3
   },
   "version": "3.8.0-final"
  },
  "orig_nbformat": 2,
  "file_extension": ".py",
  "mimetype": "text/x-python",
  "name": "python",
  "npconvert_exporter": "python",
  "pygments_lexer": "ipython3",
  "version": 3,
  "kernelspec": {
   "name": "python38064bite3c19ae9db6c4906a3656ff47d72fb77",
   "display_name": "Python 3.8.0 64-bit"
  }
 },
 "cells": [
  {
   "cell_type": "code",
   "execution_count": 1,
   "metadata": {},
   "outputs": [
    {
     "name": "stdout",
     "output_type": "stream",
     "text": "/home/ilobach/fur\n"
    }
   ],
   "source": [
    "%cd ~/fur\n",
    "from datetime import datetime\n",
    "import time\n",
    "import requests\n",
    "import numpy as np\n",
    "import scipy\n",
    "import pandas as pd\n",
    "import matplotlib.pyplot as plt\n",
    "import seaborn as sns\n",
    "import sys\n",
    "import os\n",
    "from acnet_reader.acnet_reader import fetch_data, get_interpolated_df, fetch_interpolated_data\n",
    "import fur.path_assistant as path_assistant\n",
    "shift_03_10_2020 = path_assistant.PathAssistant('shift_03_10_2020')\n",
    "#shift_03_09_2020.show_waveform_file_names()\n",
    "waveforms_dir = shift_03_10_2020.get_waveforms_dir()\n",
    "results_dir = shift_03_10_2020.get_results_dir()\n",
    "acnet_data_dir = shift_03_10_2020.get_acnet_data_dir()\n",
    "t1 = datetime(2020, 3, 10, 11, 32)\n",
    "t2 = datetime(2020, 3, 10, 12, 58)"
   ]
  },
  {
   "cell_type": "code",
   "execution_count": 2,
   "metadata": {},
   "outputs": [
    {
     "data": {
      "text/html": "<div>\n<style scoped>\n    .dataframe tbody tr th:only-of-type {\n        vertical-align: middle;\n    }\n\n    .dataframe tbody tr th {\n        vertical-align: top;\n    }\n\n    .dataframe thead th {\n        text-align: right;\n    }\n</style>\n<table border=\"1\" class=\"dataframe\">\n  <thead>\n    <tr style=\"text-align: right;\">\n      <th></th>\n      <th>N:ITC1RSV</th>\n      <th>N:ITC1RSH</th>\n      <th>N:ITC2RSV</th>\n      <th>N:ITC2RSH</th>\n      <th>N:ITC3RSV</th>\n      <th>N:ITC3RSH</th>\n      <th>N:ITC4RSV</th>\n      <th>N:ITC4RSH</th>\n      <th>N:ITC4LSV</th>\n      <th>N:ITC4LSH</th>\n      <th>N:ITC3LSV</th>\n      <th>N:ITC3LSH</th>\n      <th>N:ITC2LSV</th>\n      <th>N:ITC2LSH</th>\n      <th>N:ITC1LSV</th>\n      <th>N:ITC1LSH</th>\n    </tr>\n  </thead>\n  <tbody>\n    <tr>\n      <th>2020-03-10 11:32:00</th>\n      <td>115.171910</td>\n      <td>495.667300</td>\n      <td>81.449501</td>\n      <td>1494.9490</td>\n      <td>96.158798</td>\n      <td>1724.41390</td>\n      <td>105.9989</td>\n      <td>732.771</td>\n      <td>161.645490</td>\n      <td>1133.02290</td>\n      <td>72.934097</td>\n      <td>1730.44490</td>\n      <td>71.543602</td>\n      <td>1634.69200</td>\n      <td>133.621200</td>\n      <td>527.89502</td>\n    </tr>\n    <tr>\n      <th>2020-03-10 11:32:01</th>\n      <td>115.171910</td>\n      <td>495.667300</td>\n      <td>81.449501</td>\n      <td>1494.9490</td>\n      <td>96.158798</td>\n      <td>1724.41390</td>\n      <td>105.9989</td>\n      <td>732.771</td>\n      <td>161.645490</td>\n      <td>1133.02290</td>\n      <td>72.934097</td>\n      <td>1730.44490</td>\n      <td>71.543602</td>\n      <td>1634.69200</td>\n      <td>133.621200</td>\n      <td>527.89502</td>\n    </tr>\n    <tr>\n      <th>2020-03-10 11:32:02</th>\n      <td>115.219705</td>\n      <td>495.135650</td>\n      <td>81.455803</td>\n      <td>1493.9430</td>\n      <td>96.182049</td>\n      <td>1722.87045</td>\n      <td>105.9989</td>\n      <td>732.771</td>\n      <td>161.704245</td>\n      <td>1131.91095</td>\n      <td>72.997299</td>\n      <td>1728.43045</td>\n      <td>71.562351</td>\n      <td>1633.58155</td>\n      <td>133.626845</td>\n      <td>527.25653</td>\n    </tr>\n    <tr>\n      <th>2020-03-10 11:32:03</th>\n      <td>115.267500</td>\n      <td>494.604000</td>\n      <td>81.462105</td>\n      <td>1492.9370</td>\n      <td>96.205299</td>\n      <td>1721.32700</td>\n      <td>105.9989</td>\n      <td>732.771</td>\n      <td>161.763000</td>\n      <td>1130.79900</td>\n      <td>73.060501</td>\n      <td>1726.41600</td>\n      <td>71.581100</td>\n      <td>1632.47110</td>\n      <td>133.632490</td>\n      <td>526.61804</td>\n    </tr>\n    <tr>\n      <th>2020-03-10 11:32:04</th>\n      <td>115.123350</td>\n      <td>495.032055</td>\n      <td>81.435757</td>\n      <td>1493.3955</td>\n      <td>96.158752</td>\n      <td>1721.96850</td>\n      <td>105.9989</td>\n      <td>732.771</td>\n      <td>161.573600</td>\n      <td>1131.51100</td>\n      <td>72.960949</td>\n      <td>1727.72495</td>\n      <td>71.544601</td>\n      <td>1632.92950</td>\n      <td>133.494390</td>\n      <td>527.07602</td>\n    </tr>\n  </tbody>\n</table>\n</div>",
      "text/plain": "                      N:ITC1RSV   N:ITC1RSH  N:ITC2RSV  N:ITC2RSH  N:ITC3RSV  \\\n2020-03-10 11:32:00  115.171910  495.667300  81.449501  1494.9490  96.158798   \n2020-03-10 11:32:01  115.171910  495.667300  81.449501  1494.9490  96.158798   \n2020-03-10 11:32:02  115.219705  495.135650  81.455803  1493.9430  96.182049   \n2020-03-10 11:32:03  115.267500  494.604000  81.462105  1492.9370  96.205299   \n2020-03-10 11:32:04  115.123350  495.032055  81.435757  1493.3955  96.158752   \n\n                      N:ITC3RSH  N:ITC4RSV  N:ITC4RSH   N:ITC4LSV   N:ITC4LSH  \\\n2020-03-10 11:32:00  1724.41390   105.9989    732.771  161.645490  1133.02290   \n2020-03-10 11:32:01  1724.41390   105.9989    732.771  161.645490  1133.02290   \n2020-03-10 11:32:02  1722.87045   105.9989    732.771  161.704245  1131.91095   \n2020-03-10 11:32:03  1721.32700   105.9989    732.771  161.763000  1130.79900   \n2020-03-10 11:32:04  1721.96850   105.9989    732.771  161.573600  1131.51100   \n\n                     N:ITC3LSV   N:ITC3LSH  N:ITC2LSV   N:ITC2LSH   N:ITC1LSV  \\\n2020-03-10 11:32:00  72.934097  1730.44490  71.543602  1634.69200  133.621200   \n2020-03-10 11:32:01  72.934097  1730.44490  71.543602  1634.69200  133.621200   \n2020-03-10 11:32:02  72.997299  1728.43045  71.562351  1633.58155  133.626845   \n2020-03-10 11:32:03  73.060501  1726.41600  71.581100  1632.47110  133.632490   \n2020-03-10 11:32:04  72.960949  1727.72495  71.544601  1632.92950  133.494390   \n\n                     N:ITC1LSH  \n2020-03-10 11:32:00  527.89502  \n2020-03-10 11:32:01  527.89502  \n2020-03-10 11:32:02  527.25653  \n2020-03-10 11:32:03  526.61804  \n2020-03-10 11:32:04  527.07602  "
     },
     "execution_count": 2,
     "metadata": {},
     "output_type": "execute_result"
    }
   ],
   "source": [
    "cameras = [\"N:ITC1RSV\", \"N:ITC1RSH\",\n",
    "           \"N:ITC2RSV\", \"N:ITC2RSH\",\n",
    "           \"N:ITC3RSV\", \"N:ITC3RSH\",\n",
    "           \"N:ITC4RSV\", \"N:ITC4RSH\",\n",
    "           \"N:ITC4LSV\", \"N:ITC4LSH\",\n",
    "           \"N:ITC3LSV\", \"N:ITC3LSH\",\n",
    "           \"N:ITC2LSV\", \"N:ITC2LSH\",\n",
    "           \"N:ITC1LSV\", \"N:ITC1LSH\"]\n",
    "synclight_data = fetch_interpolated_data(t1, t2, cameras)\n",
    "synclight_data.head()"
   ]
  },
  {
   "cell_type": "code",
   "execution_count": 3,
   "metadata": {},
   "outputs": [
    {
     "data": {
      "text/html": "<div>\n<style scoped>\n    .dataframe tbody tr th:only-of-type {\n        vertical-align: middle;\n    }\n\n    .dataframe tbody tr th {\n        vertical-align: top;\n    }\n\n    .dataframe thead th {\n        text-align: right;\n    }\n</style>\n<table border=\"1\" class=\"dataframe\">\n  <thead>\n    <tr style=\"text-align: right;\">\n      <th></th>\n      <th>N:IWCMBF</th>\n      <th>N:IWCMBR</th>\n      <th>N:IWCMBP</th>\n      <th>N:IWCMI</th>\n      <th>N:IRFEPA</th>\n      <th>N:IRFEPP</th>\n      <th>N:IWCMBE</th>\n      <th>N:IWCMBM</th>\n      <th>N:IWCMBG</th>\n      <th>N:IWCMIG</th>\n    </tr>\n  </thead>\n  <tbody>\n    <tr>\n      <th>2020-03-10 11:32:00</th>\n      <td>65.245247</td>\n      <td>32.583591</td>\n      <td>-84.270927</td>\n      <td>-3.157147</td>\n      <td>382.633360</td>\n      <td>102.411600</td>\n      <td>30.070612</td>\n      <td>24.811287</td>\n      <td>28.593954</td>\n      <td>-3.076396</td>\n    </tr>\n    <tr>\n      <th>2020-03-10 11:32:01</th>\n      <td>65.223091</td>\n      <td>32.627500</td>\n      <td>-84.168604</td>\n      <td>-3.154781</td>\n      <td>382.576660</td>\n      <td>102.308860</td>\n      <td>30.079625</td>\n      <td>24.829204</td>\n      <td>28.592069</td>\n      <td>-3.073536</td>\n    </tr>\n    <tr>\n      <th>2020-03-10 11:32:02</th>\n      <td>65.215752</td>\n      <td>32.622227</td>\n      <td>-84.114246</td>\n      <td>-3.149670</td>\n      <td>382.532503</td>\n      <td>102.251695</td>\n      <td>30.077182</td>\n      <td>24.828075</td>\n      <td>28.591326</td>\n      <td>-3.068655</td>\n    </tr>\n    <tr>\n      <th>2020-03-10 11:32:03</th>\n      <td>65.212951</td>\n      <td>32.571848</td>\n      <td>-84.125088</td>\n      <td>-3.143769</td>\n      <td>382.533780</td>\n      <td>102.262436</td>\n      <td>30.058085</td>\n      <td>24.804326</td>\n      <td>28.585906</td>\n      <td>-3.063583</td>\n    </tr>\n    <tr>\n      <th>2020-03-10 11:32:04</th>\n      <td>65.202658</td>\n      <td>32.590821</td>\n      <td>-84.087025</td>\n      <td>-3.139475</td>\n      <td>382.571396</td>\n      <td>102.224416</td>\n      <td>30.052597</td>\n      <td>24.806638</td>\n      <td>28.576232</td>\n      <td>-3.059149</td>\n    </tr>\n  </tbody>\n</table>\n</div>",
      "text/plain": "                      N:IWCMBF   N:IWCMBR   N:IWCMBP   N:IWCMI    N:IRFEPA  \\\n2020-03-10 11:32:00  65.245247  32.583591 -84.270927 -3.157147  382.633360   \n2020-03-10 11:32:01  65.223091  32.627500 -84.168604 -3.154781  382.576660   \n2020-03-10 11:32:02  65.215752  32.622227 -84.114246 -3.149670  382.532503   \n2020-03-10 11:32:03  65.212951  32.571848 -84.125088 -3.143769  382.533780   \n2020-03-10 11:32:04  65.202658  32.590821 -84.087025 -3.139475  382.571396   \n\n                       N:IRFEPP   N:IWCMBE   N:IWCMBM   N:IWCMBG  N:IWCMIG  \n2020-03-10 11:32:00  102.411600  30.070612  24.811287  28.593954 -3.076396  \n2020-03-10 11:32:01  102.308860  30.079625  24.829204  28.592069 -3.073536  \n2020-03-10 11:32:02  102.251695  30.077182  24.828075  28.591326 -3.068655  \n2020-03-10 11:32:03  102.262436  30.058085  24.804326  28.585906 -3.063583  \n2020-03-10 11:32:04  102.224416  30.052597  24.806638  28.576232 -3.059149  "
     },
     "execution_count": 3,
     "metadata": {},
     "output_type": "execute_result"
    }
   ],
   "source": [
    "wcm_devices = [\"N:IWCMBF\", \"N:IWCMBR\", \"N:IWCMBP\",\n",
    "               \"N:IWCMI\", \"N:IRFEPA\", \"N:IRFEPP\", \"N:IWCMBE\",\n",
    "               \"N:IWCMBM\", \"N:IWCMBG\", \"N:IWCMIG\"]\n",
    "wcm_data = fetch_interpolated_data(t1, t2, wcm_devices)\n",
    "wcm_data.head()"
   ]
  },
  {
   "cell_type": "code",
   "execution_count": 4,
   "metadata": {},
   "outputs": [
    {
     "data": {
      "text/html": "<div>\n<style scoped>\n    .dataframe tbody tr th:only-of-type {\n        vertical-align: middle;\n    }\n\n    .dataframe tbody tr th {\n        vertical-align: top;\n    }\n\n    .dataframe thead th {\n        text-align: right;\n    }\n</style>\n<table border=\"1\" class=\"dataframe\">\n  <thead>\n    <tr style=\"text-align: right;\">\n      <th></th>\n      <th>N:IBEAMA</th>\n    </tr>\n  </thead>\n  <tbody>\n    <tr>\n      <th>2020-03-10 11:32:00</th>\n      <td>-2.860000</td>\n    </tr>\n    <tr>\n      <th>2020-03-10 11:32:01</th>\n      <td>-2.860955</td>\n    </tr>\n    <tr>\n      <th>2020-03-10 11:32:02</th>\n      <td>-2.853360</td>\n    </tr>\n    <tr>\n      <th>2020-03-10 11:32:03</th>\n      <td>-2.848225</td>\n    </tr>\n    <tr>\n      <th>2020-03-10 11:32:04</th>\n      <td>-2.843225</td>\n    </tr>\n  </tbody>\n</table>\n</div>",
      "text/plain": "                     N:IBEAMA\n2020-03-10 11:32:00 -2.860000\n2020-03-10 11:32:01 -2.860955\n2020-03-10 11:32:02 -2.853360\n2020-03-10 11:32:03 -2.848225\n2020-03-10 11:32:04 -2.843225"
     },
     "execution_count": 4,
     "metadata": {},
     "output_type": "execute_result"
    }
   ],
   "source": [
    "ibeam_data = fetch_interpolated_data(t1, t2, \"N:IBEAMA\")\n",
    "ibeam_data.head()"
   ]
  },
  {
   "cell_type": "code",
   "execution_count": 5,
   "metadata": {},
   "outputs": [
    {
     "data": {
      "text/html": "<div>\n<style scoped>\n    .dataframe tbody tr th:only-of-type {\n        vertical-align: middle;\n    }\n\n    .dataframe tbody tr th {\n        vertical-align: top;\n    }\n\n    .dataframe thead th {\n        text-align: right;\n    }\n</style>\n<table border=\"1\" class=\"dataframe\">\n  <thead>\n    <tr style=\"text-align: right;\">\n      <th></th>\n      <th>N:IRFEPC</th>\n    </tr>\n  </thead>\n  <tbody>\n    <tr>\n      <th>2020-03-10 11:32:00</th>\n      <td>40.1</td>\n    </tr>\n    <tr>\n      <th>2020-03-10 11:32:01</th>\n      <td>40.1</td>\n    </tr>\n    <tr>\n      <th>2020-03-10 11:32:02</th>\n      <td>40.1</td>\n    </tr>\n    <tr>\n      <th>2020-03-10 11:32:03</th>\n      <td>40.1</td>\n    </tr>\n    <tr>\n      <th>2020-03-10 11:32:04</th>\n      <td>40.1</td>\n    </tr>\n  </tbody>\n</table>\n</div>",
      "text/plain": "                     N:IRFEPC\n2020-03-10 11:32:00      40.1\n2020-03-10 11:32:01      40.1\n2020-03-10 11:32:02      40.1\n2020-03-10 11:32:03      40.1\n2020-03-10 11:32:04      40.1"
     },
     "execution_count": 5,
     "metadata": {},
     "output_type": "execute_result"
    }
   ],
   "source": [
    "rf_phase_data = fetch_interpolated_data(t1, t2, \"N:IRFEPC\")\n",
    "rf_phase_data.head()\n"
   ]
  },
  {
   "cell_type": "code",
   "execution_count": 6,
   "metadata": {},
   "outputs": [
    {
     "data": {
      "text/html": "<div>\n<style scoped>\n    .dataframe tbody tr th:only-of-type {\n        vertical-align: middle;\n    }\n\n    .dataframe tbody tr th {\n        vertical-align: top;\n    }\n\n    .dataframe thead th {\n        text-align: right;\n    }\n</style>\n<table border=\"1\" class=\"dataframe\">\n  <thead>\n    <tr style=\"text-align: right;\">\n      <th></th>\n      <th>N:IRFEAT</th>\n      <th>N:IRFEFP</th>\n      <th>N:IRFECG</th>\n    </tr>\n  </thead>\n  <tbody>\n    <tr>\n      <th>2020-03-10 11:32:00</th>\n      <td>-7.0</td>\n      <td>10.480000</td>\n      <td>0.289600</td>\n    </tr>\n    <tr>\n      <th>2020-03-10 11:32:01</th>\n      <td>-7.0</td>\n      <td>10.480000</td>\n      <td>0.289600</td>\n    </tr>\n    <tr>\n      <th>2020-03-10 11:32:02</th>\n      <td>-7.0</td>\n      <td>10.480000</td>\n      <td>0.289600</td>\n    </tr>\n    <tr>\n      <th>2020-03-10 11:32:03</th>\n      <td>-7.0</td>\n      <td>10.478068</td>\n      <td>0.289561</td>\n    </tr>\n    <tr>\n      <th>2020-03-10 11:32:04</th>\n      <td>-7.0</td>\n      <td>10.471940</td>\n      <td>0.289439</td>\n    </tr>\n  </tbody>\n</table>\n</div>",
      "text/plain": "                     N:IRFEAT   N:IRFEFP  N:IRFECG\n2020-03-10 11:32:00      -7.0  10.480000  0.289600\n2020-03-10 11:32:01      -7.0  10.480000  0.289600\n2020-03-10 11:32:02      -7.0  10.480000  0.289600\n2020-03-10 11:32:03      -7.0  10.478068  0.289561\n2020-03-10 11:32:04      -7.0  10.471940  0.289439"
     },
     "execution_count": 6,
     "metadata": {},
     "output_type": "execute_result"
    }
   ],
   "source": [
    "rf_devices = [ \"N:IRFEAT\", \"N:IRFEFP\", \"N:IRFECG\"]\n",
    "rf_data = fetch_interpolated_data(t1, t2, rf_devices)\n",
    "rf_data.head()"
   ]
  },
  {
   "cell_type": "code",
   "execution_count": 7,
   "metadata": {},
   "outputs": [],
   "source": [
    "all_data_03_10_2020 = pd.concat([synclight_data, wcm_data, ibeam_data, rf_phase_data, rf_data], axis=1)"
   ]
  },
  {
   "cell_type": "code",
   "execution_count": 8,
   "metadata": {},
   "outputs": [
    {
     "data": {
      "text/html": "<div>\n<style scoped>\n    .dataframe tbody tr th:only-of-type {\n        vertical-align: middle;\n    }\n\n    .dataframe tbody tr th {\n        vertical-align: top;\n    }\n\n    .dataframe thead th {\n        text-align: right;\n    }\n</style>\n<table border=\"1\" class=\"dataframe\">\n  <thead>\n    <tr style=\"text-align: right;\">\n      <th></th>\n      <th>N:ITC1RSV</th>\n      <th>N:ITC1RSH</th>\n      <th>N:ITC2RSV</th>\n      <th>N:ITC2RSH</th>\n      <th>N:ITC3RSV</th>\n      <th>N:ITC3RSH</th>\n      <th>N:ITC4RSV</th>\n      <th>N:ITC4RSH</th>\n      <th>N:ITC4LSV</th>\n      <th>N:ITC4LSH</th>\n      <th>...</th>\n      <th>N:IRFEPP</th>\n      <th>N:IWCMBE</th>\n      <th>N:IWCMBM</th>\n      <th>N:IWCMBG</th>\n      <th>N:IWCMIG</th>\n      <th>N:IBEAMA</th>\n      <th>N:IRFEPC</th>\n      <th>N:IRFEAT</th>\n      <th>N:IRFEFP</th>\n      <th>N:IRFECG</th>\n    </tr>\n  </thead>\n  <tbody>\n    <tr>\n      <th>2020-03-10 11:32:00</th>\n      <td>115.171910</td>\n      <td>495.667300</td>\n      <td>81.449501</td>\n      <td>1494.9490</td>\n      <td>96.158798</td>\n      <td>1724.41390</td>\n      <td>105.9989</td>\n      <td>732.771</td>\n      <td>161.645490</td>\n      <td>1133.02290</td>\n      <td>...</td>\n      <td>102.411600</td>\n      <td>30.070612</td>\n      <td>24.811287</td>\n      <td>28.593954</td>\n      <td>-3.076396</td>\n      <td>-2.860000</td>\n      <td>40.1</td>\n      <td>-7.0</td>\n      <td>10.480000</td>\n      <td>0.289600</td>\n    </tr>\n    <tr>\n      <th>2020-03-10 11:32:01</th>\n      <td>115.171910</td>\n      <td>495.667300</td>\n      <td>81.449501</td>\n      <td>1494.9490</td>\n      <td>96.158798</td>\n      <td>1724.41390</td>\n      <td>105.9989</td>\n      <td>732.771</td>\n      <td>161.645490</td>\n      <td>1133.02290</td>\n      <td>...</td>\n      <td>102.308860</td>\n      <td>30.079625</td>\n      <td>24.829204</td>\n      <td>28.592069</td>\n      <td>-3.073536</td>\n      <td>-2.860955</td>\n      <td>40.1</td>\n      <td>-7.0</td>\n      <td>10.480000</td>\n      <td>0.289600</td>\n    </tr>\n    <tr>\n      <th>2020-03-10 11:32:02</th>\n      <td>115.219705</td>\n      <td>495.135650</td>\n      <td>81.455803</td>\n      <td>1493.9430</td>\n      <td>96.182049</td>\n      <td>1722.87045</td>\n      <td>105.9989</td>\n      <td>732.771</td>\n      <td>161.704245</td>\n      <td>1131.91095</td>\n      <td>...</td>\n      <td>102.251695</td>\n      <td>30.077182</td>\n      <td>24.828075</td>\n      <td>28.591326</td>\n      <td>-3.068655</td>\n      <td>-2.853360</td>\n      <td>40.1</td>\n      <td>-7.0</td>\n      <td>10.480000</td>\n      <td>0.289600</td>\n    </tr>\n    <tr>\n      <th>2020-03-10 11:32:03</th>\n      <td>115.267500</td>\n      <td>494.604000</td>\n      <td>81.462105</td>\n      <td>1492.9370</td>\n      <td>96.205299</td>\n      <td>1721.32700</td>\n      <td>105.9989</td>\n      <td>732.771</td>\n      <td>161.763000</td>\n      <td>1130.79900</td>\n      <td>...</td>\n      <td>102.262436</td>\n      <td>30.058085</td>\n      <td>24.804326</td>\n      <td>28.585906</td>\n      <td>-3.063583</td>\n      <td>-2.848225</td>\n      <td>40.1</td>\n      <td>-7.0</td>\n      <td>10.478068</td>\n      <td>0.289561</td>\n    </tr>\n    <tr>\n      <th>2020-03-10 11:32:04</th>\n      <td>115.123350</td>\n      <td>495.032055</td>\n      <td>81.435757</td>\n      <td>1493.3955</td>\n      <td>96.158752</td>\n      <td>1721.96850</td>\n      <td>105.9989</td>\n      <td>732.771</td>\n      <td>161.573600</td>\n      <td>1131.51100</td>\n      <td>...</td>\n      <td>102.224416</td>\n      <td>30.052597</td>\n      <td>24.806638</td>\n      <td>28.576232</td>\n      <td>-3.059149</td>\n      <td>-2.843225</td>\n      <td>40.1</td>\n      <td>-7.0</td>\n      <td>10.471940</td>\n      <td>0.289439</td>\n    </tr>\n  </tbody>\n</table>\n<p>5 rows × 31 columns</p>\n</div>",
      "text/plain": "                      N:ITC1RSV   N:ITC1RSH  N:ITC2RSV  N:ITC2RSH  N:ITC3RSV  \\\n2020-03-10 11:32:00  115.171910  495.667300  81.449501  1494.9490  96.158798   \n2020-03-10 11:32:01  115.171910  495.667300  81.449501  1494.9490  96.158798   \n2020-03-10 11:32:02  115.219705  495.135650  81.455803  1493.9430  96.182049   \n2020-03-10 11:32:03  115.267500  494.604000  81.462105  1492.9370  96.205299   \n2020-03-10 11:32:04  115.123350  495.032055  81.435757  1493.3955  96.158752   \n\n                      N:ITC3RSH  N:ITC4RSV  N:ITC4RSH   N:ITC4LSV   N:ITC4LSH  \\\n2020-03-10 11:32:00  1724.41390   105.9989    732.771  161.645490  1133.02290   \n2020-03-10 11:32:01  1724.41390   105.9989    732.771  161.645490  1133.02290   \n2020-03-10 11:32:02  1722.87045   105.9989    732.771  161.704245  1131.91095   \n2020-03-10 11:32:03  1721.32700   105.9989    732.771  161.763000  1130.79900   \n2020-03-10 11:32:04  1721.96850   105.9989    732.771  161.573600  1131.51100   \n\n                     ...    N:IRFEPP   N:IWCMBE   N:IWCMBM   N:IWCMBG  \\\n2020-03-10 11:32:00  ...  102.411600  30.070612  24.811287  28.593954   \n2020-03-10 11:32:01  ...  102.308860  30.079625  24.829204  28.592069   \n2020-03-10 11:32:02  ...  102.251695  30.077182  24.828075  28.591326   \n2020-03-10 11:32:03  ...  102.262436  30.058085  24.804326  28.585906   \n2020-03-10 11:32:04  ...  102.224416  30.052597  24.806638  28.576232   \n\n                     N:IWCMIG  N:IBEAMA  N:IRFEPC  N:IRFEAT   N:IRFEFP  \\\n2020-03-10 11:32:00 -3.076396 -2.860000      40.1      -7.0  10.480000   \n2020-03-10 11:32:01 -3.073536 -2.860955      40.1      -7.0  10.480000   \n2020-03-10 11:32:02 -3.068655 -2.853360      40.1      -7.0  10.480000   \n2020-03-10 11:32:03 -3.063583 -2.848225      40.1      -7.0  10.478068   \n2020-03-10 11:32:04 -3.059149 -2.843225      40.1      -7.0  10.471940   \n\n                     N:IRFECG  \n2020-03-10 11:32:00  0.289600  \n2020-03-10 11:32:01  0.289600  \n2020-03-10 11:32:02  0.289600  \n2020-03-10 11:32:03  0.289561  \n2020-03-10 11:32:04  0.289439  \n\n[5 rows x 31 columns]"
     },
     "execution_count": 8,
     "metadata": {},
     "output_type": "execute_result"
    }
   ],
   "source": [
    "all_data_03_10_2020.head()"
   ]
  },
  {
   "cell_type": "code",
   "execution_count": 9,
   "metadata": {},
   "outputs": [],
   "source": [
    "all_data_03_10_2020.to_csv(acnet_data_dir.fi(\"all_acnet_data_03_10_2020.csv\"))"
   ]
  },
  {
   "cell_type": "code",
   "execution_count": null,
   "metadata": {},
   "outputs": [],
   "source": []
  }
 ]
}