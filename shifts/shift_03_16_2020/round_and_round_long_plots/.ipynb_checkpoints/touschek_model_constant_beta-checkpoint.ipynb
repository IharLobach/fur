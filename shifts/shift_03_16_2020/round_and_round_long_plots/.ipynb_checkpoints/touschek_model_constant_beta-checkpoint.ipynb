{
 "cells": [
  {
   "cell_type": "code",
   "execution_count": 2,
   "metadata": {},
   "outputs": [],
   "source": [
    "import numpy as np\n",
    "import pandas as pd\n",
    "import os\n",
    "import matplotlib.pyplot as plt\n",
    "from config import get_from_config\n",
    "import fur.path_assistant as path_assistant\n",
    "from touschek.touschek import get_LamTska, get_Touschek_Lifetime_Lebedev,\\\n",
    "                                get_Touschek_Lifetime_Valishev\n",
    "shift = path_assistant.PathAssistant('shift_03_16_2020')\n",
    "from wiggler_radiation.number_of_coherent_modes.coherent_modes import get_M_interpolator_at_fixed_energy\n",
    "cur_to_sum_channel = get_from_config(\"Beam_current_to_Sum_channel_ampl_V/mA\")\n",
    "sum_channel_to_photoelectrons = get_from_config('sum_channel_to_photoelectrons')\n",
    "from lattice import lattice\n",
    "lattice_df = \\\n",
    "    lattice.read_lattice_file(shift.get_6dsim_dir()\\\n",
    "    .fi(\"IOTA_1NL_100MeV_v8.6.1.4.6ds_data.txt\"))"
   ]
  },
  {
   "cell_type": "code",
   "execution_count": 3,
   "metadata": {},
   "outputs": [],
   "source": [
    "ex = 5.82e-5*1e4\n",
    "ey = 0.0037*ex\n",
    "sz = 33.8\n",
    "Ibeam = 3.185\n",
    "V0 = 354\n",
    "sp = 2.996e-4"
   ]
  },
  {
   "cell_type": "code",
   "execution_count": 8,
   "metadata": {},
   "outputs": [
    {
     "name": "stdout",
     "output_type": "stream",
     "text": [
      "Lifetime (Leb) =  352.8998195952665\n",
      "Lifetime (Val) =  89.53357935128726\n"
     ]
    },
    {
     "data": {
      "text/plain": [
       "3.9415359259865523"
      ]
     },
     "execution_count": 8,
     "metadata": {},
     "output_type": "execute_result"
    }
   ],
   "source": [
    "ldf = lattice_df\n",
    "aperture_factor=1\n",
    "mldf = ldf.copy()\n",
    "mldf['Beta_cm_X'] = np.where(mldf['S_cm']>2000, 200, 100)\n",
    "mldf['Beta_cm_Y'] = 100\n",
    "mldf['Alpha_X'] = 0\n",
    "mldf['Alpha_Y'] = 0\n",
    "mldf['Dispersion_cm_X'] = 0\n",
    "mldf['dDx'] = 0\n",
    "mldf['dDx/dS'] = 0\n",
    "mldf['Phi_X'] = 0\n",
    "mldf['H'] = 0\n",
    "dict_Leb = {}\n",
    "leb = get_Touschek_Lifetime_Lebedev(mldf, V0, 1e-10, ex, ey, sz, Ibeam,\n",
    "                         aperture_factor=aperture_factor, gamma=100/0.511,\n",
    "                         test_dict=dict_Leb)\n",
    "dict_Val = {}\n",
    "val = get_Touschek_Lifetime_Valishev(mldf, V0, 0, ex, ey, sz, Ibeam,\n",
    "                         aperture_factor=aperture_factor, gamma=100/0.511,\n",
    "                         test_dict=dict_Val)\n",
    "print(\"Lifetime (Leb) = \", leb)\n",
    "print(\"Lifetime (Val) = \", val)\n",
    "leb/val"
   ]
  },
  {
   "cell_type": "code",
   "execution_count": 19,
   "metadata": {},
   "outputs": [
    {
     "data": {
      "text/plain": [
       "[<matplotlib.lines.Line2D at 0x7fa16b2c09b0>]"
      ]
     },
     "execution_count": 19,
     "metadata": {},
     "output_type": "execute_result"
    },
    {
     "data": {
      "image/png": "[encoded data removed]",
      "text/plain": [
       "<Figure size 432x288 with 2 Axes>"
      ]
     },
     "metadata": {
      "needs_background": "light"
     },
     "output_type": "display_data"
    }
   ],
   "source": [
    "fig, ax = plt.subplots()\n",
    "ax.plot(dict_Leb['Itski'], '.', color='red')\n",
    "ax1 = ax.twinx()\n",
    "ax1.plot(dict_Val['dN'], '-', color='blue')"
   ]
  },
  {
   "cell_type": "code",
   "execution_count": null,
   "metadata": {},
   "outputs": [],
   "source": []
  }
 ],
 "metadata": {
  "kernelspec": {
   "display_name": "fur",
   "language": "python",
   "name": "fur"
  },
  "language_info": {
   "codemirror_mode": {
    "name": "ipython",
    "version": 3
   },
   "file_extension": ".py",
   "mimetype": "text/x-python",
   "name": "python",
   "nbconvert_exporter": "python",
   "pygments_lexer": "ipython3",
   "version": "3.6.8"
  }
 },
 "nbformat": 4,
 "nbformat_minor": 4
}
