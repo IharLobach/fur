{
 "cells": [
  {
   "cell_type": "code",
   "execution_count": 1,
   "metadata": {},
   "outputs": [],
   "source": [
    "import numpy as np\n",
    "import scipy.signal\n",
    "from scipy.optimize import minimize\n",
    "import pandas as pd\n",
    "pd.set_option('max_columns', None)\n",
    "from sklearn import linear_model\n",
    "import matplotlib.pyplot as plt\n",
    "from datetime import datetime\n",
    "plt.rcParams['figure.figsize'] = [15, 7.5]\n",
    "plt.rcParams.update({'font.size': 16,'legend.fontsize':16})\n",
    "import seaborn as sns\n",
    "import sys\n",
    "import os\n",
    "import fur.path_assistant as path_assistant\n",
    "from fur.waveform_reader import read_waveform\n",
    "from fur.finding_period import get_period\n",
    "from fur.fluctuations import get_fluctiation_and_noise_var\n",
    "from fur.one_data_set_analyzer import analyze_one_dataset\n",
    "from fur.extending_with_acnet_data import get_fluctuations_df_with_acnet_data, get_acnet_df_with_bunch_sizes\n",
    "shift = path_assistant.PathAssistant('shift_03_16_2020',\n",
    "    ignore_files=['RefCurve_2020-03-16_0_084020_test.Wfm.bin',\n",
    "                  'RefCurve_2020-03-16_153_155200.Wfm.bin'])\n",
    "#shift_03_09_2020.show_waveform_file_names()\n",
    "waveforms_dir = shift.get_waveforms_dir()\n",
    "results_dir = shift.get_results_dir()\n",
    "from config import get_from_config, save_to_config\n",
    "from wiggler_radiation.number_of_coherent_modes.coherent_modes import get_M_interpolator_at_fixed_energy\n",
    "import lattice.lattice as lattice\n",
    "from lattice.summary_in_undulator import CalcTransverseBeamParams\n",
    "from wiggler_radiation.Wigrad.wigrad_generator import \\\n",
    "    generate_wr_sim_with_wigrad_results\n",
    "import coherent_modes_cpp as cm"
   ]
  },
  {
   "cell_type": "code",
   "execution_count": 2,
   "metadata": {},
   "outputs": [
    {
     "data": {
      "text/plain": [
       "0.008820875499988542"
      ]
     },
     "execution_count": 2,
     "metadata": {},
     "output_type": "execute_result"
    }
   ],
   "source": [
    "cur_to_sum_channel = get_from_config(\"Beam_current_to_Sum_channel_ampl_V/mA\")\n",
    "sum_channel_to_photoelectrons =\\\n",
    "    get_from_config('sum_channel_to_photoelectrons')\n",
    "meas_photons_per_electron =\\\n",
    "    get_from_config(\"Measured_photons_per_electron\")\n",
    "meas_photons_per_electron"
   ]
  },
  {
   "cell_type": "code",
   "execution_count": 3,
   "metadata": {},
   "outputs": [],
   "source": [
    "from scipy.interpolate import interp1d\n",
    "bp_df = pd.read_csv(\n",
    "    shift.get_results_dir().fi(\"beam_params_vs_current_round.csv\"))\n",
    "sx_func = interp1d(bp_df[\"N\"], bp_df['Sigma_um_X'],\n",
    "                   bounds_error=False, fill_value=\"extrapolate\")\n",
    "sy_func = interp1d(bp_df[\"N\"], bp_df['Sigma_um_Y'],\n",
    "                   bounds_error=False, fill_value=\"extrapolate\")\n",
    "sz_func = interp1d(bp_df[\"N\"], bp_df['sz_um'],\n",
    "                   bounds_error=False, fill_value=\"extrapolate\")\n",
    "ex_func = interp1d(bp_df[\"N\"], bp_df['ex_um'],\n",
    "                   bounds_error=False, fill_value=\"extrapolate\")\n",
    "ey_func = interp1d(bp_df[\"N\"], bp_df['ey_um'],\n",
    "                   bounds_error=False, fill_value=\"extrapolate\")\n",
    "dpp_func = interp1d(bp_df[\"N\"], bp_df['dp/p'],\n",
    "                    bounds_error=False, fill_value=\"extrapolate\")"
   ]
  },
  {
   "cell_type": "code",
   "execution_count": 4,
   "metadata": {},
   "outputs": [],
   "source": [
    "Ibeam = get_from_config(\"NominalBeamCurrent_mA\")\n",
    "N_to_I = 1/sum_channel_to_photoelectrons/cur_to_sum_channel"
   ]
  },
  {
   "cell_type": "code",
   "execution_count": 5,
   "metadata": {},
   "outputs": [],
   "source": [
    "m0 = 10000\n",
    "mfold = 8\n",
    "seed = 1"
   ]
  },
  {
   "cell_type": "code",
   "execution_count": 6,
   "metadata": {},
   "outputs": [],
   "source": [
    "lattice_df = \\\n",
    "    lattice.read_lattice_file(shift.get_6dsim_dir()\\\n",
    "    .fi(\"IOTA_1NL_100MeV_v8.6.1.4.6ds_data.txt\"))"
   ]
  },
  {
   "cell_type": "code",
   "execution_count": 7,
   "metadata": {},
   "outputs": [],
   "source": [
    "N0s = np.linspace(0.7e7, 2.25e7, 3)\n",
    "df_to_save = pd.DataFrame({\"N\": np.concatenate([[0], N0s])})"
   ]
  },
  {
   "cell_type": "code",
   "execution_count": 8,
   "metadata": {},
   "outputs": [],
   "source": [
    "Ebeam0 = get_from_config(\"gamma\")*0.511\n",
    "Ebeam_error = get_from_config(\"Ebeam_error_MeV\")\n",
    "Ku0 = get_from_config(\"K_peak\")\n",
    "Ku_error = get_from_config(\"Ku_error\")"
   ]
  },
  {
   "cell_type": "code",
   "execution_count": 9,
   "metadata": {},
   "outputs": [],
   "source": [
    "EK_list = [\n",
    "    [Ebeam0, Ku0, 'Middle'],\n",
    "    [Ebeam0-Ebeam_error, Ku0, 'Middle'],\n",
    "    [Ebeam0+Ebeam_error, Ku0, 'Middle'],\n",
    "    [Ebeam0, Ku0-Ku_error, 'Middle'],\n",
    "    [Ebeam0, Ku0+Ku_error, 'Middle'],\n",
    "    [Ebeam0, Ku0, 'Start'],\n",
    "    [Ebeam0, Ku0, 'End']]"
   ]
  },
  {
   "cell_type": "code",
   "execution_count": 10,
   "metadata": {},
   "outputs": [],
   "source": [
    "# for j,EKpos in enumerate(EK_list):\n",
    "#     E_in, K_peak_in, where_in_und = EKpos\n",
    "#     gamma_in = E_in/0.511\n",
    "#     print(f\"Working on EK {j+1} out of {len(EK_list)}\")\n",
    "#     wr_sim = generate_wr_sim_with_wigrad_results(\n",
    "#     K_peak_in=K_peak_in,\n",
    "#     gamma_in=gamma_in)\n",
    "#     ampx3d = wr_sim.get_amplittude_3D(polarization='x')\n",
    "#     mesh = get_from_config(\"radiation_mesh\")\n",
    "#     zobs = get_from_config(\"z_obs_m\")\n",
    "#     xmin, xmax, _ = mesh[0]\n",
    "#     xmin = xmin/zobs\n",
    "#     xmax = xmax/zobs\n",
    "#     ymin, ymax, _ = mesh[1]\n",
    "#     ymin = ymin/zobs\n",
    "#     ymax = ymax/zobs\n",
    "#     lmin, lmax, _ = mesh[2]\n",
    "#     dax = (xmax-xmin)/(mesh[0][2]-1)\n",
    "#     day = (ymax-ymin)/(mesh[1][2]-1)\n",
    "#     dl = (lmax-lmin)/(mesh[2][2]-1)\n",
    "#     sm =dax*day*dl*np.sum(np.absolute(ampx3d)**2)\n",
    "#     Ms = np.zeros(N0s.shape)\n",
    "#     for i,N0 in enumerate(N0s):\n",
    "#         print(f\"Working on {i+1} out of {len(N0s)}\")\n",
    "#         ex = ex_func(N0)\n",
    "#         ey = ey_func(N0)\n",
    "#         dpp = dpp_func(N0)\n",
    "#         st = sz_func(N0)\n",
    "#         # here ypu can adjust emittances to see how the result changes\n",
    "#         adj = 1.0\n",
    "#         Sx, Sy, dx, dy, sxp, syp = CalcTransverseBeamParams(\n",
    "#             lattice_df,adj*ex,adj*ey,dpp,where_in_und)\n",
    "#         # Sx, Sy, dx, dy, sxp, syp = sx, sy, 0, 0, 0, 0\n",
    "#         coh_modes_cpp_args =  np.asarray([Sx,Sy,dx,dy,sxp,syp,xmin,xmax,ymin,ymax,lmin,lmax,\n",
    "#                                           st, sm, m0,mfold,seed],\n",
    "#                                         dtype=np.float64)\n",
    "#         Ms[i] = np.real(\n",
    "#             cm.CalcMFromPrecalculatedFieldAmps(ampx3d,coh_modes_cpp_args)[-1])\n",
    "#     df_to_save[f\"{E_in},{K_peak_in},{where_in_und}\"] = np.concatenate([[0], N0s+N0s**2/Ms])\n",
    "# df_to_save.to_csv(\"theor_NvarN.csv\")"
   ]
  },
  {
   "cell_type": "code",
   "execution_count": 11,
   "metadata": {},
   "outputs": [],
   "source": [
    "nvarn_df = pd.read_csv(\"theor_NvarN.csv\", index_col=0)"
   ]
  },
  {
   "cell_type": "code",
   "execution_count": 12,
   "metadata": {},
   "outputs": [
    {
     "data": {
      "text/html": [
       "<div>\n",
       "<style scoped>\n",
       "    .dataframe tbody tr th:only-of-type {\n",
       "        vertical-align: middle;\n",
       "    }\n",
       "\n",
       "    .dataframe tbody tr th {\n",
       "        vertical-align: top;\n",
       "    }\n",
       "\n",
       "    .dataframe thead th {\n",
       "        text-align: right;\n",
       "    }\n",
       "</style>\n",
       "<table border=\"1\" class=\"dataframe\">\n",
       "  <thead>\n",
       "    <tr style=\"text-align: right;\">\n",
       "      <th></th>\n",
       "      <th>N</th>\n",
       "      <th>96.400000000038,1.0,Middle</th>\n",
       "      <th>95.400000000038,1.0,Middle</th>\n",
       "      <th>97.400000000038,1.0,Middle</th>\n",
       "      <th>96.400000000038,0.97,Middle</th>\n",
       "      <th>96.400000000038,1.03,Middle</th>\n",
       "      <th>96.400000000038,1.0,Start</th>\n",
       "      <th>96.400000000038,1.0,End</th>\n",
       "    </tr>\n",
       "  </thead>\n",
       "  <tbody>\n",
       "    <tr>\n",
       "      <th>0</th>\n",
       "      <td>0.0</td>\n",
       "      <td>0.000000e+00</td>\n",
       "      <td>0.000000e+00</td>\n",
       "      <td>0.000000e+00</td>\n",
       "      <td>0.000000e+00</td>\n",
       "      <td>0.000000e+00</td>\n",
       "      <td>0.000000e+00</td>\n",
       "      <td>0.000000e+00</td>\n",
       "    </tr>\n",
       "    <tr>\n",
       "      <th>1</th>\n",
       "      <td>7000000.0</td>\n",
       "      <td>2.774694e+07</td>\n",
       "      <td>3.013130e+07</td>\n",
       "      <td>2.548391e+07</td>\n",
       "      <td>2.567572e+07</td>\n",
       "      <td>2.981537e+07</td>\n",
       "      <td>2.747186e+07</td>\n",
       "      <td>2.740994e+07</td>\n",
       "    </tr>\n",
       "    <tr>\n",
       "      <th>2</th>\n",
       "      <td>14750000.0</td>\n",
       "      <td>8.180174e+07</td>\n",
       "      <td>8.950037e+07</td>\n",
       "      <td>7.451644e+07</td>\n",
       "      <td>7.513554e+07</td>\n",
       "      <td>8.847872e+07</td>\n",
       "      <td>8.096776e+07</td>\n",
       "      <td>8.069047e+07</td>\n",
       "    </tr>\n",
       "    <tr>\n",
       "      <th>3</th>\n",
       "      <td>22500000.0</td>\n",
       "      <td>1.492038e+08</td>\n",
       "      <td>1.637638e+08</td>\n",
       "      <td>1.354473e+08</td>\n",
       "      <td>1.366168e+08</td>\n",
       "      <td>1.618317e+08</td>\n",
       "      <td>1.476509e+08</td>\n",
       "      <td>1.471188e+08</td>\n",
       "    </tr>\n",
       "  </tbody>\n",
       "</table>\n",
       "</div>"
      ],
      "text/plain": [
       "            N  96.400000000038,1.0,Middle  95.400000000038,1.0,Middle  \\\n",
       "0         0.0                0.000000e+00                0.000000e+00   \n",
       "1   7000000.0                2.774694e+07                3.013130e+07   \n",
       "2  14750000.0                8.180174e+07                8.950037e+07   \n",
       "3  22500000.0                1.492038e+08                1.637638e+08   \n",
       "\n",
       "   97.400000000038,1.0,Middle  96.400000000038,0.97,Middle  \\\n",
       "0                0.000000e+00                 0.000000e+00   \n",
       "1                2.548391e+07                 2.567572e+07   \n",
       "2                7.451644e+07                 7.513554e+07   \n",
       "3                1.354473e+08                 1.366168e+08   \n",
       "\n",
       "   96.400000000038,1.03,Middle  96.400000000038,1.0,Start  \\\n",
       "0                 0.000000e+00               0.000000e+00   \n",
       "1                 2.981537e+07               2.747186e+07   \n",
       "2                 8.847872e+07               8.096776e+07   \n",
       "3                 1.618317e+08               1.476509e+08   \n",
       "\n",
       "   96.400000000038,1.0,End  \n",
       "0             0.000000e+00  \n",
       "1             2.740994e+07  \n",
       "2             8.069047e+07  \n",
       "3             1.471188e+08  "
      ]
     },
     "execution_count": 12,
     "metadata": {},
     "output_type": "execute_result"
    }
   ],
   "source": [
    "nvarn_df"
   ]
  },
  {
   "cell_type": "code",
   "execution_count": 13,
   "metadata": {},
   "outputs": [
    {
     "data": {
      "text/html": [
       "<div>\n",
       "<style scoped>\n",
       "    .dataframe tbody tr th:only-of-type {\n",
       "        vertical-align: middle;\n",
       "    }\n",
       "\n",
       "    .dataframe tbody tr th {\n",
       "        vertical-align: top;\n",
       "    }\n",
       "\n",
       "    .dataframe thead th {\n",
       "        text-align: right;\n",
       "    }\n",
       "</style>\n",
       "<table border=\"1\" class=\"dataframe\">\n",
       "  <thead>\n",
       "    <tr style=\"text-align: right;\">\n",
       "      <th></th>\n",
       "      <th>EerrB</th>\n",
       "      <th>KerrB</th>\n",
       "      <th>PerrB</th>\n",
       "    </tr>\n",
       "  </thead>\n",
       "  <tbody>\n",
       "    <tr>\n",
       "      <th>0</th>\n",
       "      <td>0.000000e+00</td>\n",
       "      <td>0.000000e+00</td>\n",
       "      <td>0.000000e+00</td>\n",
       "    </tr>\n",
       "    <tr>\n",
       "      <th>1</th>\n",
       "      <td>2.263037e+06</td>\n",
       "      <td>2.071225e+06</td>\n",
       "      <td>2.750799e+05</td>\n",
       "    </tr>\n",
       "    <tr>\n",
       "      <th>2</th>\n",
       "      <td>7.285302e+06</td>\n",
       "      <td>6.666206e+06</td>\n",
       "      <td>8.339853e+05</td>\n",
       "    </tr>\n",
       "    <tr>\n",
       "      <th>3</th>\n",
       "      <td>1.375642e+07</td>\n",
       "      <td>1.258696e+07</td>\n",
       "      <td>1.552844e+06</td>\n",
       "    </tr>\n",
       "  </tbody>\n",
       "</table>\n",
       "</div>"
      ],
      "text/plain": [
       "          EerrB         KerrB         PerrB\n",
       "0  0.000000e+00  0.000000e+00  0.000000e+00\n",
       "1  2.263037e+06  2.071225e+06  2.750799e+05\n",
       "2  7.285302e+06  6.666206e+06  8.339853e+05\n",
       "3  1.375642e+07  1.258696e+07  1.552844e+06"
      ]
     },
     "execution_count": 13,
     "metadata": {},
     "output_type": "execute_result"
    }
   ],
   "source": [
    "Ns = nvarn_df['N']\n",
    "varN0 = nvarn_df.iloc[:,1]\n",
    "EerrT = nvarn_df.iloc[:,2]-varN0\n",
    "EerrB = varN0-nvarn_df.iloc[:,3]\n",
    "KerrT = nvarn_df.iloc[:,5]-varN0\n",
    "KerrB = varN0-nvarn_df.iloc[:,4]\n",
    "PerrB = varN0 - nvarn_df.iloc[:,6]\n",
    "PerrT = 0 # both ends of the undulator are Bottom\n",
    "errT = np.sqrt(EerrT**2+KerrT**2+PerrT**2)\n",
    "errB = np.sqrt(EerrB**2+KerrB**2+PerrB**2)\n",
    "varNT = varN0+errT\n",
    "varNB = varN0-errB\n",
    "varN0func = interp1d(Ns, varN0,\n",
    "                   bounds_error=False, fill_value=\"extrapolate\", kind=\"cubic\")\n",
    "varNTfunc = interp1d(Ns, varNT,\n",
    "                   bounds_error=False, fill_value=\"extrapolate\", kind=\"cubic\")\n",
    "varNBfunc = interp1d(Ns, varNB,\n",
    "                   bounds_error=False, fill_value=\"extrapolate\", kind=\"cubic\")\n",
    "pd.DataFrame({\"EerrB\":EerrB, \"KerrB\":KerrB, \"PerrB\":PerrB})"
   ]
  },
  {
   "cell_type": "code",
   "execution_count": 14,
   "metadata": {},
   "outputs": [],
   "source": [
    "x = np.linspace(0,2.25e7,50)\n",
    "theor_df = pd.DataFrame({\"N\": x})\n",
    "theor_df[\"varN\"] = varN0func(x)\n",
    "theor_df['varN_bottom'] = varNBfunc(x)\n",
    "theor_df['varN_top'] = varNTfunc(x)"
   ]
  },
  {
   "cell_type": "code",
   "execution_count": 15,
   "metadata": {},
   "outputs": [],
   "source": [
    "Cferr = 0.0\n",
    "cf = 1+Cferr"
   ]
  },
  {
   "cell_type": "code",
   "execution_count": 32,
   "metadata": {},
   "outputs": [
    {
     "data": {
      "image/png": "[encoded data removed]",
      "text/plain": [
       "<Figure size 1080x540 with 2 Axes>"
      ]
     },
     "metadata": {
      "needs_background": "light"
     },
     "output_type": "display_data"
    }
   ],
   "source": [
    "hybrid_balance_error = get_from_config(\"HybridBalanceError\")\n",
    "fit_errorbar = get_from_config(\"varN_error_fit\")\n",
    "plt.rcParams[\"text.usetex\"] =True\n",
    "plt.rc('text.latex', preamble=r'\\usepackage{siunitx}')\n",
    "plt.rcParams.update({'font.size': 28,\n",
    "                     'legend.fontsize':22,\n",
    "                     'errorbar.capsize':3})\n",
    "fig, ax = plt.subplots(figsize=(15, 7.5))\n",
    "res_df_loaded = \\\n",
    "    pd.read_csv(shift.get_results_dir().fi('meas_ROUND_03_16_2020.csv'),\n",
    "                index_col=0)\n",
    "res_df_ROUND_no_outliers = res_df_loaded\n",
    "hybrid_errorbar = 2*hybrid_balance_error\\\n",
    "    *np.absolute(res_df_ROUND_no_outliers['varN'])\n",
    "error_bar = np.sqrt(0*hybrid_errorbar**2+fit_errorbar**2)\n",
    "res_df_ROUND_no_outliers['errorbar'] = error_bar\n",
    "ax.errorbar(cf*res_df_ROUND_no_outliers['N'],cf**2*res_df_ROUND_no_outliers['varN'],\n",
    "            marker='o',linestyle='None',yerr=error_bar,color='b',\n",
    "            label = r'Fluctuations measurement')\n",
    "x_aux = np.linspace(0, theor_df['N'].values[-1], 100)\n",
    "ax.set_xlim(0, x_aux[-1])\n",
    "ax.plot(x_aux, x_aux,color='blue',linestyle='--',\n",
    "        label = r\"var$\\left(\\mathcal{N}\\right)=\\langle\\mathcal{N}\\rangle$\")\n",
    "ax.plot(theor_df['N'], theor_df['varN'], color='red',\n",
    "        label = r\"var$\\left(\\mathcal{N}\\right)=\\langle\\mathcal{N}\"\n",
    "        r\"\\rangle+\\left(1/M_{\\mathrm{sim.}}\\right)\\langle\\mathcal{N}\\rangle^2$\")\n",
    "ax.fill_between(\n",
    "    theor_df['N'],\n",
    "    theor_df['varN_bottom'],\n",
    "    theor_df['varN_top'],\n",
    "    facecolor='red', alpha=0.3,\n",
    "    label=\"Simulation uncertainty range\")\n",
    "\n",
    "ax.set_xlim(0, ax.get_xlim()[1])\n",
    "ax.set_ylim(0, ax.get_ylim()[1])\n",
    "\n",
    "ax.set_ylabel(r\"Photoelectron count variance var$\\left(\\mathcal{N}\\right)$\")\n",
    "ax.set_xlabel(r\"Photoelectron count mean $\\langle\\mathcal{N}\\rangle$\")\n",
    "# ax.set_title(r\"Round beam, no ND filters, variable beam current\")\n",
    "handles, labels = plt.gca().get_legend_handles_labels()\n",
    "order = [3,0,1,2]\n",
    "ax.legend([handles[idx] for idx in order],[labels[idx] for idx in order])\n",
    "ax1 = ax.twiny()\n",
    "ax1.set_xlabel(r\"Beam current (\\SI{}{mA})\")\n",
    "ax1.set_xlim(N_to_I*np.asarray(ax.get_xlim()))\n",
    "# xlim_max = theor_df['N'].values[-1]\n",
    "# ax.set_xlim(0,xlim_max)\n",
    "# ax1.set_xlim(0,xlim_max)\n",
    "ax1.set_xticks(ticks=ax1.get_xticks()[2:-1])\n",
    "plt.savefig(shift.get_results_dir().fi(\"round_beam.png\"),\n",
    "            dpi=300, bbox_inches='tight')\n",
    "plt.show()"
   ]
  },
  {
   "cell_type": "markdown",
   "metadata": {},
   "source": [
    "# Calculation of M for Gaussian light beam model"
   ]
  },
  {
   "cell_type": "markdown",
   "metadata": {},
   "source": [
    "## The experimental point is chosen here (`pt_idx`)"
   ]
  },
  {
   "cell_type": "code",
   "execution_count": 17,
   "metadata": {},
   "outputs": [
    {
     "name": "stderr",
     "output_type": "stream",
     "text": [
      "/home/ilobach/fur/env/lib/python3.6/site-packages/pandas/core/series.py:679: RuntimeWarning: invalid value encountered in sqrt\n",
      "  result = getattr(ufunc, method)(*inputs, **kwargs)\n",
      "/home/ilobach/fur/lattice/lattice.py:146: RuntimeWarning: invalid value encountered in sqrt\n",
      "  return np.sqrt(e_um*1e4*beta_cm+(1e4*dispersion_cm*dpp)**2)\n"
     ]
    }
   ],
   "source": [
    "res_df_ROUND = get_fluctuations_df_with_acnet_data(\n",
    "    shift,\n",
    "    \"res_df_comb_filter_no_nd_filters_ROUND_data_03_16_2020.csv\",\n",
    "    \"IOTA_1NL_100MeV_v8.6.1.4.6ds_data.txt\",\n",
    "    'all_acnet_data_ROUND_case_03_16_2020.csv',\n",
    "    show_plot=False\n",
    ")"
   ]
  },
  {
   "cell_type": "code",
   "execution_count": 18,
   "metadata": {},
   "outputs": [
    {
     "data": {
      "text/plain": [
       "(300.33433249026905,\n",
       " 240.67384278137428,\n",
       " 1049954.5663612229,\n",
       " -487663.40045622655,\n",
       " 0.0004339331418031466,\n",
       " 0.00043148229886993364,\n",
       " 286275.88162576384)"
      ]
     },
     "execution_count": 18,
     "metadata": {},
     "output_type": "execute_result"
    }
   ],
   "source": [
    "pt_idx = 0\n",
    "emittance_6D = {}\n",
    "for key in ['ex_um', 'ex_err', 'ey_um', 'ey_err', 'dp/p', 'dp/p_err']:\n",
    "    emittance_6D[key] = res_df_ROUND.loc[pt_idx, key]\n",
    "ex = emittance_6D['ex_um']\n",
    "ey = emittance_6D['ey_um']\n",
    "dpp = emittance_6D['dp/p']\n",
    "st = res_df_ROUND.loc[pt_idx, 'N:IWCMBE']*1e4 #microns\n",
    "Sx, Sy, dx, dy, sxp, syp = CalcTransverseBeamParams(lattice_df,ex,ey,dpp)\n",
    "Sx, Sy, dx, dy, sxp, syp, st"
   ]
  },
  {
   "cell_type": "markdown",
   "metadata": {},
   "source": [
    "## Gaussian light beam and nonzero electorn beam divergence"
   ]
  },
  {
   "cell_type": "code",
   "execution_count": 19,
   "metadata": {},
   "outputs": [],
   "source": [
    "lmda = 1.097\n",
    "k0 = 2*np.pi/lmda\n",
    "Nu=10.5\n",
    "usw = k0/Nu"
   ]
  },
  {
   "cell_type": "code",
   "execution_count": 20,
   "metadata": {},
   "outputs": [],
   "source": [
    "gamma = get_from_config(\"gamma\")"
   ]
  },
  {
   "cell_type": "code",
   "execution_count": 21,
   "metadata": {},
   "outputs": [
    {
     "data": {
      "text/plain": [
       "0.0016358716147426948"
      ]
     },
     "execution_count": 21,
     "metadata": {},
     "output_type": "execute_result"
    }
   ],
   "source": [
    "usxp = usyp = 1/np.sqrt(Nu)/gamma\n",
    "usxp"
   ]
  },
  {
   "cell_type": "code",
   "execution_count": 22,
   "metadata": {},
   "outputs": [
    {
     "data": {
      "text/plain": [
       "20093631.032325022"
      ]
     },
     "execution_count": 22,
     "metadata": {},
     "output_type": "execute_result"
    }
   ],
   "source": [
    "# the Gaussian light beam approximation with electron beam divergence\n",
    "M_Gauss_with_beam_div=\\\n",
    "    np.sqrt(1+4*usw**2*st**2)\\\n",
    "    *np.sqrt(1+4*k0**2*Sx**2*usxp**2+sxp**2*(4*k0**2*(usxp**2*dx**2+Sx**2)+1/usxp**2))\\\n",
    "    *np.sqrt(1+4*k0**2*Sy**2*usyp**2+syp**2*(4*k0**2*(usyp**2*dy**2+Sy**2)+1/usyp**2))\n",
    "M_Gauss_with_beam_div"
   ]
  },
  {
   "cell_type": "markdown",
   "metadata": {},
   "source": [
    "## Gaussian light beam and zero electron beam divergence"
   ]
  },
  {
   "cell_type": "code",
   "execution_count": 23,
   "metadata": {},
   "outputs": [
    {
     "ename": "NameError",
     "evalue": "name 'sx' is not defined",
     "output_type": "error",
     "traceback": [
      "\u001b[0;31m---------------------------------------------------------------------------\u001b[0m",
      "\u001b[0;31mNameError\u001b[0m                                 Traceback (most recent call last)",
      "\u001b[0;32m<ipython-input-23-c4d3d1addcfa>\u001b[0m in \u001b[0;36m<module>\u001b[0;34m\u001b[0m\n\u001b[1;32m      3\u001b[0m     \u001b[0mnp\u001b[0m\u001b[0;34m.\u001b[0m\u001b[0msqrt\u001b[0m\u001b[0;34m(\u001b[0m\u001b[0;36m1\u001b[0m\u001b[0;34m+\u001b[0m\u001b[0;36m4\u001b[0m\u001b[0;34m*\u001b[0m\u001b[0musw\u001b[0m\u001b[0;34m**\u001b[0m\u001b[0;36m2\u001b[0m\u001b[0;34m*\u001b[0m\u001b[0mst\u001b[0m\u001b[0;34m**\u001b[0m\u001b[0;36m2\u001b[0m\u001b[0;34m)\u001b[0m\u001b[0;31m\\\u001b[0m\u001b[0;34m\u001b[0m\u001b[0;34m\u001b[0m\u001b[0m\n\u001b[1;32m      4\u001b[0m     \u001b[0;34m*\u001b[0m\u001b[0mnp\u001b[0m\u001b[0;34m.\u001b[0m\u001b[0msqrt\u001b[0m\u001b[0;34m(\u001b[0m\u001b[0;36m1\u001b[0m\u001b[0;34m+\u001b[0m\u001b[0;36m4\u001b[0m\u001b[0;34m*\u001b[0m\u001b[0mk0\u001b[0m\u001b[0;34m**\u001b[0m\u001b[0;36m2\u001b[0m\u001b[0;34m*\u001b[0m\u001b[0msx\u001b[0m\u001b[0;34m**\u001b[0m\u001b[0;36m2\u001b[0m\u001b[0;34m*\u001b[0m\u001b[0musxp\u001b[0m\u001b[0;34m**\u001b[0m\u001b[0;36m2\u001b[0m\u001b[0;34m)\u001b[0m\u001b[0;31m\\\u001b[0m\u001b[0;34m\u001b[0m\u001b[0;34m\u001b[0m\u001b[0m\n\u001b[0;32m----> 5\u001b[0;31m     \u001b[0;34m*\u001b[0m\u001b[0mnp\u001b[0m\u001b[0;34m.\u001b[0m\u001b[0msqrt\u001b[0m\u001b[0;34m(\u001b[0m\u001b[0;36m1\u001b[0m\u001b[0;34m+\u001b[0m\u001b[0;36m4\u001b[0m\u001b[0;34m*\u001b[0m\u001b[0mk0\u001b[0m\u001b[0;34m**\u001b[0m\u001b[0;36m2\u001b[0m\u001b[0;34m*\u001b[0m\u001b[0msy\u001b[0m\u001b[0;34m**\u001b[0m\u001b[0;36m2\u001b[0m\u001b[0;34m*\u001b[0m\u001b[0musyp\u001b[0m\u001b[0;34m**\u001b[0m\u001b[0;36m2\u001b[0m\u001b[0;34m)\u001b[0m\u001b[0;34m\u001b[0m\u001b[0;34m\u001b[0m\u001b[0m\n\u001b[0m\u001b[1;32m      6\u001b[0m \u001b[0mM_Gauss_no_beam_div\u001b[0m\u001b[0;34m\u001b[0m\u001b[0;34m\u001b[0m\u001b[0m\n",
      "\u001b[0;31mNameError\u001b[0m: name 'sx' is not defined"
     ]
    }
   ],
   "source": [
    "# the Gaussian light beam approximation without electron beam divergence\n",
    "M_Gauss_no_beam_div=\\\n",
    "    np.sqrt(1+4*usw**2*st**2)\\\n",
    "    *np.sqrt(1+4*k0**2*sx**2*usxp**2)\\\n",
    "    *np.sqrt(1+4*k0**2*sy**2*usyp**2)\n",
    "M_Gauss_no_beam_div"
   ]
  },
  {
   "cell_type": "code",
   "execution_count": null,
   "metadata": {},
   "outputs": [],
   "source": []
  }
 ],
 "metadata": {
  "file_extension": ".py",
  "kernelspec": {
   "display_name": "fur",
   "language": "python",
   "name": "fur"
  },
  "language_info": {
   "codemirror_mode": {
    "name": "ipython",
    "version": 3
   },
   "file_extension": ".py",
   "mimetype": "text/x-python",
   "name": "python",
   "nbconvert_exporter": "python",
   "pygments_lexer": "ipython3",
   "version": "3.6.8"
  },
  "mimetype": "text/x-python",
  "name": "python",
  "npconvert_exporter": "python",
  "pygments_lexer": "ipython3",
  "version": 3
 },
 "nbformat": 4,
 "nbformat_minor": 2
}
