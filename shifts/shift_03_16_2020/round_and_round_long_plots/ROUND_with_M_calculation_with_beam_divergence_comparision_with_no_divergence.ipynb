{
 "cells": [
  {
   "cell_type": "code",
   "execution_count": 1,
   "metadata": {},
   "outputs": [],
   "source": [
    "import numpy as np\n",
    "import scipy.signal\n",
    "from scipy.optimize import minimize\n",
    "import pandas as pd\n",
    "pd.set_option('max_columns', None)\n",
    "from sklearn import linear_model\n",
    "import matplotlib.pyplot as plt\n",
    "from datetime import datetime\n",
    "plt.rcParams['figure.figsize'] = [15, 7.5]\n",
    "plt.rcParams.update({'font.size': 16,'legend.fontsize':16})\n",
    "import seaborn as sns\n",
    "import sys\n",
    "import os\n",
    "import fur.path_assistant as path_assistant\n",
    "from fur.waveform_reader import read_waveform\n",
    "from fur.finding_period import get_period\n",
    "from fur.fluctuations import get_fluctiation_and_noise_var\n",
    "from fur.one_data_set_analyzer import analyze_one_dataset\n",
    "from fur.extending_with_acnet_data import get_fluctuations_df_with_acnet_data, get_acnet_df_with_bunch_sizes\n",
    "shift = path_assistant.PathAssistant('shift_03_16_2020',\n",
    "    ignore_files=['RefCurve_2020-03-16_0_084020_test.Wfm.bin',\n",
    "                  'RefCurve_2020-03-16_153_155200.Wfm.bin'])\n",
    "#shift_03_09_2020.show_waveform_file_names()\n",
    "waveforms_dir = shift.get_waveforms_dir()\n",
    "results_dir = shift.get_results_dir()\n",
    "from config import get_from_config, save_to_config\n",
    "from wiggler_radiation.number_of_coherent_modes.coherent_modes import get_M_interpolator_at_fixed_energy\n",
    "import lattice.lattice as lattice\n",
    "from lattice.summary_in_undulator import CalcTransverseBeamParams\n",
    "from wiggler_radiation.Wigrad.wigrad_generator import \\\n",
    "    generate_wr_sim_with_wigrad_results_and_spectral_transmission\n",
    "import coherent_modes_cpp as cm"
   ]
  },
  {
   "cell_type": "code",
   "execution_count": 2,
   "metadata": {},
   "outputs": [
    {
     "data": {
      "text/plain": [
       "0.008820875499988542"
      ]
     },
     "execution_count": 2,
     "metadata": {},
     "output_type": "execute_result"
    }
   ],
   "source": [
    "cur_to_sum_channel = get_from_config(\"Beam_current_to_Sum_channel_ampl_V/mA\")\n",
    "sum_channel_to_photoelectrons =\\\n",
    "    get_from_config('sum_channel_to_photoelectrons')\n",
    "meas_photons_per_electron =\\\n",
    "    get_from_config(\"Measured_photons_per_electron\")\n",
    "meas_photons_per_electron"
   ]
  },
  {
   "cell_type": "code",
   "execution_count": 3,
   "metadata": {},
   "outputs": [],
   "source": [
    "from scipy.interpolate import interp1d\n",
    "bp_df = pd.read_csv(\n",
    "    shift.get_results_dir().fi(\"beam_params_vs_current_round.csv\"))\n",
    "sx_func = interp1d(bp_df[\"N\"], bp_df['Sigma_um_X'],\n",
    "                   bounds_error=False, fill_value=\"extrapolate\")\n",
    "sy_func = interp1d(bp_df[\"N\"], bp_df['Sigma_um_Y'],\n",
    "                   bounds_error=False, fill_value=\"extrapolate\")\n",
    "sz_func = interp1d(bp_df[\"N\"], bp_df['sz_um'],\n",
    "                   bounds_error=False, fill_value=\"extrapolate\")\n",
    "ex_func = interp1d(bp_df[\"N\"], bp_df['ex_um'],\n",
    "                   bounds_error=False, fill_value=\"extrapolate\")\n",
    "ey_func = interp1d(bp_df[\"N\"], bp_df['ey_um'],\n",
    "                   bounds_error=False, fill_value=\"extrapolate\")\n",
    "dpp_func = interp1d(bp_df[\"N\"], bp_df['dp/p'],\n",
    "                    bounds_error=False, fill_value=\"extrapolate\")"
   ]
  },
  {
   "cell_type": "code",
   "execution_count": 4,
   "metadata": {},
   "outputs": [],
   "source": [
    "Ibeam = get_from_config(\"NominalBeamCurrent_mA\")\n",
    "N_to_I = 1/sum_channel_to_photoelectrons/cur_to_sum_channel"
   ]
  },
  {
   "cell_type": "code",
   "execution_count": 5,
   "metadata": {},
   "outputs": [],
   "source": [
    "m0 = 10000\n",
    "mfold = 8\n",
    "seed = 1"
   ]
  },
  {
   "cell_type": "code",
   "execution_count": 6,
   "metadata": {},
   "outputs": [],
   "source": [
    "lattice_df = \\\n",
    "    lattice.read_lattice_file(shift.get_6dsim_dir()\\\n",
    "    .fi(\"IOTA_1NL_100MeV_v8.6.1.4.6ds_data.txt\"))"
   ]
  },
  {
   "cell_type": "code",
   "execution_count": 7,
   "metadata": {},
   "outputs": [],
   "source": [
    "N0s = np.linspace(0.7e7, 2.25e7, 3)\n",
    "df_to_save = pd.DataFrame({\"N\": np.concatenate([[0], N0s])})"
   ]
  },
  {
   "cell_type": "code",
   "execution_count": 8,
   "metadata": {},
   "outputs": [],
   "source": [
    "Ebeam0 = get_from_config(\"gamma\")*0.511\n",
    "Ebeam_error = get_from_config(\"Ebeam_error_MeV\")\n",
    "Ku0 = get_from_config(\"K_peak\")\n",
    "Ku_error = get_from_config(\"Ku_error\")"
   ]
  },
  {
   "cell_type": "code",
   "execution_count": 9,
   "metadata": {},
   "outputs": [],
   "source": [
    "EK_list = [\n",
    "    [Ebeam0, Ku0, 'Middle']]"
   ]
  },
  {
   "cell_type": "code",
   "execution_count": 10,
   "metadata": {},
   "outputs": [
    {
     "name": "stdout",
     "output_type": "stream",
     "text": [
      "Working on EK 1 out of 1\n",
      "Working on 1 out of 3\n",
      "Working on 2 out of 3\n",
      "Working on 3 out of 3\n"
     ]
    }
   ],
   "source": [
    "for j,EKpos in enumerate(EK_list):\n",
    "    E_in, K_peak_in, where_in_und = EKpos\n",
    "    gamma_in = E_in/0.511\n",
    "    print(f\"Working on EK {j+1} out of {len(EK_list)}\")\n",
    "    wr_sim, spect = generate_wr_sim_with_wigrad_results_and_spectral_transmission(\n",
    "    K_peak_in=K_peak_in,\n",
    "    gamma_in=gamma_in)\n",
    "    ampx3d = wr_sim.get_amplittude_3D(polarization='x')\n",
    "    mesh = get_from_config(\"radiation_mesh\")\n",
    "    zobs = get_from_config(\"z_obs_m\")\n",
    "    xmin, xmax, _ = mesh[0]\n",
    "    xmin = xmin/zobs\n",
    "    xmax = xmax/zobs\n",
    "    ymin, ymax, _ = mesh[1]\n",
    "    ymin = ymin/zobs\n",
    "    ymax = ymax/zobs\n",
    "    lmin, lmax, _ = mesh[2]\n",
    "    dax = (xmax-xmin)/(mesh[0][2]-1)\n",
    "    day = (ymax-ymin)/(mesh[1][2]-1)\n",
    "    dl = (lmax-lmin)/(mesh[2][2]-1)\n",
    "    elliptic_aperture = \\\n",
    "        (wr_sim.x_3D**2/xmax**2+wr_sim.y_3D**2/ymax**2) < 1\n",
    "    sm =dax*day*dl*np.sum(\n",
    "        spect[:,None,None]*np.absolute(ampx3d*elliptic_aperture)**2)\n",
    "    Ms = np.zeros(N0s.shape)\n",
    "    for i,N0 in enumerate(N0s):\n",
    "        print(f\"Working on {i+1} out of {len(N0s)}\")\n",
    "        ex = ex_func(N0)\n",
    "        ey = ey_func(N0)\n",
    "        dpp = dpp_func(N0)\n",
    "        st = sz_func(N0)\n",
    "        # here ypu can adjust emittances to see how the result changes\n",
    "        adj = 1.0\n",
    "        Sx, Sy, dx, dy, sxp, syp = CalcTransverseBeamParams(\n",
    "            lattice_df,adj*ex,adj*ey,dpp,where_in_und)\n",
    "        sx = np.sqrt(Sx**2+sxp**2*dx**2)\n",
    "        sy = np.sqrt(Sy**2+syp**2*dy**2)\n",
    "        Sx, Sy, dx, dy, sxp, syp = sx, sy, 0, 0, 0, 0\n",
    "        coh_modes_cpp_args =  np.asarray([Sx,Sy,dx,dy,sxp,syp,xmin,xmax,ymin,ymax,lmin,lmax,\n",
    "                                          st, sm, m0,mfold,seed],\n",
    "                                        dtype=np.float64)\n",
    "        Ms[i] = np.real(\n",
    "            cm.CalcMFromPrecalculatedFieldAmps(ampx3d,spect,coh_modes_cpp_args)[-1])\n",
    "    df_to_save[f\"{E_in},{K_peak_in},{where_in_und}\"] = np.concatenate([[0], N0s+N0s**2/Ms])"
   ]
  },
  {
   "cell_type": "code",
   "execution_count": 11,
   "metadata": {},
   "outputs": [
    {
     "data": {
      "text/html": [
       "<div>\n",
       "<style scoped>\n",
       "    .dataframe tbody tr th:only-of-type {\n",
       "        vertical-align: middle;\n",
       "    }\n",
       "\n",
       "    .dataframe tbody tr th {\n",
       "        vertical-align: top;\n",
       "    }\n",
       "\n",
       "    .dataframe thead th {\n",
       "        text-align: right;\n",
       "    }\n",
       "</style>\n",
       "<table border=\"1\" class=\"dataframe\">\n",
       "  <thead>\n",
       "    <tr style=\"text-align: right;\">\n",
       "      <th></th>\n",
       "      <th>N</th>\n",
       "      <th>96.400000000038,1.0,Middle</th>\n",
       "    </tr>\n",
       "  </thead>\n",
       "  <tbody>\n",
       "    <tr>\n",
       "      <th>0</th>\n",
       "      <td>0.0</td>\n",
       "      <td>0.000000e+00</td>\n",
       "    </tr>\n",
       "    <tr>\n",
       "      <th>1</th>\n",
       "      <td>7000000.0</td>\n",
       "      <td>2.715873e+07</td>\n",
       "    </tr>\n",
       "    <tr>\n",
       "      <th>2</th>\n",
       "      <td>14750000.0</td>\n",
       "      <td>8.134316e+07</td>\n",
       "    </tr>\n",
       "    <tr>\n",
       "      <th>3</th>\n",
       "      <td>22500000.0</td>\n",
       "      <td>1.501835e+08</td>\n",
       "    </tr>\n",
       "  </tbody>\n",
       "</table>\n",
       "</div>"
      ],
      "text/plain": [
       "            N  96.400000000038,1.0,Middle\n",
       "0         0.0                0.000000e+00\n",
       "1   7000000.0                2.715873e+07\n",
       "2  14750000.0                8.134316e+07\n",
       "3  22500000.0                1.501835e+08"
      ]
     },
     "execution_count": 11,
     "metadata": {},
     "output_type": "execute_result"
    }
   ],
   "source": [
    "df_to_save"
   ]
  },
  {
   "cell_type": "code",
   "execution_count": 12,
   "metadata": {},
   "outputs": [],
   "source": [
    "varNnodivfunc = interp1d(df_to_save['N'],\n",
    "                         df_to_save['96.400000000038,1.0,Middle'],\n",
    "                   bounds_error=False, fill_value=\"extrapolate\", kind=\"cubic\")"
   ]
  },
  {
   "cell_type": "code",
   "execution_count": 13,
   "metadata": {},
   "outputs": [
    {
     "data": {
      "text/html": [
       "<div>\n",
       "<style scoped>\n",
       "    .dataframe tbody tr th:only-of-type {\n",
       "        vertical-align: middle;\n",
       "    }\n",
       "\n",
       "    .dataframe tbody tr th {\n",
       "        vertical-align: top;\n",
       "    }\n",
       "\n",
       "    .dataframe thead th {\n",
       "        text-align: right;\n",
       "    }\n",
       "</style>\n",
       "<table border=\"1\" class=\"dataframe\">\n",
       "  <thead>\n",
       "    <tr style=\"text-align: right;\">\n",
       "      <th></th>\n",
       "      <th>N</th>\n",
       "      <th>96.400000000038,1.0,Middle</th>\n",
       "      <th>95.400000000038,1.0,Middle</th>\n",
       "      <th>97.400000000038,1.0,Middle</th>\n",
       "      <th>96.400000000038,0.97,Middle</th>\n",
       "      <th>96.400000000038,1.03,Middle</th>\n",
       "      <th>96.400000000038,1.0,Start</th>\n",
       "      <th>96.400000000038,1.0,End</th>\n",
       "    </tr>\n",
       "  </thead>\n",
       "  <tbody>\n",
       "    <tr>\n",
       "      <th>0</th>\n",
       "      <td>0.0</td>\n",
       "      <td>0.000000e+00</td>\n",
       "      <td>0.000000e+00</td>\n",
       "      <td>0.000000e+00</td>\n",
       "      <td>0.000000e+00</td>\n",
       "      <td>0.000000e+00</td>\n",
       "      <td>0.000000e+00</td>\n",
       "      <td>0.000000e+00</td>\n",
       "    </tr>\n",
       "    <tr>\n",
       "      <th>1</th>\n",
       "      <td>7000000.0</td>\n",
       "      <td>2.500810e+07</td>\n",
       "      <td>2.707100e+07</td>\n",
       "      <td>2.304604e+07</td>\n",
       "      <td>2.321234e+07</td>\n",
       "      <td>2.679755e+07</td>\n",
       "      <td>2.476865e+07</td>\n",
       "      <td>2.471629e+07</td>\n",
       "    </tr>\n",
       "    <tr>\n",
       "      <th>2</th>\n",
       "      <td>14750000.0</td>\n",
       "      <td>7.292941e+07</td>\n",
       "      <td>7.959189e+07</td>\n",
       "      <td>6.660948e+07</td>\n",
       "      <td>6.714615e+07</td>\n",
       "      <td>7.870783e+07</td>\n",
       "      <td>7.220145e+07</td>\n",
       "      <td>7.196781e+07</td>\n",
       "    </tr>\n",
       "    <tr>\n",
       "      <th>3</th>\n",
       "      <td>22500000.0</td>\n",
       "      <td>1.323115e+08</td>\n",
       "      <td>1.449028e+08</td>\n",
       "      <td>1.203869e+08</td>\n",
       "      <td>1.213995e+08</td>\n",
       "      <td>1.432326e+08</td>\n",
       "      <td>1.309624e+08</td>\n",
       "      <td>1.305143e+08</td>\n",
       "    </tr>\n",
       "  </tbody>\n",
       "</table>\n",
       "</div>"
      ],
      "text/plain": [
       "            N  96.400000000038,1.0,Middle  95.400000000038,1.0,Middle  \\\n",
       "0         0.0                0.000000e+00                0.000000e+00   \n",
       "1   7000000.0                2.500810e+07                2.707100e+07   \n",
       "2  14750000.0                7.292941e+07                7.959189e+07   \n",
       "3  22500000.0                1.323115e+08                1.449028e+08   \n",
       "\n",
       "   97.400000000038,1.0,Middle  96.400000000038,0.97,Middle  \\\n",
       "0                0.000000e+00                 0.000000e+00   \n",
       "1                2.304604e+07                 2.321234e+07   \n",
       "2                6.660948e+07                 6.714615e+07   \n",
       "3                1.203869e+08                 1.213995e+08   \n",
       "\n",
       "   96.400000000038,1.03,Middle  96.400000000038,1.0,Start  \\\n",
       "0                 0.000000e+00               0.000000e+00   \n",
       "1                 2.679755e+07               2.476865e+07   \n",
       "2                 7.870783e+07               7.220145e+07   \n",
       "3                 1.432326e+08               1.309624e+08   \n",
       "\n",
       "   96.400000000038,1.0,End  \n",
       "0             0.000000e+00  \n",
       "1             2.471629e+07  \n",
       "2             7.196781e+07  \n",
       "3             1.305143e+08  "
      ]
     },
     "execution_count": 13,
     "metadata": {},
     "output_type": "execute_result"
    }
   ],
   "source": [
    "nvarn_df = pd.read_csv(\"theor_NvarN.csv\", index_col=0)\n",
    "nvarn_df"
   ]
  },
  {
   "cell_type": "code",
   "execution_count": 14,
   "metadata": {},
   "outputs": [
    {
     "data": {
      "text/html": [
       "<div>\n",
       "<style scoped>\n",
       "    .dataframe tbody tr th:only-of-type {\n",
       "        vertical-align: middle;\n",
       "    }\n",
       "\n",
       "    .dataframe tbody tr th {\n",
       "        vertical-align: top;\n",
       "    }\n",
       "\n",
       "    .dataframe thead th {\n",
       "        text-align: right;\n",
       "    }\n",
       "</style>\n",
       "<table border=\"1\" class=\"dataframe\">\n",
       "  <thead>\n",
       "    <tr style=\"text-align: right;\">\n",
       "      <th></th>\n",
       "      <th>EerrB</th>\n",
       "      <th>KerrB</th>\n",
       "      <th>PerrB</th>\n",
       "    </tr>\n",
       "  </thead>\n",
       "  <tbody>\n",
       "    <tr>\n",
       "      <th>0</th>\n",
       "      <td>0.000000e+00</td>\n",
       "      <td>0.000000e+00</td>\n",
       "      <td>0.000000e+00</td>\n",
       "    </tr>\n",
       "    <tr>\n",
       "      <th>1</th>\n",
       "      <td>1.962058e+06</td>\n",
       "      <td>1.795758e+06</td>\n",
       "      <td>2.394522e+05</td>\n",
       "    </tr>\n",
       "    <tr>\n",
       "      <th>2</th>\n",
       "      <td>6.319925e+06</td>\n",
       "      <td>5.783260e+06</td>\n",
       "      <td>7.279532e+05</td>\n",
       "    </tr>\n",
       "    <tr>\n",
       "      <th>3</th>\n",
       "      <td>1.192460e+07</td>\n",
       "      <td>1.091201e+07</td>\n",
       "      <td>1.349107e+06</td>\n",
       "    </tr>\n",
       "  </tbody>\n",
       "</table>\n",
       "</div>"
      ],
      "text/plain": [
       "          EerrB         KerrB         PerrB\n",
       "0  0.000000e+00  0.000000e+00  0.000000e+00\n",
       "1  1.962058e+06  1.795758e+06  2.394522e+05\n",
       "2  6.319925e+06  5.783260e+06  7.279532e+05\n",
       "3  1.192460e+07  1.091201e+07  1.349107e+06"
      ]
     },
     "execution_count": 14,
     "metadata": {},
     "output_type": "execute_result"
    }
   ],
   "source": [
    "Ns = nvarn_df['N']\n",
    "varN0 = nvarn_df.iloc[:,1]\n",
    "EerrT = nvarn_df.iloc[:,2]-varN0\n",
    "EerrB = varN0-nvarn_df.iloc[:,3]\n",
    "KerrT = nvarn_df.iloc[:,5]-varN0\n",
    "KerrB = varN0-nvarn_df.iloc[:,4]\n",
    "PerrB = varN0 - nvarn_df.iloc[:,6]\n",
    "PerrT = 0 # both ends of the undulator are Bottom\n",
    "errT = np.sqrt(EerrT**2+KerrT**2+PerrT**2)\n",
    "errB = np.sqrt(EerrB**2+KerrB**2+PerrB**2)\n",
    "varNT = varN0+errT\n",
    "varNB = varN0-errB\n",
    "varN0func = interp1d(Ns, varN0,\n",
    "                   bounds_error=False, fill_value=\"extrapolate\", kind=\"cubic\")\n",
    "varNTfunc = interp1d(Ns, varNT,\n",
    "                   bounds_error=False, fill_value=\"extrapolate\", kind=\"cubic\")\n",
    "varNBfunc = interp1d(Ns, varNB,\n",
    "                   bounds_error=False, fill_value=\"extrapolate\", kind=\"cubic\")\n",
    "pd.DataFrame({\"EerrB\":EerrB, \"KerrB\":KerrB, \"PerrB\":PerrB})"
   ]
  },
  {
   "cell_type": "code",
   "execution_count": 15,
   "metadata": {},
   "outputs": [],
   "source": [
    "x = np.linspace(0,2.25e7,50)\n",
    "theor_df = pd.DataFrame({\"N\": x})\n",
    "theor_df[\"varN\"] = varN0func(x)\n",
    "theor_df['varN_bottom'] = varNBfunc(x)\n",
    "theor_df['varN_top'] = varNTfunc(x)\n",
    "theor_df['varN_nodiv'] = varNnodivfunc(x)"
   ]
  },
  {
   "cell_type": "code",
   "execution_count": 16,
   "metadata": {},
   "outputs": [],
   "source": [
    "Cferr = 0.0\n",
    "cf = 1+Cferr"
   ]
  },
  {
   "cell_type": "code",
   "execution_count": 25,
   "metadata": {},
   "outputs": [
    {
     "data": {
      "image/png": "[encoded data removed]",
      "text/plain": [
       "<Figure size 1080x540 with 2 Axes>"
      ]
     },
     "metadata": {
      "needs_background": "light"
     },
     "output_type": "display_data"
    }
   ],
   "source": [
    "hybrid_balance_error = get_from_config(\"HybridBalanceError\")\n",
    "fit_errorbar = get_from_config(\"varN_error_fit\")\n",
    "plt.rcParams[\"text.usetex\"] =True\n",
    "plt.rc('text.latex', preamble=r'\\usepackage{siunitx}')\n",
    "plt.rcParams.update({'font.size': 28,\n",
    "                     'legend.fontsize':22,\n",
    "                     'errorbar.capsize':3})\n",
    "fig, ax = plt.subplots(figsize=(15, 7.5))\n",
    "res_df_loaded = \\\n",
    "    pd.read_csv(shift.get_results_dir().fi('meas_ROUND_03_16_2020.csv'),\n",
    "                index_col=0)\n",
    "res_df_ROUND_no_outliers = res_df_loaded\n",
    "hybrid_errorbar = 2*hybrid_balance_error\\\n",
    "    *np.absolute(res_df_ROUND_no_outliers['varN'])\n",
    "error_bar = np.sqrt(0*hybrid_errorbar**2+fit_errorbar**2)\n",
    "res_df_ROUND_no_outliers['errorbar'] = error_bar\n",
    "ax.errorbar(cf*res_df_ROUND_no_outliers['N'],cf**2*res_df_ROUND_no_outliers['varN'],\n",
    "            marker='o',linestyle='None',yerr=error_bar,color='b',\n",
    "            label = r'Fluctuations measurement')\n",
    "x_aux = np.linspace(0, theor_df['N'].values[-1], 100)\n",
    "ax.set_xlim(0, x_aux[-1])\n",
    "ax.plot(x_aux, x_aux,color='blue',linestyle='--',\n",
    "        label = r\"var$\\left(\\mathcal{N}\\right)=\\langle\\mathcal{N}\\rangle$\")\n",
    "lw=3\n",
    "ax.plot(theor_df['N'], theor_df['varN'], color='red',\n",
    "        linewidth=lw,\n",
    "        label = r\"var$\\left(\\mathcal{N}\\right)=\\langle\\mathcal{N}\"\n",
    "        r\"\\rangle+\\left(1/M_{\\mathrm{sim.}}\\right)\\langle\\mathcal{N}\\rangle^2$\")\n",
    "ax.plot(theor_df['N'], theor_df['varN_nodiv'], color='black', linestyle='--',\n",
    "        linewidth=lw,\n",
    "        label = r\"var$\\left(\\mathcal{N}\\right)=\\langle\\mathcal{N}\"\n",
    "        r\"\\rangle+\\left(1/M_{\\mathrm{sim.~no~beam~divergence}}\\right)\\langle\\mathcal{N}\\rangle^2$\")\n",
    "ax.fill_between(\n",
    "    theor_df['N'],\n",
    "    theor_df['varN_bottom'],\n",
    "    theor_df['varN_top'],\n",
    "    facecolor='red', alpha=0.3,\n",
    "    label=\"Simulation uncertainty range\")\n",
    "\n",
    "ax.set_xlim(0, ax.get_xlim()[1])\n",
    "ax.set_ylim(0, ax.get_ylim()[1])\n",
    "\n",
    "ax.set_ylabel(r\"Photoelectron count variance var$\\left(\\mathcal{N}\\right)$\")\n",
    "ax.set_xlabel(r\"Photoelectron count mean $\\langle\\mathcal{N}\\rangle$\")\n",
    "# ax.set_title(r\"Round beam, no ND filters, variable beam current\")\n",
    "handles, labels = plt.gca().get_legend_handles_labels()\n",
    "order = [4,1,3,2,0]\n",
    "ax.legend([handles[idx] for idx in order],[labels[idx] for idx in order])\n",
    "ax1 = ax.twiny()\n",
    "ax1.set_xlabel(r\"Beam current (\\SI{}{mA})\")\n",
    "ax1.set_xlim(N_to_I*np.asarray(ax.get_xlim()))\n",
    "# xlim_max = theor_df['N'].values[-1]\n",
    "# ax.set_xlim(0,xlim_max)\n",
    "# ax1.set_xlim(0,xlim_max)\n",
    "ax1.set_xticks(ticks=ax1.get_xticks()[2:-1])\n",
    "plt.savefig(path_assistant.get_PRL_images_dir().fi(\"round_beam_compare_with_no_beam_div.png\"),\n",
    "            dpi=300, bbox_inches='tight')\n",
    "plt.show()"
   ]
  },
  {
   "cell_type": "code",
   "execution_count": null,
   "metadata": {},
   "outputs": [],
   "source": []
  }
 ],
 "metadata": {
  "file_extension": ".py",
  "kernelspec": {
   "display_name": "fur",
   "language": "python",
   "name": "fur"
  },
  "language_info": {
   "codemirror_mode": {
    "name": "ipython",
    "version": 3
   },
   "file_extension": ".py",
   "mimetype": "text/x-python",
   "name": "python",
   "nbconvert_exporter": "python",
   "pygments_lexer": "ipython3",
   "version": "3.6.8"
  },
  "mimetype": "text/x-python",
  "name": "python",
  "npconvert_exporter": "python",
  "pygments_lexer": "ipython3",
  "version": 3
 },
 "nbformat": 4,
 "nbformat_minor": 2
}
