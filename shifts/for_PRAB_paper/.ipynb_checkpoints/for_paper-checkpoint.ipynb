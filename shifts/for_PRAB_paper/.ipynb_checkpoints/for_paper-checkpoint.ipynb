{
 "cells": [
  {
   "cell_type": "markdown",
   "metadata": {},
   "source": [
    "# Appendix. Estimation of M"
   ]
  },
  {
   "cell_type": "code",
   "execution_count": 46,
   "metadata": {},
   "outputs": [],
   "source": [
    "import numpy as np\n",
    "import pandas as pd"
   ]
  },
  {
   "cell_type": "markdown",
   "metadata": {},
   "source": [
    "# BNL experiment"
   ]
  },
  {
   "cell_type": "code",
   "execution_count": 47,
   "metadata": {},
   "outputs": [
    {
     "name": "stdout",
     "output_type": "stream",
     "text": [
      "1/(2k) = 4.2e-08 m\n",
      "sz = 6.115e-02 m\n",
      "ez = 2.718e-03 m\n"
     ]
    },
    {
     "data": {
      "text/plain": [
       "151786.43443789333"
      ]
     },
     "execution_count": 47,
     "metadata": {},
     "output_type": "execute_result"
    }
   ],
   "source": [
    "lmda1 = 532e-9  # m\n",
    "k = 2*np.pi/lmda1\n",
    "print(\"1/(2k) = {:.1e} m\".format(1/2/k))\n",
    "ex, ey = 8e-8, 2e-8\n",
    "c = 3e8  # m/s\n",
    "sz = c*0.48e-9/2.355\n",
    "print(f\"sz = {sz:.3e} m\")\n",
    "Nw = 22.5\n",
    "ez = sz/Nw\n",
    "print(f\"ez = {ez:.3e} m\")\n",
    "OmegaR = 1/(2*k)**3\n",
    "Omega = np.sqrt(\n",
    "    (1/(2*k)**2+ex**2)\n",
    "    *(1/(2*k)**2+ey**2)\n",
    "    *(1/(2*k)**2+ez**2))\n",
    "Mest = Omega/OmegaR\n",
    "Mest"
   ]
  },
  {
   "cell_type": "code",
   "execution_count": 48,
   "metadata": {},
   "outputs": [
    {
     "name": "stdout",
     "output_type": "stream",
     "text": [
      "value\n",
      "sigma_x   0.001000\n",
      "sigma_y   0.000320\n",
      "sigma_xp  0.000080\n",
      "sigma_yp  0.000063\n",
      "sigma_r   0.000087\n",
      "sigma_rp  0.000486\n",
      "M = 1.62e+05\n"
     ]
    }
   ],
   "source": [
    "Lu = 0.1*Nw  # m\n",
    "sr = np.sqrt(lmda1*Lu)/4/np.pi\n",
    "srp = np.sqrt(lmda1/Lu)\n",
    "sx = 0.001\n",
    "sy = 0.00032\n",
    "sxp = ex/sx\n",
    "syp = ey/sy\n",
    "df = pd.DataFrame(\n",
    "    {\"sigma_x\": sx,\n",
    "     \"sigma_y\": sy,\n",
    "     \"sigma_xp\": sxp,\n",
    "     \"sigma_yp\": syp,\n",
    "     \"sigma_r\": sr,\n",
    "     \"sigma_rp\": srp},\n",
    "     index=[\"value\"]\n",
    ")\n",
    "print(df.T)\n",
    "Mx = np.sqrt(sx**2+sr**2)*srp/(1/2/k)\n",
    "My = np.sqrt(sy**2+sr**2)*srp/(1/2/k)\n",
    "Mz = sz*3.2/2.355/532/(1/2/k)\n",
    "M = Mx*My*Mz\n",
    "print(f\"M = {M:.2e}\")"
   ]
  },
  {
   "cell_type": "code",
   "execution_count": 49,
   "metadata": {},
   "outputs": [
    {
     "data": {
      "text/plain": [
       "0.0025541560908641033"
      ]
     },
     "execution_count": 49,
     "metadata": {},
     "output_type": "execute_result"
    }
   ],
   "source": [
    "3.2/2.355/532"
   ]
  },
  {
   "cell_type": "code",
   "execution_count": 50,
   "metadata": {},
   "outputs": [
    {
     "data": {
      "text/plain": [
       "722170.6210062259"
      ]
     },
     "execution_count": 50,
     "metadata": {},
     "output_type": "execute_result"
    }
   ],
   "source": [
    "k*sz"
   ]
  },
  {
   "cell_type": "markdown",
   "metadata": {},
   "source": [
    "# IOTA"
   ]
  },
  {
   "cell_type": "code",
   "execution_count": null,
   "metadata": {},
   "outputs": [],
   "source": []
  },
  {
   "cell_type": "code",
   "execution_count": 51,
   "metadata": {},
   "outputs": [
    {
     "name": "stdout",
     "output_type": "stream",
     "text": [
      "1/(2k) = 8.9e-08 m\n",
      "sz = 3.800e-01 m\n",
      "ez = 3.800e-02 m\n"
     ]
    },
    {
     "data": {
      "text/plain": [
       "1682439.2702723313"
      ]
     },
     "execution_count": 51,
     "metadata": {},
     "output_type": "execute_result"
    }
   ],
   "source": [
    "lmda1 = 1120e-9  # m\n",
    "k = 2*np.pi/lmda1\n",
    "print(\"1/(2k) = {:.1e} m\".format(1/2/k))\n",
    "ex, ey = 0.32e-6, 31e-9\n",
    "c = 3e8  # m/s\n",
    "sz = 0.38  # m\n",
    "print(f\"sz = {sz:.3e} m\")\n",
    "Nw = 10\n",
    "ez = sz/Nw\n",
    "print(f\"ez = {ez:.3e} m\")\n",
    "OmegaR = 1/(2*k)**3\n",
    "Omega = np.sqrt(\n",
    "    (1/(2*k)**2+ex**2)\n",
    "    *(1/(2*k)**2+ey**2)\n",
    "    *(1/(2*k)**2+ez**2))\n",
    "Mest = Omega/OmegaR\n",
    "Mest"
   ]
  },
  {
   "cell_type": "code",
   "execution_count": 52,
   "metadata": {},
   "outputs": [
    {
     "name": "stdout",
     "output_type": "stream",
     "text": [
      "value\n",
      "sigma_x   0.000875\n",
      "sigma_y   0.000075\n",
      "sigma_xp  0.000366\n",
      "sigma_yp  0.000413\n",
      "sigma_r   0.000062\n",
      "sigma_rp  0.001427\n",
      "M = 9.36e+06\n"
     ]
    }
   ],
   "source": [
    "Lu = 0.055*Nw  # m\n",
    "sr = np.sqrt(lmda1*Lu)/4/np.pi\n",
    "srp = np.sqrt(lmda1/Lu)\n",
    "sx = 0.000875\n",
    "sy = 0.000075\n",
    "sxp = ex/sx\n",
    "syp = ey/sy\n",
    "df = pd.DataFrame(\n",
    "    {\"sigma_x\": sx,\n",
    "     \"sigma_y\": sy,\n",
    "     \"sigma_xp\": sxp,\n",
    "     \"sigma_yp\": syp,\n",
    "     \"sigma_r\": sr,\n",
    "     \"sigma_rp\": srp},\n",
    "     index=[\"value\"]\n",
    ")\n",
    "print(df.T)\n",
    "Mx = np.sqrt(sx**2+sr**2)*srp/(1/2/k)\n",
    "My = np.sqrt(sy**2+sr**2)*srp/(1/2/k)\n",
    "Mz = sz/Nw/(1/2/k)\n",
    "M = Mx*My*Mz\n",
    "print(f\"M = {M:.2e}\")"
   ]
  },
  {
   "cell_type": "code",
   "execution_count": 53,
   "metadata": {},
   "outputs": [
    {
     "data": {
      "text/plain": [
       "2131795.0149359307"
      ]
     },
     "execution_count": 53,
     "metadata": {},
     "output_type": "execute_result"
    }
   ],
   "source": [
    "k*sz"
   ]
  }
 ],
 "metadata": {
  "kernelspec": {
   "display_name": "Python 3.6.5 64-bit ('env': venv)",
   "language": "python",
   "name": "python36564bitenvvenv8808d7b94e124c33aa2e1a14e28a0d40"
  },
  "language_info": {
   "codemirror_mode": {
    "name": "ipython",
    "version": 3
   },
   "file_extension": ".py",
   "mimetype": "text/x-python",
   "name": "python",
   "nbconvert_exporter": "python",
   "pygments_lexer": "ipython3",
   "version": "3.6.5"
  }
 },
 "nbformat": 4,
 "nbformat_minor": 2
}
