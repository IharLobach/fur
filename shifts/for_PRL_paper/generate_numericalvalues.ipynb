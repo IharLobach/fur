{
 "cells": [
  {
   "cell_type": "code",
   "execution_count": 1,
   "metadata": {},
   "outputs": [],
   "source": [
    "import numpy as np\n",
    "import pandas as pd\n",
    "import sys\n",
    "import os\n",
    "import fur.path_assistant as path_assistant\n",
    "shift = path_assistant.PathAssistant('shift_03_16_2020',\n",
    "    ignore_files=['RefCurve_2020-03-16_0_084020_test.Wfm.bin',\n",
    "                  'RefCurve_2020-03-16_153_155200.Wfm.bin'])\n",
    "from config import get_from_config, save_to_config\n",
    "from scipy.interpolate import interp1d\n",
    "from lattice.summary_in_undulator import get_summary_in_undulator\n",
    "from lattice import lattice\n",
    "lattice_file = shift.get_6dsim_dir().fi(\"IOTA_1NL_100MeV_v8.6.1.4.6ds_data.txt\")"
   ]
  },
  {
   "cell_type": "code",
   "execution_count": 2,
   "metadata": {},
   "outputs": [],
   "source": [
    "V = 360 # V rf also used below in zero-current section\n",
    "sz_to_dpp = lattice.get_dpp(1,V)"
   ]
  },
  {
   "cell_type": "code",
   "execution_count": 3,
   "metadata": {},
   "outputs": [],
   "source": [
    "from fur.jsonstorage import JsonStorage\n",
    "js16 = JsonStorage(shift.get_results_dir().fi('jsonstorage_03_16_2020.json'))\n",
    "dP_Psep = js16.get(\"dP_Psep\")\n",
    "momApFac = js16.get(\"momApFactor\")"
   ]
  },
  {
   "cell_type": "code",
   "execution_count": 4,
   "metadata": {},
   "outputs": [
    {
     "name": "stderr",
     "output_type": "stream",
     "text": [
      "/home/ilobach/fur/env/lib/python3.6/site-packages/pandas/core/series.py:679: RuntimeWarning: invalid value encountered in sqrt\n",
      "  result = getattr(ufunc, method)(*inputs, **kwargs)\n",
      "/home/ilobach/fur/lattice/lattice.py:173: RuntimeWarning: invalid value encountered in sqrt\n",
      "  return np.sqrt(e_um*1e4*beta_cm+(1e4*dispersion_cm*dpp)**2)\n"
     ]
    },
    {
     "data": {
      "text/plain": [
       "(101.20460727716554,\n",
       " 203.63015539385736,\n",
       " 98.4141815632213,\n",
       " 1.2502870273577453,\n",
       " -0.8742874700127816)"
      ]
     },
     "execution_count": 4,
     "metadata": {},
     "output_type": "execute_result"
    }
   ],
   "source": [
    "und_summary = get_summary_in_undulator(\n",
    "    lattice_file,\n",
    "    np.ones(8),\n",
    "    np.ones(8),\n",
    "    0,\n",
    "    0\n",
    "    )\n",
    "Dx, betax, betay, alphax, alphay = und_summary[0].loc['Middle', ['Dispersion_cm_X', 'Beta_cm_X', 'Beta_cm_Y',\n",
    "                          'Alpha_X', 'Alpha_Y']]\n",
    "Dx, betax, betay, alphax, alphay"
   ]
  },
  {
   "cell_type": "code",
   "execution_count": 5,
   "metadata": {},
   "outputs": [],
   "source": [
    "def newval(name, val, unit):\n",
    "    return (r'\\newcommand{\\val'+name+r'}{\\SI{'\n",
    "              +val\n",
    "              +r'}{'\n",
    "              +unit\n",
    "              +r'}}'+'\\n')"
   ]
  },
  {
   "cell_type": "code",
   "execution_count": 6,
   "metadata": {},
   "outputs": [],
   "source": [
    "cur_to_sum_channel = get_from_config(\"Beam_current_to_Sum_channel_ampl_V/mA\")\n",
    "sum_channel_to_photoelectrons =\\\n",
    "    get_from_config('sum_channel_to_photoelectrons')\n",
    "meas_photons_per_electron =\\\n",
    "    get_from_config(\"Measured_photons_per_electron\")\n",
    "meas_photons_per_electron\n",
    "cspeed = get_from_config(\"c_m/s\")\n",
    "Ibeam = get_from_config(\"NominalBeamCurrent_mA\")\n",
    "N_to_I = 1/sum_channel_to_photoelectrons/cur_to_sum_channel\n",
    "N0 = Ibeam/N_to_I\n",
    "Ku = get_from_config(\"K_peak\")\n",
    "gamma = get_from_config(\"gamma\")\n",
    "Ebeam = 0.511*gamma\n",
    "Ku_error = get_from_config(\"Ku_error\")\n",
    "Ebeam_error= get_from_config(\"Ebeam_error_MeV\")\n",
    "und_per = get_from_config(\"Undulator_period_m\")\n",
    "lambda1 = und_per/2/gamma**2*(1+Ku**2/2)*1e6\n",
    "zobs = get_from_config(\"z_obs_m\")\n",
    "inch = 0.0254 # m\n",
    "apx_mrad = 1e3*inch/zobs\n",
    "apy_mrad = apx_mrad/np.sqrt(2)\n",
    "integrator_to_photoelectrons =\\\n",
    "    get_from_config(\"integrator_amp_to_photoelectrons\")\n",
    "hybrid_balance_error = get_from_config(\"HybridBalanceError\")\n",
    "hybrid_errorbar = 2*hybrid_balance_error\n",
    "xi = get_from_config(\"integrator_amp_to_photoelectrons\")\\\n",
    "    /get_from_config(\"sum_channel_to_photoelectrons\")/2\n",
    "test_light_source_theta = get_from_config(\"test_light_source_theta\")\n",
    "noise_level = get_from_config(\"noise_level\")\n",
    "noise_level_V2 = get_from_config(\"noise_level_V2\")\n",
    "varN_error_fit = get_from_config(\"varN_error_fit\")\n",
    "\n",
    "sh10 = path_assistant.PathAssistant('shift_03_10_2020')\n",
    "from fur.jsonstorage import JsonStorage\n",
    "js10 = JsonStorage(sh10.get_results_dir().fi('jsonstorage_03_10_2020.json'))\n",
    "\n",
    "observed_M = js10.get(\"observed_M\")\n",
    "MerrND = js10.get(\"M_err\")\n",
    "\n",
    "# now from rcc cluster\n",
    "ey_with_div = 0.008437 #js10.get(\"ey_with_div\")\n",
    "ey_without_div = 0.018277246293550275 #js10.get(\"ey_without_div\")\n",
    "\n",
    "ey_with_div_top = js10.get(\"ey_with_div_top\") \n",
    "ey_with_div_bottom = js10.get(\"ey_with_div_bottom\")\n",
    "ey_without_div_top = js10.get(\"ey_without_div_top\") \n",
    "ey_without_div_bottom = js10.get(\"ey_without_div_bottom\")\n",
    "\n",
    "# now from rcc cluster\n",
    "ey_with_div_err = 0.0014710308562775852#(ey_with_div_top + ey_with_div_bottom)/2\n",
    "ey_without_div_err = 0.0013249322830276734 # (ey_without_div_top + ey_without_div_bottom)/2\n",
    "\n",
    "szeff_ND = js10.get(\"szeff_cm\")\n",
    "sz_ND = js10.get(\"sz_cm\")\n",
    "ex_ND = js10.get(\"ex\")\n",
    "dpp_ND = js10.get(\"dpp\")\n",
    "IbeamND = js10.get(\"Ibeam\")\n",
    "ey_lt_rec = js10.get(\"ey_lifetime_rec\")\n",
    "ey_lt_rec_err = js10.get(\"ey_lifetime_rec_err\")\n",
    "lifetimeND = js10.get(\"Lifetime\")"
   ]
  },
  {
   "cell_type": "code",
   "execution_count": 7,
   "metadata": {},
   "outputs": [],
   "source": [
    "shift_03_10_2020 = path_assistant.PathAssistant('shift_03_10_2020')\n",
    "lattice_file_10 = shift_03_10_2020.get_6dsim_dir().fi(\"IOTA_1NL_100MeV_v8.6.1.3.6ds_data.txt\")\n",
    "lattice_df_10 = lattice.read_lattice_file(lattice_file_10)\n",
    "emmitance_6D = {\n",
    "        \"ex_um\": ex_ND,\n",
    "        \"ex_err_um\": 0,\n",
    "        \"ey_um\": 0,\n",
    "        \"ey_err_um\": 0,\n",
    "        \"dp/p\": dpp_ND,\n",
    "        \"dp/p_err\": 0\n",
    "    }\n",
    "beamDivXND, dDx_ND  =\\\n",
    "lattice.get_undulator_df(lattice_df_10, emmitance_6D).loc['Middle',\n",
    "                                                          ['Angle_spread_rad_X','dDx']]"
   ]
  },
  {
   "cell_type": "code",
   "execution_count": 8,
   "metadata": {},
   "outputs": [
    {
     "data": {
      "text/plain": [
       "(0.00042759394782892053, 0.00042759394782892053)"
      ]
     },
     "execution_count": 8,
     "metadata": {},
     "output_type": "execute_result"
    }
   ],
   "source": [
    "bp_df = pd.read_csv(\n",
    "    shift.get_results_dir().fi(f\"beam_params_vs_current_round.csv\"))\n",
    "sx_func = interp1d(bp_df[\"N\"], bp_df['Sigma_um_X'],\n",
    "                   bounds_error=False, fill_value=\"extrapolate\")\n",
    "sy_func = interp1d(bp_df[\"N\"], bp_df['Sigma_um_Y'],\n",
    "                   bounds_error=False, fill_value=\"extrapolate\")\n",
    "sz_func = interp1d(bp_df[\"N\"], bp_df['sz_um'],\n",
    "                   bounds_error=False, fill_value=\"extrapolate\")\n",
    "ex_func = interp1d(bp_df[\"N\"], bp_df['ex_um'],\n",
    "                   bounds_error=False, fill_value=\"extrapolate\")\n",
    "ey_func = interp1d(bp_df[\"N\"], bp_df['ey_um'],\n",
    "                   bounds_error=False, fill_value=\"extrapolate\")\n",
    "dpp_func = interp1d(bp_df[\"N\"], bp_df['dp/p'],\n",
    "                    bounds_error=False, fill_value=\"extrapolate\")\n",
    "sz = sz_func(N0*IbeamND/Ibeam)\n",
    "ex = ex_func(N0*IbeamND/Ibeam)\n",
    "ey = ey_func(N0*IbeamND/Ibeam)\n",
    "dpp = dpp_func(N0*IbeamND/Ibeam)\n",
    "emmitance_6D = {\n",
    "        \"ex_um\": ex,\n",
    "        \"ex_err_um\": 0,\n",
    "        \"ey_um\": ey,\n",
    "        \"ey_err_um\": 0,\n",
    "        \"dp/p\": dpp,\n",
    "        \"dp/p_err\": 0\n",
    "    }\n",
    "lattice_df = lattice.read_lattice_file(lattice_file)\n",
    "beamDivRoundX, beamDivRoundY = lattice.get_undulator_df(lattice_df, emmitance_6D)\\\n",
    "    .loc['Middle', ['Angle_spread_rad_X', 'Angle_spread_rad_X']].values\n",
    "beamDivRoundX, beamDivRoundY"
   ]
  },
  {
   "cell_type": "code",
   "execution_count": 9,
   "metadata": {},
   "outputs": [],
   "source": [
    "res_df_loaded = \\\n",
    "    pd.read_csv(shift.get_results_dir().fi('meas_ROUND_03_16_2020.csv'),\n",
    "                index_col=0)\n",
    "res_df_ROUND = res_df_loaded[res_df_loaded['N']<2.25e7]\n",
    "res_df_loaded = \\\n",
    "    pd.read_csv(shift.get_results_dir().fi('meas_FLAT_03_16_2020.csv'),\n",
    "                index_col=0)\n",
    "res_df_FLAT = res_df_loaded[res_df_loaded['N']<2.4e7]\n",
    "MrMf = []\n",
    "for res_df in [res_df_ROUND, res_df_FLAT]:\n",
    "    res_df = res_df.sort_values(by='N')\n",
    "    varN = np.interp(N0, res_df['N'], res_df['varN'])\n",
    "    M = N0**2/(varN-N0)\n",
    "    MrMf.append(M)\n",
    "Mr, Mf = MrMf"
   ]
  },
  {
   "cell_type": "markdown",
   "metadata": {},
   "source": [
    "## Re-calculate predicted photons per electron"
   ]
  },
  {
   "cell_type": "code",
   "execution_count": 10,
   "metadata": {},
   "outputs": [],
   "source": [
    "# from wiggler_radiation.Wigrad.wigrad_generator import \\\n",
    "#     generate_wr_sim_with_wigrad_results\n",
    "# wr_sim = generate_wr_sim_with_wigrad_results(\n",
    "# K_peak_in=Ku,\n",
    "# gamma_in=gamma)\n",
    "# ampx3d = wr_sim.get_amplittude_3D(polarization='x')\n",
    "# mesh = get_from_config(\"radiation_mesh\")\n",
    "# xmin, xmax, _ = mesh[0]\n",
    "# xmin = xmin/zobs\n",
    "# xmax = xmax/zobs\n",
    "# ymin, ymax, _ = mesh[1]\n",
    "# ymin = ymin/zobs\n",
    "# ymax = ymax/zobs\n",
    "# lmin, lmax, _ = mesh[2]\n",
    "# dax = (xmax-xmin)/(mesh[0][2]-1)\n",
    "# day = (ymax-ymin)/(mesh[1][2]-1)\n",
    "# dl = (lmax-lmin)/(mesh[2][2]-1)\n",
    "# tot =dax*day*dl*np.sum(np.absolute(ampx3d)**2)\n",
    "# save_to_config(\"Predicted_photons_per_electron_wigrad\", tot)"
   ]
  },
  {
   "cell_type": "code",
   "execution_count": 11,
   "metadata": {},
   "outputs": [],
   "source": [
    "photonFluxMeas = get_from_config(\"Measured_photons_per_electron\")\n",
    "photonFluxTheor = get_from_config(\"Predicted_photons_per_electron_wigrad\")"
   ]
  },
  {
   "cell_type": "code",
   "execution_count": 12,
   "metadata": {},
   "outputs": [],
   "source": [
    "# Vertical size and emittance of flat beam\n",
    "meas_FLAT = pd.read_csv(\n",
    "    shift.get_results_dir().fi('meas_FLAT_03_16_2020.csv'), index_col=0)\n",
    "meas_FLAT = meas_FLAT.sort_values('N')\n",
    "sy_flat = np.interp(N0, meas_FLAT['N'], meas_FLAT['sy_rec'])\n",
    "ey_flat = np.interp(N0, meas_FLAT['N'], meas_FLAT['ey_rec'])"
   ]
  },
  {
   "cell_type": "code",
   "execution_count": 13,
   "metadata": {},
   "outputs": [],
   "source": [
    "Nu = 10.5"
   ]
  },
  {
   "cell_type": "markdown",
   "metadata": {},
   "source": [
    "## zero-current "
   ]
  },
  {
   "cell_type": "code",
   "execution_count": 14,
   "metadata": {},
   "outputs": [
    {
     "data": {
      "text/plain": [
       "8.349010114420189e-05"
      ]
     },
     "execution_count": 14,
     "metadata": {},
     "output_type": "execute_result"
    }
   ],
   "source": [
    "iota_period_sec = get_from_config(\"IOTA_revolution_period\")\n",
    "c = 2.9979e10\n",
    "gamma = get_from_config(\"gamma\")\n",
    "hbar_c = 0.1973269804e-4\n",
    "rho = 70\n",
    "Ec = 3/2*hbar_c*gamma**3/rho\n",
    "Et = 88.9e-7*(gamma*0.511)**4/rho\n",
    "Scale = 15*np.sqrt(3)/8*Et\n",
    "alpha = get_from_config(\"ring_alpha\")\n",
    "E0 = gamma*511000\n",
    "f = 30e6\n",
    "h = 4\n",
    "v0 = V/E0\n",
    "S = Scale/E0\n",
    "eta = alpha - 1/gamma**2\n",
    "w = 2*np.pi*h*eta\n",
    "ts = 0.836\n",
    "JE = 2*E0*iota_period_sec/ts/Et\n",
    "delta_rms = 0.62e-6*gamma/np.sqrt(JE*rho/100)\n",
    "tau_rms = 1e9*delta_rms/(f*2*np.pi*np.sqrt(V/(2*np.pi*E0*h*np.abs(eta))))\n",
    "sz_zero_cur = tau_rms*1e-9*c\n",
    "delta_rms"
   ]
  },
  {
   "cell_type": "code",
   "execution_count": 15,
   "metadata": {},
   "outputs": [],
   "source": [
    "nrev = 7.5e6*1.5e-3"
   ]
  },
  {
   "cell_type": "code",
   "execution_count": 16,
   "metadata": {},
   "outputs": [
    {
     "data": {
      "text/plain": [
       "46.03699576114513"
      ]
     },
     "execution_count": 16,
     "metadata": {},
     "output_type": "execute_result"
    }
   ],
   "source": [
    "k0 = 2*np.pi/lambda1\n",
    "slim = 1/(2*k0*np.sqrt(1+Ku**2/2)/(gamma*np.sqrt(Nu)))\n",
    "exlim = 1000*slim**2/(1e4*betax)\n",
    "eylim = 1000*slim**2/(1e4*betay)\n",
    "slim"
   ]
  },
  {
   "cell_type": "code",
   "execution_count": 17,
   "metadata": {},
   "outputs": [],
   "source": [
    "fwhm = get_from_config(\"fundamental_fwhm\")"
   ]
  },
  {
   "cell_type": "code",
   "execution_count": 18,
   "metadata": {},
   "outputs": [
    {
     "name": "stdout",
     "output_type": "stream",
     "text": [
      "% Do not edit this file. It is generated by a Python script.\n",
      "\\ProvidesPackage{numericalvalues}\n",
      "\\usepackage{siunitx}\n",
      "\n",
      "\n",
      "\\newcommand{\\valfwhm}{\\SI{0.14}{\\micro m}}\n",
      "\\newcommand{\\valslim}{\\SI{50}{\\micro m}}\n",
      "\\newcommand{\\valexlim}{\\SI{1.0}{nm}}\n",
      "\\newcommand{\\valeylim}{\\SI{2.2}{nm}}\n",
      "\\newcommand{\\valdppSep}{\\SI{2.8e-03}{}}\n",
      "\\newcommand{\\valMomentumApertureFactor}{\\SI{0.7}{}}\n",
      "\\newcommand{\\valMomApEff}{\\SI{2.0e-03}{}}\n",
      "\\newcommand{\\vallifetimeND}{\\SI{559}{s}}\n",
      "\\newcommand{\\valeyLifetimeRecND}{\\SI{9.6}{nm}}\n",
      "\\newcommand{\\valeyLifetimeRecNDDimLess}{\\SI{9.6}{}}\n",
      "\\newcommand{\\valeyLifetimeRecNDErr}{\\SI{1.2}{nm}}\n",
      "\\newcommand{\\valVrf}{\\SI{360}{V}}\n",
      "\\newcommand{\\valszTospDimLess}{\\SI{9.1e-06}{}}\n",
      "\\newcommand{\\valtr}{\\SI{85}{ns}}\n",
      "\\newcommand{\\valSLMroundErr}{\\SI{8}{nm}}\n",
      "\\newcommand{\\valSLMflatErr}{\\SI{50}{nm}}\n",
      "\\newcommand{\\valrevolutionPeriodDimLess}{\\SI{133.3}{}}\n",
      "\\newcommand{\\valrevolutionPeriod}{\\SI{133.3}{ns}}\n",
      "\\newcommand{\\valszeffND}{\\SI{29.5}{cm}}\n",
      "\\newcommand{\\valszND}{\\SI{31.9}{cm}}\n",
      "\\newcommand{\\valdppND}{\\SI{3.0e-04}{}}\n",
      "\\newcommand{\\valexND}{\\SI{0.66}{\\micro m}}\n",
      "\\newcommand{\\valIbeamND}{\\SI{2.66}{mA}}\n",
      "\\newcommand{\\valbeamDivRoundX}{\\SI{0.43}{mrad}}\n",
      "\\newcommand{\\valbeamDivRoundY}{\\SI{0.43}{mrad}}\n",
      "\\newcommand{\\valbeamDivXND}{\\SI{0.94}{mrad}}\n",
      "\\newcommand{\\valdDxND}{\\SI{-4.22}{}}\n",
      "\\newcommand{\\valobservedM}{\\SI{4.38e+06}{}}\n",
      "\\newcommand{\\valMerrND}{\\SI{1.0e+05}{}}\n",
      "\\newcommand{\\valeyWithDivDimLess}{\\SI{8.4}{}}\n",
      "\\newcommand{\\valeyWithoutDivDimLess}{\\SI{18.3}{}}\n",
      "\\newcommand{\\valeyWithDivErr}{\\SI{1.5}{nm}}\n",
      "\\newcommand{\\valeyWithoutDivErr}{\\SI{1.3}{nm}}\n",
      "\\newcommand{\\valvarNerror}{\\SI{2.7e+06}{}}\n",
      "\\newcommand{\\valnoiseLevel}{\\SI{2.0e+08}{}}\n",
      "\\newcommand{\\valnoiseLevelV}{\\SI{8.8e-08}{V^2}}\n",
      "\\newcommand{\\valtheta}{\\SI{3.31e-06}{}}\n",
      "\\newcommand{\\valthetarms}{\\SI{1.82e-03}{}}\n",
      "\\newcommand{\\valxi}{\\SI{0.31}{}}\n",
      "\\newcommand{\\valDx}{\\SI{101}{cm}}\n",
      "\\newcommand{\\valbetax}{\\SI{204}{cm}}\n",
      "\\newcommand{\\valbetay}{\\SI{98}{cm}}\n",
      "\\newcommand{\\valalphax}{\\SI{1.25}{}}\n",
      "\\newcommand{\\valalphay}{\\SI{-0.87}{}}\n",
      "\\newcommand{\\valszZeroCur}{\\SI{9}{cm}}\n",
      "\\newcommand{\\valspZeroCur}{\\SI{8.3e-05}{}}\n",
      "\\newcommand{\\valwfLen}{\\SI{1.5}{ms}}\n",
      "\\newcommand{\\valNrev}{\\SI{11250}{}}\n",
      "\\newcommand{\\valEbeamDimLess}{\\SI{96.4}{}}\n",
      "\\newcommand{\\valEbeam}{\\SI{96.4}{MeV}}\n",
      "\\newcommand{\\valKu}{\\SI{1.0}{}}\n",
      "\\newcommand{\\vallambdaone}{\\SI{1.16}{\\micro m}}\n",
      "\\newcommand{\\valIbeam}{\\SI{2.0}{mA}}\n",
      "\\newcommand{\\valMround}{\\SI{3.8e+06}{}}\n",
      "\\newcommand{\\valMflat}{\\SI{4.3e+06}{}}\n",
      "\\newcommand{\\valzobs}{\\SI{3.5}{m}}\n",
      "\\newcommand{\\valsemiApertureX}{\\SI{7.3}{mrad}}\n",
      "\\newcommand{\\valsemiApertureY}{\\SI{5.1}{mrad}}\n",
      "\\newcommand{\\valoneOverGammaNu}{\\SI{1.0}{mrad}}\n",
      "\\newcommand{\\valphotonFluxMeasDimLess}{\\SI{8.8e-03}{}}\n",
      "\\newcommand{\\valphotonFluxTheorDimLess}{\\SI{9.1e-03}{}}\n",
      "\\newcommand{\\valphotonFluxMeas}{\\SI{8.8e-03}{photoelectrons/electron}}\n",
      "\\newcommand{\\valphotonFluxTheor}{\\SI{9.1e-03}{photoelectrons/electron}}\n",
      "\\newcommand{\\valAmpToPhotoel}{\\SI{2.08e+07}{photoelectrons/V}}\n",
      "\\newcommand{\\valKuerror}{\\SI{0.03}{}}\n",
      "\\newcommand{\\valEbeamerror}{\\SI{1}{MeV}}\n",
      "\\newcommand{\\valHybridErrorbar}{\\SI{8}{\\percent}}\n",
      "\\newcommand{\\valNundPer}{\\SI{10.5}{}}\n",
      "\n",
      "% round beam parameters\n",
      "\\newcommand{\\valsxround}{\\SI{512.7}{\\micro m}}\n",
      "\\newcommand{\\valsyround}{\\SI{299.2}{\\micro m}}\n",
      "\\newcommand{\\valexround}{\\SI{98.2}{nm}}\n",
      "\\newcommand{\\valeyround}{\\SI{91.0}{nm}}\n",
      "\\newcommand{\\valszround}{\\SI{27}{cm}}\n",
      "\\newcommand{\\valstround}{\\SI{0.90}{ns}}\n",
      "\\newcommand{\\valdppround}{\\SI{2.5e-04}{}}\n",
      "\n",
      "% flat beam parameters\n",
      "\\newcommand{\\valsxflat}{\\SI{1159.2}{\\micro m}}\n",
      "\\newcommand{\\valsyflat}{\\SI{92.3}{\\micro m}}\n",
      "\\newcommand{\\valexflat}{\\SI{621.2}{nm}}\n",
      "\\newcommand{\\valeyflat}{\\SI{8.7}{nm}}\n",
      "\\newcommand{\\valszflat}{\\SI{30}{cm}}\n",
      "\\newcommand{\\valstflat}{\\SI{0.99}{ns}}\n",
      "\\newcommand{\\valdppflat}{\\SI{2.8e-04}{}}\n",
      "\n"
     ]
    }
   ],
   "source": [
    "res = \\\n",
    "    r'% Do not edit this file. It is generated by a Python script.'+'\\n'\\\n",
    "    +r'\\ProvidesPackage{numericalvalues}'+'\\n'\\\n",
    "    +r'\\usepackage{siunitx}'+'\\n'+'\\n'+'\\n'\n",
    "\n",
    "res += newval(\"fwhm\", f\"{fwhm:.2f}\", r\"\\micro m\")\n",
    "res += newval(\"slim\", f\"{10*((slim+5)//10):.0f}\", r\"\\micro m\")\n",
    "res += newval(\"exlim\", f\"{exlim:.1f}\", \"nm\")\n",
    "res += newval(\"eylim\", f\"{eylim:.1f}\", \"nm\")\n",
    "res += newval(\"dppSep\", f\"{dP_Psep:.1e}\", \"\")\n",
    "res += newval(\"MomentumApertureFactor\", f\"{momApFac:.1f}\", \"\")\n",
    "res += newval(\"MomApEff\", f\"{dP_Psep*momApFac:.1e}\", \"\")\n",
    "res += newval(\"lifetimeND\", f\"{lifetimeND:.0f}\", \"s\")\n",
    "res += newval(\"eyLifetimeRecND\", f\"{ey_lt_rec:.1f}\", \"nm\")\n",
    "res += newval(\"eyLifetimeRecNDDimLess\", f\"{ey_lt_rec:.1f}\", \"\")\n",
    "res += newval(\"eyLifetimeRecNDErr\", f\"{ey_lt_rec_err:.1f}\", \"nm\")\n",
    "res += newval(\"Vrf\", f\"{V:.0f}\", \"V\")\n",
    "res += newval(\"szTospDimLess\", f\"{sz_to_dpp:.1e}\", \"\")\n",
    "res += newval(\"tr\", \"85\", \"ns\")\n",
    "res += newval(\"SLMroundErr\", \"8\", \"nm\")\n",
    "res += newval(\"SLMflatErr\", \"50\", \"nm\")\n",
    "res += newval(\"revolutionPeriodDimLess\", f\"{iota_period_sec*1e9:.1f}\", \"\")\n",
    "res += newval(\"revolutionPeriod\", f\"{iota_period_sec*1e9:.1f}\", \"ns\")\n",
    "res += newval(\"szeffND\", f\"{szeff_ND:.1f}\", r\"cm\")\n",
    "res += newval(\"szND\", f\"{sz_ND:.1f}\", r\"cm\")\n",
    "res += newval(\"dppND\", f\"{dpp_ND:.1e}\", r\"\")\n",
    "res += newval(\"exND\", f\"{ex_ND:.2f}\", r\"\\micro m\")\n",
    "res += newval(\"IbeamND\", f\"{IbeamND:.2f}\", \"mA\")\n",
    "res += newval(\"beamDivRoundX\", f\"{1000*beamDivRoundX:.2f}\", \"mrad\")\n",
    "res += newval(\"beamDivRoundY\", f\"{1000*beamDivRoundY:.2f}\", \"mrad\")\n",
    "res += newval(\"beamDivXND\", f\"{1000*beamDivXND:.2f}\", \"mrad\")\n",
    "res += newval(\"dDxND\", f\"{dDx_ND:.2f}\", \"\")\n",
    "res += newval(\"observedM\", f\"{observed_M:.2e}\", \"\")\n",
    "res += newval(\"MerrND\", f\"{MerrND:.1e}\", \"\")\n",
    "res += newval(\"eyWithDivDimLess\", f\"{1000*ey_with_div:.1f}\", r\"\")\n",
    "res += newval(\"eyWithoutDivDimLess\", f\"{1000*ey_without_div:.1f}\", r\"\")\n",
    "res += newval(\"eyWithDivErr\", f\"{1000*ey_with_div_err:.1f}\", r\"nm\")\n",
    "res += newval(\"eyWithoutDivErr\", f\"{1000*ey_without_div_err:.1f}\", r\"nm\")\n",
    "res += newval(\"varNerror\", f\"{varN_error_fit:.1e}\", r\"\")\n",
    "res += newval(\"noiseLevel\", f\"{noise_level:.1e}\", r\"\")\n",
    "res += newval(\"noiseLevelV\", f\"{noise_level_V2:.1e}\", r\"V^2\")\n",
    "res += newval(\"theta\", f\"{test_light_source_theta:.2e}\", r\"\")\n",
    "res += newval(\"thetarms\", f\"{np.sqrt(test_light_source_theta):.2e}\", r\"\")\n",
    "res += newval(\"xi\", f\"{xi:.2f}\", r\"\")\n",
    "res += newval(\"Dx\", f\"{Dx:.0f}\", r\"cm\")\n",
    "res += newval(\"betax\", f\"{betax:.0f}\", r\"cm\")\n",
    "res += newval(\"betay\", f\"{betay:.0f}\", r\"cm\")\n",
    "res += newval(\"alphax\", f\"{alphax:.2f}\",r'')\n",
    "res += newval(\"alphay\", f\"{alphay:.2f}\",r'')\n",
    "res += newval(\"szZeroCur\", f\"{sz_zero_cur:.0f}\", r\"cm\" )\n",
    "res += newval(\"spZeroCur\", f\"{delta_rms:.1e}\", r'')\n",
    "res += newval(\"wfLen\", \"1.5\", \"ms\")\n",
    "res += newval(\"Nrev\", f\"{nrev:.0f}\", \"\")\n",
    "res += newval(\"EbeamDimLess\", f\"{Ebeam:.1f}\", \"\")\n",
    "res += newval(\"Ebeam\", f\"{Ebeam:.1f}\", 'MeV')\n",
    "res += newval(\"Ku\", f\"{Ku:.1f}\", '')\n",
    "res += newval(\"lambdaone\", f\"{lambda1:.2f}\", r'\\micro m')\n",
    "res += newval(\"Ibeam\", f\"{Ibeam:.1f}\", 'mA')\n",
    "res += newval(\"Mround\", f\"{Mr:.1e}\", '')\n",
    "res += newval(\"Mflat\", f\"{Mf:.1e}\", '')\n",
    "res += newval(\"zobs\", f\"{zobs:.1f}\", 'm')\n",
    "res += newval(\"semiApertureX\", f\"{apx_mrad:.1f}\", 'mrad')\n",
    "res += newval(\"semiApertureY\", f\"{apy_mrad:.1f}\", 'mrad')\n",
    "res += newval(\"oneOverGammaNu\", f\"{np.sqrt(1+Ku**2/2)/gamma/np.sqrt(Nu)/2*1e3:.1f}\", 'mrad')\n",
    "res += newval(\"photonFluxMeasDimLess\", f\"{photonFluxMeas:.1e}\", '')\n",
    "res += newval(\"photonFluxTheorDimLess\", f\"{photonFluxTheor:.1e}\", '')\n",
    "res += newval(\"photonFluxMeas\", f\"{photonFluxMeas:.1e}\", 'photoelectrons/electron')\n",
    "res += newval(\"photonFluxTheor\", f\"{photonFluxTheor:.1e}\", 'photoelectrons/electron')\n",
    "res += newval(\"AmpToPhotoel\", f\"{integrator_to_photoelectrons:.2e}\",\n",
    "              \"photoelectrons/V\")\n",
    "res += newval(\"Kuerror\", f\"{Ku_error:.2f}\", '')\n",
    "res += newval(\"Ebeamerror\", f\"{Ebeam_error:.0f}\", \"MeV\")\n",
    "res += newval(\"HybridErrorbar\", f\"{hybrid_errorbar*100:.0f}\",r'\\percent')\n",
    "res += newval(\"NundPer\", f\"{Nu:.1f}\", \"\")\n",
    "\n",
    "\n",
    "for kind in [\"round\", \"flat\"]:\n",
    "    res+='\\n'+r'% '+kind+\" beam parameters\"+'\\n'\n",
    "    bp_df = pd.read_csv(\n",
    "        shift.get_results_dir().fi(f\"beam_params_vs_current_{kind}.csv\"))\n",
    "    sx_func = interp1d(bp_df[\"N\"], bp_df['Sigma_um_X'],\n",
    "                       bounds_error=False, fill_value=\"extrapolate\")\n",
    "    sy_func = interp1d(bp_df[\"N\"], bp_df['Sigma_um_Y'],\n",
    "                       bounds_error=False, fill_value=\"extrapolate\")\n",
    "    sz_func = interp1d(bp_df[\"N\"], bp_df['sz_um'],\n",
    "                       bounds_error=False, fill_value=\"extrapolate\")\n",
    "    ex_func = interp1d(bp_df[\"N\"], bp_df['ex_um'],\n",
    "                       bounds_error=False, fill_value=\"extrapolate\")\n",
    "    ey_func = interp1d(bp_df[\"N\"], bp_df['ey_um'],\n",
    "                       bounds_error=False, fill_value=\"extrapolate\")\n",
    "    dpp_func = interp1d(bp_df[\"N\"], bp_df['dp/p'],\n",
    "                        bounds_error=False, fill_value=\"extrapolate\")\n",
    "    cspeed = get_from_config(\"c_m/s\")\n",
    "    Ibeam = get_from_config(\"NominalBeamCurrent_mA\")\n",
    "    N_to_I = 1/sum_channel_to_photoelectrons/cur_to_sum_channel\n",
    "    sx = sx_func(N0)\n",
    "    sy = sy_func(N0) if (kind == \"round\") else sy_flat\n",
    "    sz = sz_func(N0)\n",
    "    ex = ex_func(N0)\n",
    "    ey = ey_func(N0) if (kind == \"round\") else ey_flat\n",
    "    dpp = dpp_func(N0)\n",
    "    for sym, var in zip([\"sx\", \"sy\"],[sx, sy]):\n",
    "        res+= newval(sym+kind, f\"{var:.1f}\", r'\\micro m')\n",
    "    for sym, var in zip([\"ex\", \"ey\"],[ex*1e3, ey*1e3]):\n",
    "        res+=newval(sym+kind, f\"{var:.1f}\", r'nm')\n",
    "    res+=newval('sz'+kind, f\"{sz/10000:.0f}\", r'cm')\n",
    "    res+=newval('st'+kind, f\"{sz/1000000/cspeed*1e9:.2f}\", r'ns')\n",
    "    res+=newval('dpp'+kind, f\"{dpp:.1e}\", '')\n",
    "print(res)"
   ]
  },
  {
   "cell_type": "code",
   "execution_count": 19,
   "metadata": {},
   "outputs": [],
   "source": [
    "with open(\"/home/ilobach/FUR_Run2_experiment_paper/numericalvalues.sty\", 'w') as f:\n",
    "    f.write(res)"
   ]
  },
  {
   "cell_type": "code",
   "execution_count": null,
   "metadata": {},
   "outputs": [],
   "source": []
  },
  {
   "cell_type": "code",
   "execution_count": null,
   "metadata": {},
   "outputs": [],
   "source": []
  },
  {
   "cell_type": "code",
   "execution_count": null,
   "metadata": {},
   "outputs": [],
   "source": []
  }
 ],
 "metadata": {
  "kernelspec": {
   "display_name": "fur",
   "language": "python",
   "name": "fur"
  },
  "language_info": {
   "codemirror_mode": {
    "name": "ipython",
    "version": 3
   },
   "file_extension": ".py",
   "mimetype": "text/x-python",
   "name": "python",
   "nbconvert_exporter": "python",
   "pygments_lexer": "ipython3",
   "version": "3.6.8"
  }
 },
 "nbformat": 4,
 "nbformat_minor": 4
}
