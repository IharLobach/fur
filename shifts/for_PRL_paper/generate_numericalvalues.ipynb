{
 "cells": [
  {
   "cell_type": "code",
   "execution_count": 2,
   "metadata": {},
   "outputs": [],
   "source": [
    "import numpy as np\n",
    "import pandas as pd\n",
    "import sys\n",
    "import os\n",
    "import fur.path_assistant as path_assistant\n",
    "shift = path_assistant.PathAssistant('shift_03_16_2020',\n",
    "    ignore_files=['RefCurve_2020-03-16_0_084020_test.Wfm.bin',\n",
    "                  'RefCurve_2020-03-16_153_155200.Wfm.bin'])\n",
    "from config import get_from_config, save_to_config\n",
    "from scipy.interpolate import interp1d"
   ]
  },
  {
   "cell_type": "code",
   "execution_count": 3,
   "metadata": {},
   "outputs": [],
   "source": [
    "def newval(name, val, unit):\n",
    "    return (r'\\newcommand{\\val'+name+r'}{\\SI{'\n",
    "              +val\n",
    "              +r'}{'\n",
    "              +unit\n",
    "              +r'}}'+'\\n')"
   ]
  },
  {
   "cell_type": "code",
   "execution_count": 4,
   "metadata": {},
   "outputs": [],
   "source": [
    "cur_to_sum_channel = get_from_config(\"Beam_current_to_Sum_channel_ampl_V/mA\")\n",
    "sum_channel_to_photoelectrons =\\\n",
    "    get_from_config('sum_channel_to_photoelectrons')\n",
    "meas_photons_per_electron =\\\n",
    "    get_from_config(\"Measured_photons_per_electron\")\n",
    "meas_photons_per_electron\n",
    "cspeed = get_from_config(\"c_m/s\")\n",
    "Ibeam = get_from_config(\"NominalBeamCurrent_mA\")\n",
    "N_to_I = 1/sum_channel_to_photoelectrons/cur_to_sum_channel\n",
    "N0 = Ibeam/N_to_I\n",
    "Ku = get_from_config(\"K_peak\")\n",
    "gamma = get_from_config(\"gamma\")\n",
    "Ebeam = 0.511*gamma\n",
    "Ku_error = get_from_config(\"Ku_error\")\n",
    "Ebeam_error= get_from_config(\"Ebeam_error_MeV\")\n",
    "und_per = get_from_config(\"Undulator_period_m\")\n",
    "lambda1 = und_per/2/gamma**2*(1+Ku**2/2)*1e6\n",
    "zobs = get_from_config(\"z_obs_m\")\n",
    "inch = 0.0254 # m\n",
    "apx_mrad = 1e3*inch/zobs\n",
    "apy_mrad = apx_mrad/np.sqrt(2)\n",
    "integrator_to_photoelectrons =\\\n",
    "    get_from_config(\"integrator_amp_to_photoelectrons\")\n",
    "hybrid_balance_error = get_from_config(\"HybridBalanceError\")\n",
    "hybrid_errorbar = 2*hybrid_balance_error"
   ]
  },
  {
   "cell_type": "code",
   "execution_count": 5,
   "metadata": {},
   "outputs": [],
   "source": [
    "res_df_loaded = \\\n",
    "    pd.read_csv(shift.get_results_dir().fi('meas_ROUND_03_16_2020.csv'),\n",
    "                index_col=0)\n",
    "res_df_ROUND = res_df_loaded[res_df_loaded['N']<2.25e7]\n",
    "res_df_loaded = \\\n",
    "    pd.read_csv(shift.get_results_dir().fi('meas_FLAT_03_16_2020.csv'),\n",
    "                index_col=0)\n",
    "res_df_FLAT = res_df_loaded[res_df_loaded['N']<2.4e7]\n",
    "MrMf = []\n",
    "for res_df in [res_df_ROUND, res_df_FLAT]:\n",
    "    res_df = res_df.sort_values(by='N')\n",
    "    varN = np.interp(N0, res_df['N'], res_df['varN'])\n",
    "    M = N0**2/(varN-N0)\n",
    "    MrMf.append(M)\n",
    "Mr, Mf = MrMf"
   ]
  },
  {
   "cell_type": "markdown",
   "metadata": {},
   "source": [
    "## Re-calculate predicted photons per electron"
   ]
  },
  {
   "cell_type": "code",
   "execution_count": 6,
   "metadata": {},
   "outputs": [],
   "source": [
    "# from wiggler_radiation.Wigrad.wigrad_generator import \\\n",
    "#     generate_wr_sim_with_wigrad_results\n",
    "# wr_sim = generate_wr_sim_with_wigrad_results(\n",
    "# K_peak_in=Ku,\n",
    "# gamma_in=gamma)\n",
    "# ampx3d = wr_sim.get_amplittude_3D(polarization='x')\n",
    "# mesh = get_from_config(\"radiation_mesh\")\n",
    "# xmin, xmax, _ = mesh[0]\n",
    "# xmin = xmin/zobs\n",
    "# xmax = xmax/zobs\n",
    "# ymin, ymax, _ = mesh[1]\n",
    "# ymin = ymin/zobs\n",
    "# ymax = ymax/zobs\n",
    "# lmin, lmax, _ = mesh[2]\n",
    "# dax = (xmax-xmin)/(mesh[0][2]-1)\n",
    "# day = (ymax-ymin)/(mesh[1][2]-1)\n",
    "# dl = (lmax-lmin)/(mesh[2][2]-1)\n",
    "# tot =dax*day*dl*np.sum(np.absolute(ampx3d)**2)\n",
    "# save_to_config(\"Predicted_photons_per_electron_wigrad\", tot)"
   ]
  },
  {
   "cell_type": "code",
   "execution_count": 7,
   "metadata": {},
   "outputs": [],
   "source": [
    "photonFluxMeas = get_from_config(\"Measured_photons_per_electron\")\n",
    "photonFluxTheor = get_from_config(\"Predicted_photons_per_electron_wigrad\")"
   ]
  },
  {
   "cell_type": "code",
   "execution_count": 8,
   "metadata": {},
   "outputs": [],
   "source": [
    "# Vertical size and emittance of flat beam\n",
    "meas_FLAT = pd.read_csv(\n",
    "    shift.get_results_dir().fi('meas_FLAT_03_16_2020.csv'), index_col=0)\n",
    "meas_FLAT = meas_FLAT.sort_values('N')\n",
    "sy_flat = np.interp(N0, meas_FLAT['N'], meas_FLAT['sy_rec'])\n",
    "ey_flat = np.interp(N0, meas_FLAT['N'], meas_FLAT['ey_rec'])"
   ]
  },
  {
   "cell_type": "code",
   "execution_count": 9,
   "metadata": {},
   "outputs": [],
   "source": [
    "Nu = 10.5"
   ]
  },
  {
   "cell_type": "code",
   "execution_count": 10,
   "metadata": {},
   "outputs": [
    {
     "name": "stdout",
     "output_type": "stream",
     "text": [
      "% Do not edit this file. It is generated by a Python script.\n",
      "\\ProvidesPackage{numericalvalues}\n",
      "\\usepackage{siunitx}\n",
      "\n",
      "\n",
      "\\newcommand{\\valwfLen}{\\SI{1.5}{ms}}\n",
      "\\newcommand{\\valNrev}{\\SI{11000}{}}\n",
      "\\newcommand{\\valEbeamDimLess}{\\SI{96.4}{}}\n",
      "\\newcommand{\\valEbeam}{\\SI{96.4}{MeV}}\n",
      "\\newcommand{\\valKu}{\\SI{1.0}{}}\n",
      "\\newcommand{\\vallambdaone}{\\SI{1.16}{\\micro m}}\n",
      "\\newcommand{\\valIbeam}{\\SI{2.0}{mA}}\n",
      "\\newcommand{\\valMround}{\\SI{3.8e+06}{}}\n",
      "\\newcommand{\\valMflat}{\\SI{4.3e+06}{}}\n",
      "\\newcommand{\\valzobs}{\\SI{3.5}{m}}\n",
      "\\newcommand{\\valsemiApertureX}{\\SI{7.3}{mrad}}\n",
      "\\newcommand{\\valsemiApertureY}{\\SI{5.1}{mrad}}\n",
      "\\newcommand{\\valoneOverGammaNu}{\\SI{1.6}{mrad}}\n",
      "\\newcommand{\\valphotonFluxMeas}{\\SI{8.8e-03}{photoelectrons/electron}}\n",
      "\\newcommand{\\valphotonFluxTheor}{\\SI{9.1e-03}{photoelectrons/electron}}\n",
      "\\newcommand{\\valAmpToPhotoel}{\\SI{2.08e+07}{photoelectrons/V}}\n",
      "\\newcommand{\\valKuerror}{\\SI{0.03}{}}\n",
      "\\newcommand{\\valEbeamerror}{\\SI{1}{MeV}}\n",
      "\\newcommand{\\valHybridErrorbar}{\\SI{8}{\\percent}}\n",
      "\\newcommand{\\valNundPer}{\\SI{10.5}{}}\n",
      "\n",
      "% round beam parameters\n",
      "\\newcommand{\\valsxround}{\\SI{512.7}{\\micro m}}\n",
      "\\newcommand{\\valsyround}{\\SI{299.2}{\\micro m}}\n",
      "\\newcommand{\\valexround}{\\SI{98.2}{nm}}\n",
      "\\newcommand{\\valeyround}{\\SI{91.0}{nm}}\n",
      "\\newcommand{\\valszround}{\\SI{27.0}{cm}}\n",
      "\\newcommand{\\valstround}{\\SI{0.90}{ns}}\n",
      "\\newcommand{\\valdppround}{\\SI{2.5e-04}{}}\n",
      "\n",
      "% flat beam parameters\n",
      "\\newcommand{\\valsxflat}{\\SI{1159.2}{\\micro m}}\n",
      "\\newcommand{\\valsyflat}{\\SI{129.2}{\\micro m}}\n",
      "\\newcommand{\\valexflat}{\\SI{621.2}{nm}}\n",
      "\\newcommand{\\valeyflat}{\\SI{17.0}{nm}}\n",
      "\\newcommand{\\valszflat}{\\SI{29.8}{cm}}\n",
      "\\newcommand{\\valstflat}{\\SI{0.99}{ns}}\n",
      "\\newcommand{\\valdppflat}{\\SI{2.8e-04}{}}\n",
      "\n"
     ]
    }
   ],
   "source": [
    "res = \\\n",
    "    r'% Do not edit this file. It is generated by a Python script.'+'\\n'\\\n",
    "    +r'\\ProvidesPackage{numericalvalues}'+'\\n'\\\n",
    "    +r'\\usepackage{siunitx}'+'\\n'+'\\n'+'\\n'\n",
    "\n",
    "res += newval(\"wfLen\", \"1.5\", \"ms\")\n",
    "res += newval(\"Nrev\", \"11000\", \"\")\n",
    "res += newval(\"EbeamDimLess\", f\"{Ebeam:.1f}\", \"\")\n",
    "res += newval(\"Ebeam\", f\"{Ebeam:.1f}\", 'MeV')\n",
    "res += newval(\"Ku\", f\"{Ku:.1f}\", '')\n",
    "res += newval(\"lambdaone\", f\"{lambda1:.2f}\", r'\\micro m')\n",
    "res += newval(\"Ibeam\", f\"{Ibeam:.1f}\", 'mA')\n",
    "res += newval(\"Mround\", f\"{Mr:.1e}\", '')\n",
    "res += newval(\"Mflat\", f\"{Mf:.1e}\", '')\n",
    "res += newval(\"zobs\", f\"{zobs:.1f}\", 'm')\n",
    "res += newval(\"semiApertureX\", f\"{apx_mrad:.1f}\", 'mrad')\n",
    "res += newval(\"semiApertureY\", f\"{apy_mrad:.1f}\", 'mrad')\n",
    "res += newval(\"oneOverGammaNu\", f\"{1/gamma/np.sqrt(Nu)*1e3:.1f}\", 'mrad')\n",
    "res += newval(\"photonFluxMeas\", f\"{photonFluxMeas:.1e}\", 'photoelectrons/electron')\n",
    "res += newval(\"photonFluxTheor\", f\"{photonFluxTheor:.1e}\", 'photoelectrons/electron')\n",
    "res += newval(\"AmpToPhotoel\", f\"{integrator_to_photoelectrons:.2e}\",\n",
    "              \"photoelectrons/V\")\n",
    "res += newval(\"Kuerror\", f\"{Ku_error:.2f}\", '')\n",
    "res += newval(\"Ebeamerror\", f\"{Ebeam_error:.0f}\", \"MeV\")\n",
    "res += newval(\"HybridErrorbar\", f\"{hybrid_errorbar*100:.0f}\",r'\\percent')\n",
    "res += newval(\"NundPer\", f\"{Nu:.1f}\", \"\")\n",
    "\n",
    "\n",
    "for kind in [\"round\", \"flat\"]:\n",
    "    res+='\\n'+r'% '+kind+\" beam parameters\"+'\\n'\n",
    "    bp_df = pd.read_csv(\n",
    "        shift.get_results_dir().fi(f\"beam_params_vs_current_{kind}.csv\"))\n",
    "    sx_func = interp1d(bp_df[\"N\"], bp_df['Sigma_um_X'],\n",
    "                       bounds_error=False, fill_value=\"extrapolate\")\n",
    "    sy_func = interp1d(bp_df[\"N\"], bp_df['Sigma_um_Y'],\n",
    "                       bounds_error=False, fill_value=\"extrapolate\")\n",
    "    sz_func = interp1d(bp_df[\"N\"], bp_df['sz_um'],\n",
    "                       bounds_error=False, fill_value=\"extrapolate\")\n",
    "    ex_func = interp1d(bp_df[\"N\"], bp_df['ex_um'],\n",
    "                       bounds_error=False, fill_value=\"extrapolate\")\n",
    "    ey_func = interp1d(bp_df[\"N\"], bp_df['ey_um'],\n",
    "                       bounds_error=False, fill_value=\"extrapolate\")\n",
    "    dpp_func = interp1d(bp_df[\"N\"], bp_df['dp/p'],\n",
    "                        bounds_error=False, fill_value=\"extrapolate\")\n",
    "    cspeed = get_from_config(\"c_m/s\")\n",
    "    Ibeam = get_from_config(\"NominalBeamCurrent_mA\")\n",
    "    N_to_I = 1/sum_channel_to_photoelectrons/cur_to_sum_channel\n",
    "    sx = sx_func(N0)\n",
    "    sy = sy_func(N0) if (kind == \"round\") else sy_flat\n",
    "    sz = sz_func(N0)\n",
    "    ex = ex_func(N0)\n",
    "    ey = ey_func(N0) if (kind == \"round\") else ey_flat\n",
    "    dpp = dpp_func(N0)\n",
    "    for sym, var in zip([\"sx\", \"sy\"],[sx, sy]):\n",
    "        res+= newval(sym+kind, f\"{var:.1f}\", r'\\micro m')\n",
    "    for sym, var in zip([\"ex\", \"ey\"],[ex*1e3, ey*1e3]):\n",
    "        res+=newval(sym+kind, f\"{var:.1f}\", r'nm')\n",
    "    res+=newval('sz'+kind, f\"{sz/10000:.1f}\", r'cm')\n",
    "    res+=newval('st'+kind, f\"{sz/1000000/cspeed*1e9:.2f}\", r'ns')\n",
    "    res+=newval('dpp'+kind, f\"{dpp:.1e}\", '')\n",
    "print(res)"
   ]
  },
  {
   "cell_type": "code",
   "execution_count": 11,
   "metadata": {},
   "outputs": [],
   "source": [
    "with open(\"/home/ilobach/FUR_Run2_experiment_paper/numericalvalues.sty\", 'w') as f:\n",
    "    f.write(res)"
   ]
  },
  {
   "cell_type": "code",
   "execution_count": null,
   "metadata": {},
   "outputs": [],
   "source": []
  }
 ],
 "metadata": {
  "kernelspec": {
   "display_name": "fur",
   "language": "python",
   "name": "fur"
  },
  "language_info": {
   "codemirror_mode": {
    "name": "ipython",
    "version": 3
   },
   "file_extension": ".py",
   "mimetype": "text/x-python",
   "name": "python",
   "nbconvert_exporter": "python",
   "pygments_lexer": "ipython3",
   "version": "3.6.8"
  }
 },
 "nbformat": 4,
 "nbformat_minor": 4
}
